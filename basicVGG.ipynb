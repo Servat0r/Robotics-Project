{
  "nbformat": 4,
  "nbformat_minor": 0,
  "metadata": {
    "colab": {
      "provenance": [],
      "gpuType": "T4",
      "mount_file_id": "1dgy5wSAgZqLFZuq3YzqzMqBikDigJ0hv",
      "authorship_tag": "ABX9TyMCjjmUi3hJijary/7ZqYgH",
      "include_colab_link": true
    },
    "kernelspec": {
      "name": "python3",
      "display_name": "Python 3"
    },
    "language_info": {
      "name": "python"
    },
    "accelerator": "GPU"
  },
  "cells": [
    {
      "cell_type": "markdown",
      "metadata": {
        "id": "view-in-github",
        "colab_type": "text"
      },
      "source": [
        "<a href=\"https://colab.research.google.com/github/Servat0r/Robotics-Project/blob/master/basicVGG.ipynb\" target=\"_parent\"><img src=\"https://colab.research.google.com/assets/colab-badge.svg\" alt=\"Open In Colab\"/></a>"
      ]
    },
    {
      "cell_type": "code",
      "execution_count": null,
      "metadata": {
        "id": "sZwUR2otINEy",
        "colab": {
          "base_uri": "https://localhost:8080/"
        },
        "outputId": "c0061e01-39f7-4b38-8522-95f60e32e7e2"
      },
      "outputs": [
        {
          "output_type": "stream",
          "name": "stdout",
          "text": [
            "/content/drive/MyDrive/Colab Notebooks\n"
          ]
        }
      ],
      "source": [
        "%cd \"/content/drive/MyDrive/Colab Notebooks\""
      ]
    },
    {
      "cell_type": "code",
      "source": [
        "import numpy as np\n",
        "import cv2\n",
        "from PIL import Image\n",
        "import os\n",
        "import PIL\n",
        "import tensorflow as tf\n",
        "import tensorflow_datasets as tfds\n",
        "import glob\n",
        "import matplotlib.pyplot as plt\n",
        "from sklearn.model_selection import train_test_split\n",
        "import json"
      ],
      "metadata": {
        "id": "SQPStd3oS0ZY"
      },
      "execution_count": null,
      "outputs": []
    },
    {
      "cell_type": "code",
      "source": [
        "%run utils.ipynb"
      ],
      "metadata": {
        "id": "YX9L15BaW45Z"
      },
      "execution_count": null,
      "outputs": []
    },
    {
      "cell_type": "code",
      "source": [
        "batch_size = 32  #len(images)\n",
        "resize_perc = 0.125\n",
        "n_epochs = 100"
      ],
      "metadata": {
        "id": "z-aomMUlYor8"
      },
      "execution_count": null,
      "outputs": []
    },
    {
      "cell_type": "markdown",
      "source": [
        "### With 135x240 images"
      ],
      "metadata": {
        "id": "f8l7q42oY-2Z"
      }
    },
    {
      "cell_type": "code",
      "source": [
        "images, tip_pos = get_dataset(target_size_perc=resize_perc, force_resize=False, rescale_coordinates=100)"
      ],
      "metadata": {
        "id": "7WmgYNpV_h84"
      },
      "execution_count": null,
      "outputs": []
    },
    {
      "cell_type": "markdown",
      "source": [
        "Now we do *train-test split* with a validation and test percentage over the *original* dataset of $20\\%$."
      ],
      "metadata": {
        "id": "tQVrDrUTe0lk"
      }
    },
    {
      "cell_type": "code",
      "source": [
        "(train_images, train_tip_pos), (eval_images, eval_tip_pos), (test_images, test_tip_pos) = \\\n",
        "  holdout_split(0.6, 0.2, 0.2, images, tip_pos)"
      ],
      "metadata": {
        "id": "MpmHecKFezts"
      },
      "execution_count": null,
      "outputs": []
    },
    {
      "cell_type": "markdown",
      "source": [
        "Free up some space:"
      ],
      "metadata": {
        "id": "Ud8utW6lwJJj"
      }
    },
    {
      "cell_type": "code",
      "source": [
        "del images"
      ],
      "metadata": {
        "id": "_IqtHy-7ME5E"
      },
      "execution_count": null,
      "outputs": []
    },
    {
      "cell_type": "markdown",
      "source": [
        "We now define a *VGG-like* initial CNN to experiment: $5$ *VGG-blocks* (two `Conv2D` and a `MaxPool2D` layers with a kernel size of $4$ and `relu` activation) and a flattening and final `Dense` block."
      ],
      "metadata": {
        "id": "xjdL2W3Yd3nn"
      }
    },
    {
      "cell_type": "code",
      "source": [
        "model = tf.keras.Sequential([\n",
        "\n",
        "  tf.keras.layers.Conv2D(8, kernel_size=4, activation='relu', padding='same', input_shape=(135, 240, 3)),\n",
        "  tf.keras.layers.Conv2D(8, kernel_size=4, activation='relu', padding='same'),\n",
        "  tf.keras.layers.MaxPool2D(),\n",
        "\n",
        "  tf.keras.layers.Conv2D(16, kernel_size=4, activation='relu', padding='same'),\n",
        "  tf.keras.layers.Conv2D(16, kernel_size=4, activation='relu', padding='same'),\n",
        "  tf.keras.layers.MaxPool2D(),\n",
        "\n",
        "  tf.keras.layers.Conv2D(32, kernel_size=4, activation='relu', padding='same'),\n",
        "  tf.keras.layers.Conv2D(32, kernel_size=4, activation='relu', padding='same'),\n",
        "  tf.keras.layers.MaxPool2D(),\n",
        "\n",
        "  tf.keras.layers.Conv2D(64, kernel_size=4, activation='relu', padding='same'),\n",
        "  tf.keras.layers.Conv2D(64, kernel_size=4, activation='relu', padding='same'),\n",
        "  tf.keras.layers.MaxPool2D(),\n",
        "\n",
        "  tf.keras.layers.Conv2D(128, kernel_size=4, activation='relu', padding='same'),\n",
        "  tf.keras.layers.Conv2D(128, kernel_size=4, activation='relu', padding='same'),\n",
        "  tf.keras.layers.MaxPool2D(),\n",
        "\n",
        "  tf.keras.layers.Flatten(),\n",
        "  tf.keras.layers.Dense(units=256, activation='relu'),\n",
        "  tf.keras.layers.Dense(units=50, activation='relu'),\n",
        "  tf.keras.layers.Dense(units=3, activation='linear')\n",
        "])"
      ],
      "metadata": {
        "id": "t7lS39A7jDCi"
      },
      "execution_count": null,
      "outputs": []
    },
    {
      "cell_type": "code",
      "source": [
        "model.compile(\n",
        "    loss='mean_squared_error', metrics=['MeanAbsoluteError', mean_euclidean_error],\n",
        "    optimizer=tf.keras.optimizers.Adam(learning_rate=1e-3)\n",
        ")"
      ],
      "metadata": {
        "id": "8DmTt9Xso22V"
      },
      "execution_count": null,
      "outputs": []
    },
    {
      "cell_type": "code",
      "source": [
        "model.summary()"
      ],
      "metadata": {
        "colab": {
          "base_uri": "https://localhost:8080/"
        },
        "id": "TSzLXcb6qhD1",
        "outputId": "46e3bf92-b1d5-4338-dbf0-621370ff073d"
      },
      "execution_count": null,
      "outputs": [
        {
          "output_type": "stream",
          "name": "stdout",
          "text": [
            "Model: \"sequential\"\n",
            "_________________________________________________________________\n",
            " Layer (type)                Output Shape              Param #   \n",
            "=================================================================\n",
            " conv2d (Conv2D)             (None, 135, 240, 8)       392       \n",
            "                                                                 \n",
            " conv2d_1 (Conv2D)           (None, 135, 240, 8)       1032      \n",
            "                                                                 \n",
            " max_pooling2d (MaxPooling2D  (None, 67, 120, 8)       0         \n",
            " )                                                               \n",
            "                                                                 \n",
            " conv2d_2 (Conv2D)           (None, 67, 120, 16)       2064      \n",
            "                                                                 \n",
            " conv2d_3 (Conv2D)           (None, 67, 120, 16)       4112      \n",
            "                                                                 \n",
            " max_pooling2d_1 (MaxPooling  (None, 33, 60, 16)       0         \n",
            " 2D)                                                             \n",
            "                                                                 \n",
            " conv2d_4 (Conv2D)           (None, 33, 60, 32)        8224      \n",
            "                                                                 \n",
            " conv2d_5 (Conv2D)           (None, 33, 60, 32)        16416     \n",
            "                                                                 \n",
            " max_pooling2d_2 (MaxPooling  (None, 16, 30, 32)       0         \n",
            " 2D)                                                             \n",
            "                                                                 \n",
            " conv2d_6 (Conv2D)           (None, 16, 30, 64)        32832     \n",
            "                                                                 \n",
            " conv2d_7 (Conv2D)           (None, 16, 30, 64)        65600     \n",
            "                                                                 \n",
            " max_pooling2d_3 (MaxPooling  (None, 8, 15, 64)        0         \n",
            " 2D)                                                             \n",
            "                                                                 \n",
            " conv2d_8 (Conv2D)           (None, 8, 15, 128)        131200    \n",
            "                                                                 \n",
            " conv2d_9 (Conv2D)           (None, 8, 15, 128)        262272    \n",
            "                                                                 \n",
            " max_pooling2d_4 (MaxPooling  (None, 4, 7, 128)        0         \n",
            " 2D)                                                             \n",
            "                                                                 \n",
            " flatten (Flatten)           (None, 3584)              0         \n",
            "                                                                 \n",
            " dense (Dense)               (None, 256)               917760    \n",
            "                                                                 \n",
            " dense_1 (Dense)             (None, 50)                12850     \n",
            "                                                                 \n",
            " dense_2 (Dense)             (None, 3)                 153       \n",
            "                                                                 \n",
            "=================================================================\n",
            "Total params: 1,454,907\n",
            "Trainable params: 1,454,907\n",
            "Non-trainable params: 0\n",
            "_________________________________________________________________\n"
          ]
        }
      ]
    },
    {
      "cell_type": "code",
      "source": [
        "history = model.fit(\n",
        "    train_images, train_tip_pos, epochs=n_epochs,\n",
        "    validation_data=(eval_images, eval_tip_pos),\n",
        "    batch_size = batch_size, shuffle=True,\n",
        ")"
      ],
      "metadata": {
        "colab": {
          "base_uri": "https://localhost:8080/"
        },
        "id": "vei7pk8no3tm",
        "outputId": "6afe2ee0-1c3c-4444-87c7-c8883ce77f90"
      },
      "execution_count": null,
      "outputs": [
        {
          "output_type": "stream",
          "name": "stdout",
          "text": [
            "Epoch 1/100\n",
            "13/13 [==============================] - 19s 182ms/step - loss: 151.9279 - mean_absolute_error: 10.0687 - mean_euclidean_error: 20.8014 - val_loss: 156.7936 - val_mean_absolute_error: 10.2339 - val_mean_euclidean_error: 21.6239\n",
            "Epoch 2/100\n",
            "13/13 [==============================] - 1s 46ms/step - loss: 120.5807 - mean_absolute_error: 9.1374 - mean_euclidean_error: 18.5873 - val_loss: 49.1379 - val_mean_absolute_error: 5.7802 - val_mean_euclidean_error: 11.2768\n",
            "Epoch 3/100\n",
            "13/13 [==============================] - 1s 46ms/step - loss: 48.5902 - mean_absolute_error: 5.8643 - mean_euclidean_error: 11.6095 - val_loss: 37.5609 - val_mean_absolute_error: 4.7731 - val_mean_euclidean_error: 9.9884\n",
            "Epoch 4/100\n",
            "13/13 [==============================] - 1s 45ms/step - loss: 43.3828 - mean_absolute_error: 5.3611 - mean_euclidean_error: 10.8889 - val_loss: 37.6569 - val_mean_absolute_error: 4.7923 - val_mean_euclidean_error: 10.0446\n",
            "Epoch 5/100\n",
            "13/13 [==============================] - 1s 44ms/step - loss: 42.2564 - mean_absolute_error: 5.2466 - mean_euclidean_error: 10.7360 - val_loss: 39.0491 - val_mean_absolute_error: 4.9673 - val_mean_euclidean_error: 10.3778\n",
            "Epoch 6/100\n",
            "13/13 [==============================] - 1s 44ms/step - loss: 42.4114 - mean_absolute_error: 5.2495 - mean_euclidean_error: 10.7639 - val_loss: 39.0373 - val_mean_absolute_error: 4.9605 - val_mean_euclidean_error: 10.3715\n",
            "Epoch 7/100\n",
            "13/13 [==============================] - 1s 46ms/step - loss: 41.4684 - mean_absolute_error: 5.1648 - mean_euclidean_error: 10.6262 - val_loss: 37.8330 - val_mean_absolute_error: 4.8136 - val_mean_euclidean_error: 10.0863\n",
            "Epoch 8/100\n",
            "13/13 [==============================] - 1s 48ms/step - loss: 41.4054 - mean_absolute_error: 5.1531 - mean_euclidean_error: 10.6094 - val_loss: 37.3892 - val_mean_absolute_error: 4.7503 - val_mean_euclidean_error: 9.9517\n",
            "Epoch 9/100\n",
            "13/13 [==============================] - 1s 45ms/step - loss: 41.0957 - mean_absolute_error: 5.1207 - mean_euclidean_error: 10.5408 - val_loss: 37.6621 - val_mean_absolute_error: 4.7921 - val_mean_euclidean_error: 10.0539\n",
            "Epoch 10/100\n",
            "13/13 [==============================] - 1s 48ms/step - loss: 41.2159 - mean_absolute_error: 5.1233 - mean_euclidean_error: 10.5840 - val_loss: 37.6480 - val_mean_absolute_error: 4.7750 - val_mean_euclidean_error: 9.9775\n",
            "Epoch 11/100\n",
            "13/13 [==============================] - 1s 46ms/step - loss: 40.9911 - mean_absolute_error: 5.1010 - mean_euclidean_error: 10.5293 - val_loss: 38.0223 - val_mean_absolute_error: 4.8477 - val_mean_euclidean_error: 10.1797\n",
            "Epoch 12/100\n",
            "13/13 [==============================] - 1s 47ms/step - loss: 41.2844 - mean_absolute_error: 5.1498 - mean_euclidean_error: 10.5773 - val_loss: 37.3899 - val_mean_absolute_error: 4.7600 - val_mean_euclidean_error: 10.0175\n",
            "Epoch 13/100\n",
            "13/13 [==============================] - 1s 57ms/step - loss: 41.0504 - mean_absolute_error: 5.1225 - mean_euclidean_error: 10.5420 - val_loss: 37.2516 - val_mean_absolute_error: 4.7305 - val_mean_euclidean_error: 9.8903\n",
            "Epoch 14/100\n",
            "13/13 [==============================] - 1s 57ms/step - loss: 40.8643 - mean_absolute_error: 5.1191 - mean_euclidean_error: 10.5505 - val_loss: 36.9347 - val_mean_absolute_error: 4.7065 - val_mean_euclidean_error: 9.9481\n",
            "Epoch 15/100\n",
            "13/13 [==============================] - 1s 57ms/step - loss: 40.8098 - mean_absolute_error: 5.0930 - mean_euclidean_error: 10.5053 - val_loss: 36.8510 - val_mean_absolute_error: 4.6940 - val_mean_euclidean_error: 9.8713\n",
            "Epoch 16/100\n",
            "13/13 [==============================] - 1s 50ms/step - loss: 40.0341 - mean_absolute_error: 5.0399 - mean_euclidean_error: 10.3958 - val_loss: 36.1436 - val_mean_absolute_error: 4.5996 - val_mean_euclidean_error: 9.7616\n",
            "Epoch 17/100\n",
            "13/13 [==============================] - 1s 51ms/step - loss: 38.8432 - mean_absolute_error: 4.9336 - mean_euclidean_error: 10.2100 - val_loss: 35.0455 - val_mean_absolute_error: 4.5416 - val_mean_euclidean_error: 9.6868\n",
            "Epoch 18/100\n",
            "13/13 [==============================] - 1s 58ms/step - loss: 36.0846 - mean_absolute_error: 4.6557 - mean_euclidean_error: 9.7983 - val_loss: 33.2366 - val_mean_absolute_error: 4.4355 - val_mean_euclidean_error: 9.1750\n",
            "Epoch 19/100\n",
            "13/13 [==============================] - 1s 46ms/step - loss: 29.9238 - mean_absolute_error: 4.1825 - mean_euclidean_error: 8.7851 - val_loss: 27.3757 - val_mean_absolute_error: 3.8181 - val_mean_euclidean_error: 8.0852\n",
            "Epoch 20/100\n",
            "13/13 [==============================] - 1s 46ms/step - loss: 28.9430 - mean_absolute_error: 4.2102 - mean_euclidean_error: 8.7070 - val_loss: 28.1387 - val_mean_absolute_error: 4.0893 - val_mean_euclidean_error: 8.7766\n",
            "Epoch 21/100\n",
            "13/13 [==============================] - 1s 45ms/step - loss: 23.8991 - mean_absolute_error: 3.7278 - mean_euclidean_error: 7.8491 - val_loss: 20.8063 - val_mean_absolute_error: 3.0685 - val_mean_euclidean_error: 7.0265\n",
            "Epoch 22/100\n",
            "13/13 [==============================] - 1s 47ms/step - loss: 21.3956 - mean_absolute_error: 3.2853 - mean_euclidean_error: 7.2124 - val_loss: 19.8977 - val_mean_absolute_error: 2.9823 - val_mean_euclidean_error: 6.8275\n",
            "Epoch 23/100\n",
            "13/13 [==============================] - 1s 47ms/step - loss: 19.5466 - mean_absolute_error: 3.0039 - mean_euclidean_error: 6.8428 - val_loss: 18.7358 - val_mean_absolute_error: 2.6754 - val_mean_euclidean_error: 6.4604\n",
            "Epoch 24/100\n",
            "13/13 [==============================] - 1s 46ms/step - loss: 17.5765 - mean_absolute_error: 2.7002 - mean_euclidean_error: 6.3373 - val_loss: 15.2483 - val_mean_absolute_error: 2.5882 - val_mean_euclidean_error: 5.8571\n",
            "Epoch 25/100\n",
            "13/13 [==============================] - 1s 45ms/step - loss: 9.4444 - mean_absolute_error: 2.1682 - mean_euclidean_error: 4.6784 - val_loss: 8.5511 - val_mean_absolute_error: 2.0784 - val_mean_euclidean_error: 4.4828\n",
            "Epoch 26/100\n",
            "13/13 [==============================] - 1s 46ms/step - loss: 6.7512 - mean_absolute_error: 1.8959 - mean_euclidean_error: 4.0023 - val_loss: 6.6781 - val_mean_absolute_error: 1.9390 - val_mean_euclidean_error: 4.1904\n",
            "Epoch 27/100\n",
            "13/13 [==============================] - 1s 47ms/step - loss: 3.9485 - mean_absolute_error: 1.5266 - mean_euclidean_error: 3.0896 - val_loss: 1.9390 - val_mean_absolute_error: 1.0952 - val_mean_euclidean_error: 2.2345\n",
            "Epoch 28/100\n",
            "13/13 [==============================] - 1s 45ms/step - loss: 2.4915 - mean_absolute_error: 1.2391 - mean_euclidean_error: 2.4682 - val_loss: 1.3786 - val_mean_absolute_error: 0.8681 - val_mean_euclidean_error: 1.7847\n",
            "Epoch 29/100\n",
            "13/13 [==============================] - 1s 47ms/step - loss: 1.5005 - mean_absolute_error: 0.9424 - mean_euclidean_error: 1.8910 - val_loss: 1.0573 - val_mean_absolute_error: 0.7947 - val_mean_euclidean_error: 1.6146\n",
            "Epoch 30/100\n",
            "13/13 [==============================] - 1s 47ms/step - loss: 1.1159 - mean_absolute_error: 0.7756 - mean_euclidean_error: 1.6109 - val_loss: 0.7258 - val_mean_absolute_error: 0.6207 - val_mean_euclidean_error: 1.3312\n",
            "Epoch 31/100\n",
            "13/13 [==============================] - 1s 45ms/step - loss: 0.7843 - mean_absolute_error: 0.6377 - mean_euclidean_error: 1.3229 - val_loss: 0.6898 - val_mean_absolute_error: 0.5965 - val_mean_euclidean_error: 1.2874\n",
            "Epoch 32/100\n",
            "13/13 [==============================] - 1s 46ms/step - loss: 0.6594 - mean_absolute_error: 0.5882 - mean_euclidean_error: 1.2167 - val_loss: 0.6431 - val_mean_absolute_error: 0.5601 - val_mean_euclidean_error: 1.2321\n",
            "Epoch 33/100\n",
            "13/13 [==============================] - 1s 46ms/step - loss: 0.5692 - mean_absolute_error: 0.5438 - mean_euclidean_error: 1.1303 - val_loss: 0.6830 - val_mean_absolute_error: 0.5613 - val_mean_euclidean_error: 1.2508\n",
            "Epoch 34/100\n",
            "13/13 [==============================] - 1s 46ms/step - loss: 0.5818 - mean_absolute_error: 0.5418 - mean_euclidean_error: 1.1432 - val_loss: 0.6017 - val_mean_absolute_error: 0.5854 - val_mean_euclidean_error: 1.1983\n",
            "Epoch 35/100\n",
            "13/13 [==============================] - 1s 48ms/step - loss: 0.5779 - mean_absolute_error: 0.5577 - mean_euclidean_error: 1.1518 - val_loss: 0.5914 - val_mean_absolute_error: 0.5491 - val_mean_euclidean_error: 1.1561\n",
            "Epoch 36/100\n",
            "13/13 [==============================] - 1s 50ms/step - loss: 0.4461 - mean_absolute_error: 0.4816 - mean_euclidean_error: 1.0070 - val_loss: 0.5060 - val_mean_absolute_error: 0.4975 - val_mean_euclidean_error: 1.0664\n",
            "Epoch 37/100\n",
            "13/13 [==============================] - 1s 51ms/step - loss: 0.3581 - mean_absolute_error: 0.4353 - mean_euclidean_error: 0.9035 - val_loss: 0.4489 - val_mean_absolute_error: 0.5129 - val_mean_euclidean_error: 1.0567\n",
            "Epoch 38/100\n",
            "13/13 [==============================] - 1s 51ms/step - loss: 0.3439 - mean_absolute_error: 0.4357 - mean_euclidean_error: 0.8909 - val_loss: 0.4274 - val_mean_absolute_error: 0.4667 - val_mean_euclidean_error: 0.9824\n",
            "Epoch 39/100\n",
            "13/13 [==============================] - 1s 51ms/step - loss: 0.3671 - mean_absolute_error: 0.4382 - mean_euclidean_error: 0.9051 - val_loss: 0.4207 - val_mean_absolute_error: 0.4985 - val_mean_euclidean_error: 1.0171\n",
            "Epoch 40/100\n",
            "13/13 [==============================] - 1s 51ms/step - loss: 0.2725 - mean_absolute_error: 0.3761 - mean_euclidean_error: 0.7786 - val_loss: 0.3634 - val_mean_absolute_error: 0.4295 - val_mean_euclidean_error: 0.9106\n",
            "Epoch 41/100\n",
            "13/13 [==============================] - 1s 51ms/step - loss: 0.2535 - mean_absolute_error: 0.3616 - mean_euclidean_error: 0.7475 - val_loss: 0.3599 - val_mean_absolute_error: 0.4238 - val_mean_euclidean_error: 0.8912\n",
            "Epoch 42/100\n",
            "13/13 [==============================] - 1s 47ms/step - loss: 0.2449 - mean_absolute_error: 0.3483 - mean_euclidean_error: 0.7212 - val_loss: 0.2978 - val_mean_absolute_error: 0.3896 - val_mean_euclidean_error: 0.8386\n",
            "Epoch 43/100\n",
            "13/13 [==============================] - 1s 47ms/step - loss: 0.2168 - mean_absolute_error: 0.3298 - mean_euclidean_error: 0.6872 - val_loss: 0.3147 - val_mean_absolute_error: 0.3919 - val_mean_euclidean_error: 0.8304\n",
            "Epoch 44/100\n",
            "13/13 [==============================] - 1s 45ms/step - loss: 0.2264 - mean_absolute_error: 0.3378 - mean_euclidean_error: 0.7021 - val_loss: 0.3891 - val_mean_absolute_error: 0.4322 - val_mean_euclidean_error: 0.9296\n",
            "Epoch 45/100\n",
            "13/13 [==============================] - 1s 47ms/step - loss: 0.2661 - mean_absolute_error: 0.3731 - mean_euclidean_error: 0.7741 - val_loss: 0.2937 - val_mean_absolute_error: 0.3878 - val_mean_euclidean_error: 0.8200\n",
            "Epoch 46/100\n",
            "13/13 [==============================] - 1s 45ms/step - loss: 0.1933 - mean_absolute_error: 0.3235 - mean_euclidean_error: 0.6615 - val_loss: 0.2708 - val_mean_absolute_error: 0.3493 - val_mean_euclidean_error: 0.7637\n",
            "Epoch 47/100\n",
            "13/13 [==============================] - 1s 47ms/step - loss: 0.1647 - mean_absolute_error: 0.2934 - mean_euclidean_error: 0.6014 - val_loss: 0.3144 - val_mean_absolute_error: 0.3808 - val_mean_euclidean_error: 0.8161\n",
            "Epoch 48/100\n",
            "13/13 [==============================] - 1s 46ms/step - loss: 0.2020 - mean_absolute_error: 0.3196 - mean_euclidean_error: 0.6706 - val_loss: 0.2804 - val_mean_absolute_error: 0.3644 - val_mean_euclidean_error: 0.7838\n",
            "Epoch 49/100\n",
            "13/13 [==============================] - 1s 47ms/step - loss: 0.1693 - mean_absolute_error: 0.2880 - mean_euclidean_error: 0.6093 - val_loss: 0.2387 - val_mean_absolute_error: 0.3480 - val_mean_euclidean_error: 0.7317\n",
            "Epoch 50/100\n",
            "13/13 [==============================] - 1s 47ms/step - loss: 0.1392 - mean_absolute_error: 0.2667 - mean_euclidean_error: 0.5531 - val_loss: 0.2672 - val_mean_absolute_error: 0.3584 - val_mean_euclidean_error: 0.7751\n",
            "Epoch 51/100\n",
            "13/13 [==============================] - 1s 47ms/step - loss: 0.1790 - mean_absolute_error: 0.3052 - mean_euclidean_error: 0.6399 - val_loss: 0.3088 - val_mean_absolute_error: 0.4112 - val_mean_euclidean_error: 0.8515\n",
            "Epoch 52/100\n",
            "13/13 [==============================] - 1s 47ms/step - loss: 0.2013 - mean_absolute_error: 0.3400 - mean_euclidean_error: 0.6863 - val_loss: 0.3303 - val_mean_absolute_error: 0.4168 - val_mean_euclidean_error: 0.8696\n",
            "Epoch 53/100\n",
            "13/13 [==============================] - 1s 47ms/step - loss: 0.1607 - mean_absolute_error: 0.2971 - mean_euclidean_error: 0.6052 - val_loss: 0.2980 - val_mean_absolute_error: 0.3935 - val_mean_euclidean_error: 0.8344\n",
            "Epoch 54/100\n",
            "13/13 [==============================] - 1s 47ms/step - loss: 0.1486 - mean_absolute_error: 0.2839 - mean_euclidean_error: 0.5859 - val_loss: 0.2542 - val_mean_absolute_error: 0.3586 - val_mean_euclidean_error: 0.7551\n",
            "Epoch 55/100\n",
            "13/13 [==============================] - 1s 48ms/step - loss: 0.1689 - mean_absolute_error: 0.3033 - mean_euclidean_error: 0.6313 - val_loss: 0.2795 - val_mean_absolute_error: 0.3730 - val_mean_euclidean_error: 0.7943\n",
            "Epoch 56/100\n",
            "13/13 [==============================] - 1s 46ms/step - loss: 0.1529 - mean_absolute_error: 0.2887 - mean_euclidean_error: 0.5923 - val_loss: 0.2333 - val_mean_absolute_error: 0.3346 - val_mean_euclidean_error: 0.7069\n",
            "Epoch 57/100\n",
            "13/13 [==============================] - 1s 46ms/step - loss: 0.1184 - mean_absolute_error: 0.2460 - mean_euclidean_error: 0.5088 - val_loss: 0.2285 - val_mean_absolute_error: 0.3182 - val_mean_euclidean_error: 0.6962\n",
            "Epoch 58/100\n",
            "13/13 [==============================] - 1s 50ms/step - loss: 0.1183 - mean_absolute_error: 0.2437 - mean_euclidean_error: 0.5139 - val_loss: 0.2506 - val_mean_absolute_error: 0.3481 - val_mean_euclidean_error: 0.7580\n",
            "Epoch 59/100\n",
            "13/13 [==============================] - 1s 52ms/step - loss: 0.1121 - mean_absolute_error: 0.2427 - mean_euclidean_error: 0.4993 - val_loss: 0.2374 - val_mean_absolute_error: 0.3421 - val_mean_euclidean_error: 0.7251\n",
            "Epoch 60/100\n",
            "13/13 [==============================] - 1s 50ms/step - loss: 0.1007 - mean_absolute_error: 0.2250 - mean_euclidean_error: 0.4695 - val_loss: 0.2863 - val_mean_absolute_error: 0.3642 - val_mean_euclidean_error: 0.8042\n",
            "Epoch 61/100\n",
            "13/13 [==============================] - 1s 50ms/step - loss: 0.1210 - mean_absolute_error: 0.2385 - mean_euclidean_error: 0.5058 - val_loss: 0.1944 - val_mean_absolute_error: 0.3062 - val_mean_euclidean_error: 0.6516\n",
            "Epoch 62/100\n",
            "13/13 [==============================] - 1s 50ms/step - loss: 0.1044 - mean_absolute_error: 0.2300 - mean_euclidean_error: 0.4787 - val_loss: 0.2214 - val_mean_absolute_error: 0.3361 - val_mean_euclidean_error: 0.7101\n",
            "Epoch 63/100\n",
            "13/13 [==============================] - 1s 52ms/step - loss: 0.1261 - mean_absolute_error: 0.2599 - mean_euclidean_error: 0.5367 - val_loss: 0.2109 - val_mean_absolute_error: 0.3166 - val_mean_euclidean_error: 0.6763\n",
            "Epoch 64/100\n",
            "13/13 [==============================] - 1s 50ms/step - loss: 0.1094 - mean_absolute_error: 0.2360 - mean_euclidean_error: 0.4914 - val_loss: 0.2319 - val_mean_absolute_error: 0.3238 - val_mean_euclidean_error: 0.7037\n",
            "Epoch 65/100\n",
            "13/13 [==============================] - 1s 47ms/step - loss: 0.0945 - mean_absolute_error: 0.2195 - mean_euclidean_error: 0.4600 - val_loss: 0.1909 - val_mean_absolute_error: 0.3091 - val_mean_euclidean_error: 0.6517\n",
            "Epoch 66/100\n",
            "13/13 [==============================] - 1s 47ms/step - loss: 0.0916 - mean_absolute_error: 0.2197 - mean_euclidean_error: 0.4550 - val_loss: 0.1941 - val_mean_absolute_error: 0.2946 - val_mean_euclidean_error: 0.6465\n",
            "Epoch 67/100\n",
            "13/13 [==============================] - 1s 46ms/step - loss: 0.0740 - mean_absolute_error: 0.1981 - mean_euclidean_error: 0.4070 - val_loss: 0.2092 - val_mean_absolute_error: 0.3325 - val_mean_euclidean_error: 0.6917\n",
            "Epoch 68/100\n",
            "13/13 [==============================] - 1s 47ms/step - loss: 0.0675 - mean_absolute_error: 0.1883 - mean_euclidean_error: 0.3924 - val_loss: 0.1947 - val_mean_absolute_error: 0.3029 - val_mean_euclidean_error: 0.6434\n",
            "Epoch 69/100\n",
            "13/13 [==============================] - 1s 48ms/step - loss: 0.0697 - mean_absolute_error: 0.1918 - mean_euclidean_error: 0.3932 - val_loss: 0.1689 - val_mean_absolute_error: 0.2816 - val_mean_euclidean_error: 0.6113\n",
            "Epoch 70/100\n",
            "13/13 [==============================] - 1s 46ms/step - loss: 0.0591 - mean_absolute_error: 0.1764 - mean_euclidean_error: 0.3645 - val_loss: 0.1706 - val_mean_absolute_error: 0.2878 - val_mean_euclidean_error: 0.6141\n",
            "Epoch 71/100\n",
            "13/13 [==============================] - 1s 47ms/step - loss: 0.0682 - mean_absolute_error: 0.1902 - mean_euclidean_error: 0.3931 - val_loss: 0.1737 - val_mean_absolute_error: 0.2881 - val_mean_euclidean_error: 0.6263\n",
            "Epoch 72/100\n",
            "13/13 [==============================] - 1s 47ms/step - loss: 0.0660 - mean_absolute_error: 0.1885 - mean_euclidean_error: 0.3899 - val_loss: 0.1858 - val_mean_absolute_error: 0.2912 - val_mean_euclidean_error: 0.6253\n",
            "Epoch 73/100\n",
            "13/13 [==============================] - 1s 47ms/step - loss: 0.0839 - mean_absolute_error: 0.2143 - mean_euclidean_error: 0.4411 - val_loss: 0.1797 - val_mean_absolute_error: 0.2921 - val_mean_euclidean_error: 0.6257\n",
            "Epoch 74/100\n",
            "13/13 [==============================] - 1s 46ms/step - loss: 0.0965 - mean_absolute_error: 0.2298 - mean_euclidean_error: 0.4750 - val_loss: 0.2074 - val_mean_absolute_error: 0.3315 - val_mean_euclidean_error: 0.7046\n",
            "Epoch 75/100\n",
            "13/13 [==============================] - 1s 46ms/step - loss: 0.0754 - mean_absolute_error: 0.2030 - mean_euclidean_error: 0.4176 - val_loss: 0.1668 - val_mean_absolute_error: 0.2862 - val_mean_euclidean_error: 0.6140\n",
            "Epoch 76/100\n",
            "13/13 [==============================] - 1s 48ms/step - loss: 0.0628 - mean_absolute_error: 0.1844 - mean_euclidean_error: 0.3822 - val_loss: 0.1730 - val_mean_absolute_error: 0.2863 - val_mean_euclidean_error: 0.6062\n",
            "Epoch 77/100\n",
            "13/13 [==============================] - 1s 47ms/step - loss: 0.0664 - mean_absolute_error: 0.1974 - mean_euclidean_error: 0.3988 - val_loss: 0.1832 - val_mean_absolute_error: 0.2992 - val_mean_euclidean_error: 0.6464\n",
            "Epoch 78/100\n",
            "13/13 [==============================] - 1s 47ms/step - loss: 0.0582 - mean_absolute_error: 0.1757 - mean_euclidean_error: 0.3643 - val_loss: 0.1575 - val_mean_absolute_error: 0.2722 - val_mean_euclidean_error: 0.5800\n",
            "Epoch 79/100\n",
            "13/13 [==============================] - 1s 47ms/step - loss: 0.0520 - mean_absolute_error: 0.1655 - mean_euclidean_error: 0.3430 - val_loss: 0.1722 - val_mean_absolute_error: 0.2740 - val_mean_euclidean_error: 0.6009\n",
            "Epoch 80/100\n",
            "13/13 [==============================] - 1s 46ms/step - loss: 0.0596 - mean_absolute_error: 0.1779 - mean_euclidean_error: 0.3674 - val_loss: 0.1812 - val_mean_absolute_error: 0.2788 - val_mean_euclidean_error: 0.6172\n",
            "Epoch 81/100\n",
            "13/13 [==============================] - 1s 51ms/step - loss: 0.0597 - mean_absolute_error: 0.1821 - mean_euclidean_error: 0.3734 - val_loss: 0.1904 - val_mean_absolute_error: 0.3003 - val_mean_euclidean_error: 0.6447\n",
            "Epoch 82/100\n",
            "13/13 [==============================] - 1s 53ms/step - loss: 0.0703 - mean_absolute_error: 0.1981 - mean_euclidean_error: 0.4081 - val_loss: 0.1849 - val_mean_absolute_error: 0.3035 - val_mean_euclidean_error: 0.6422\n",
            "Epoch 83/100\n",
            "13/13 [==============================] - 1s 55ms/step - loss: 0.0722 - mean_absolute_error: 0.1946 - mean_euclidean_error: 0.4081 - val_loss: 0.2373 - val_mean_absolute_error: 0.3235 - val_mean_euclidean_error: 0.7360\n",
            "Epoch 84/100\n",
            "13/13 [==============================] - 1s 52ms/step - loss: 0.0805 - mean_absolute_error: 0.2092 - mean_euclidean_error: 0.4361 - val_loss: 0.2084 - val_mean_absolute_error: 0.3040 - val_mean_euclidean_error: 0.6717\n",
            "Epoch 85/100\n",
            "13/13 [==============================] - 1s 52ms/step - loss: 0.0832 - mean_absolute_error: 0.2126 - mean_euclidean_error: 0.4416 - val_loss: 0.2674 - val_mean_absolute_error: 0.3438 - val_mean_euclidean_error: 0.7817\n",
            "Epoch 86/100\n",
            "13/13 [==============================] - 1s 59ms/step - loss: 0.0650 - mean_absolute_error: 0.1884 - mean_euclidean_error: 0.3895 - val_loss: 0.1904 - val_mean_absolute_error: 0.3053 - val_mean_euclidean_error: 0.6474\n",
            "Epoch 87/100\n",
            "13/13 [==============================] - 1s 48ms/step - loss: 0.0471 - mean_absolute_error: 0.1621 - mean_euclidean_error: 0.3318 - val_loss: 0.1629 - val_mean_absolute_error: 0.2652 - val_mean_euclidean_error: 0.5804\n",
            "Epoch 88/100\n",
            "13/13 [==============================] - 1s 49ms/step - loss: 0.0454 - mean_absolute_error: 0.1543 - mean_euclidean_error: 0.3248 - val_loss: 0.1785 - val_mean_absolute_error: 0.2977 - val_mean_euclidean_error: 0.6295\n",
            "Epoch 89/100\n",
            "13/13 [==============================] - 1s 45ms/step - loss: 0.0501 - mean_absolute_error: 0.1703 - mean_euclidean_error: 0.3429 - val_loss: 0.2246 - val_mean_absolute_error: 0.3697 - val_mean_euclidean_error: 0.7564\n",
            "Epoch 90/100\n",
            "13/13 [==============================] - 1s 48ms/step - loss: 0.0625 - mean_absolute_error: 0.1899 - mean_euclidean_error: 0.3868 - val_loss: 0.1743 - val_mean_absolute_error: 0.3023 - val_mean_euclidean_error: 0.6314\n",
            "Epoch 91/100\n",
            "13/13 [==============================] - 1s 48ms/step - loss: 0.0439 - mean_absolute_error: 0.1585 - mean_euclidean_error: 0.3179 - val_loss: 0.1479 - val_mean_absolute_error: 0.2593 - val_mean_euclidean_error: 0.5635\n",
            "Epoch 92/100\n",
            "13/13 [==============================] - 1s 47ms/step - loss: 0.0393 - mean_absolute_error: 0.1486 - mean_euclidean_error: 0.2999 - val_loss: 0.1665 - val_mean_absolute_error: 0.2854 - val_mean_euclidean_error: 0.6054\n",
            "Epoch 93/100\n",
            "13/13 [==============================] - 1s 46ms/step - loss: 0.0404 - mean_absolute_error: 0.1495 - mean_euclidean_error: 0.3036 - val_loss: 0.1442 - val_mean_absolute_error: 0.2543 - val_mean_euclidean_error: 0.5524\n",
            "Epoch 94/100\n",
            "13/13 [==============================] - 1s 48ms/step - loss: 0.0331 - mean_absolute_error: 0.1330 - mean_euclidean_error: 0.2741 - val_loss: 0.1462 - val_mean_absolute_error: 0.2572 - val_mean_euclidean_error: 0.5576\n",
            "Epoch 95/100\n",
            "13/13 [==============================] - 1s 46ms/step - loss: 0.0313 - mean_absolute_error: 0.1267 - mean_euclidean_error: 0.2605 - val_loss: 0.1613 - val_mean_absolute_error: 0.2760 - val_mean_euclidean_error: 0.5848\n",
            "Epoch 96/100\n",
            "13/13 [==============================] - 1s 47ms/step - loss: 0.0395 - mean_absolute_error: 0.1500 - mean_euclidean_error: 0.3054 - val_loss: 0.1579 - val_mean_absolute_error: 0.2710 - val_mean_euclidean_error: 0.5794\n",
            "Epoch 97/100\n",
            "13/13 [==============================] - 1s 47ms/step - loss: 0.0333 - mean_absolute_error: 0.1325 - mean_euclidean_error: 0.2745 - val_loss: 0.1660 - val_mean_absolute_error: 0.2897 - val_mean_euclidean_error: 0.6060\n",
            "Epoch 98/100\n",
            "13/13 [==============================] - 1s 47ms/step - loss: 0.0436 - mean_absolute_error: 0.1616 - mean_euclidean_error: 0.3291 - val_loss: 0.1541 - val_mean_absolute_error: 0.2757 - val_mean_euclidean_error: 0.5773\n",
            "Epoch 99/100\n",
            "13/13 [==============================] - 1s 47ms/step - loss: 0.0414 - mean_absolute_error: 0.1467 - mean_euclidean_error: 0.3064 - val_loss: 0.1678 - val_mean_absolute_error: 0.2768 - val_mean_euclidean_error: 0.5897\n",
            "Epoch 100/100\n",
            "13/13 [==============================] - 1s 48ms/step - loss: 0.0382 - mean_absolute_error: 0.1473 - mean_euclidean_error: 0.2999 - val_loss: 0.1736 - val_mean_absolute_error: 0.2899 - val_mean_euclidean_error: 0.6163\n"
          ]
        }
      ]
    },
    {
      "cell_type": "markdown",
      "source": [
        "Now we plot the obtained results:"
      ],
      "metadata": {
        "id": "l6xRXtda0sxg"
      }
    },
    {
      "cell_type": "code",
      "source": [
        "%matplotlib inline\n",
        "plot_metrics(\n",
        "    history, start_epoch=20, end_epoch=None,\n",
        "    metrics=['loss', 'mean_absolute_error', 'mean_euclidean_error'],\n",
        "    data_labels=[\n",
        "        ('Training Loss', 'Validation Loss'), ('Training MAE (cm)', 'Validation MAE (cm)'),\n",
        "        ('Training MEE (cm)', 'Validation MEE (cm)')\n",
        "    ],\n",
        "    axes_labels=[\n",
        "        ('Epochs', 'Loss'), ('Epochs', 'MAE'), ('Epochs', 'MEE')\n",
        "    ]\n",
        ")"
      ],
      "metadata": {
        "colab": {
          "base_uri": "https://localhost:8080/",
          "height": 449
        },
        "id": "NOLVgoN_0vzr",
        "outputId": "5d0d3faa-2c76-4142-b103-9df3ac0c46fa"
      },
      "execution_count": null,
      "outputs": [
        {
          "output_type": "display_data",
          "data": {
            "text/plain": [
              "<Figure size 640x480 with 3 Axes>"
            ],
            "image/png": "[encoded data removed]"
          },
          "metadata": {}
        }
      ]
    },
    {
      "cell_type": "markdown",
      "source": [
        "We now do a simple assessment on the quality of the predictions: given an input-output couple $(x, y = [y_1, y_2, y_3])$, if $\\tilde{y}$ is the value predicted by the model, we calculate the relative error: $\\left[\\dfrac{|y_1 - \\tilde{y_1} + \\epsilon|}{|y_1 + \\epsilon|}, \\dfrac{|y_2 - \\tilde{y_2} + \\epsilon|}{|y_2 + \\epsilon|}, \\dfrac{|y_3 - \\tilde{y_3} + \\epsilon|}{|y_3 + \\epsilon|}\\right]$, where $\\epsilon = 10^{-8}$ is a small constant to avoid dividing by $0$."
      ],
      "metadata": {
        "id": "AApgIjo6ggNY"
      }
    },
    {
      "cell_type": "code",
      "source": [
        "epsilon = 1e-8\n",
        "predictions = model.predict(eval_images)\n",
        "plot_relative_errors(predictions, eval_tip_pos, epsilon, max_error=1, nbins=20)"
      ],
      "metadata": {
        "colab": {
          "base_uri": "https://localhost:8080/",
          "height": 501
        },
        "id": "WzEmJDxzDOoE",
        "outputId": "872b59cd-b093-4e3a-8a32-a33e94573287"
      },
      "execution_count": null,
      "outputs": [
        {
          "output_type": "stream",
          "name": "stdout",
          "text": [
            "4/4 [==============================] - 0s 18ms/step\n",
            "103 103 103\n",
            "102 102 103\n"
          ]
        },
        {
          "output_type": "display_data",
          "data": {
            "text/plain": [
              "<Figure size 640x480 with 3 Axes>"
            ],
            "image/png": "[encoded data removed]"
          },
          "metadata": {}
        }
      ]
    },
    {
      "cell_type": "markdown",
      "source": [
        "...\n",
        "\n",
        "We now calculate also mean and standard deviation of loss, absolute and euclidean errors:"
      ],
      "metadata": {
        "id": "uAHHg59GwrQD"
      }
    },
    {
      "cell_type": "code",
      "source": [
        "mean_absolute_errors = tf.keras.metrics.mean_absolute_error(eval_tip_pos, predictions).numpy()\n",
        "print(f'Mean of MAE: {np.mean(mean_absolute_errors)}')\n",
        "print(f'Std of MAE: {np.std(mean_absolute_errors)}')\n",
        "\n",
        "mean_euclidean_errors = mean_euclidean_error(eval_tip_pos, predictions).numpy()\n",
        "print(f'Mean of MEE: {np.mean(mean_euclidean_errors)}')\n",
        "print(f'Std of MEE: {np.std(mean_euclidean_errors)}')"
      ],
      "metadata": {
        "id": "Ti-uD5r1w4j-"
      },
      "execution_count": null,
      "outputs": []
    },
    {
      "cell_type": "markdown",
      "source": [
        "We calculate them also along each axis:"
      ],
      "metadata": {
        "id": "txKm7wiQzENw"
      }
    },
    {
      "cell_type": "code",
      "source": [
        "distances = np.abs(eval_tip_pos - predictions)\n",
        "print(f'Mean Distance along axes: {np.mean(distances, axis=0)}')\n",
        "print(f'Std of Distance along axes: {np.std(distances, axis=0)}')"
      ],
      "metadata": {
        "id": "3RHqqr8Iy3q3"
      },
      "execution_count": null,
      "outputs": []
    },
    {
      "cell_type": "markdown",
      "source": [
        "Now we save model and history:"
      ],
      "metadata": {
        "id": "pgq9Rs-E0Sij"
      }
    },
    {
      "cell_type": "code",
      "source": [
        "model.save('baseVGG')"
      ],
      "metadata": {
        "colab": {
          "base_uri": "https://localhost:8080/"
        },
        "id": "_33rQFlpZzTb",
        "outputId": "6f28a869-2ffa-4bc2-ce85-42d90128117b"
      },
      "execution_count": null,
      "outputs": [
        {
          "output_type": "stream",
          "name": "stderr",
          "text": [
            "WARNING:absl:Found untraced functions such as _jit_compiled_convolution_op, _jit_compiled_convolution_op, _jit_compiled_convolution_op, _jit_compiled_convolution_op, _jit_compiled_convolution_op while saving (showing 5 of 10). These functions will not be directly callable after loading.\n"
          ]
        }
      ]
    },
    {
      "cell_type": "code",
      "source": [
        "json.dump(history.history, open('baseVGG.json', 'w'))"
      ],
      "metadata": {
        "id": "as2Vi7qAedHC"
      },
      "execution_count": null,
      "outputs": []
    },
    {
      "cell_type": "markdown",
      "source": [
        "Free up space:"
      ],
      "metadata": {
        "id": "PZPEwNIyPzNZ"
      }
    },
    {
      "cell_type": "code",
      "source": [
        "del model"
      ],
      "metadata": {
        "id": "TUMppw5jPyvf"
      },
      "execution_count": null,
      "outputs": []
    },
    {
      "cell_type": "markdown",
      "source": [
        "### With 270x480 images\n"
      ],
      "metadata": {
        "id": "WIJtAt43Zd_V"
      }
    },
    {
      "cell_type": "code",
      "source": [
        "images, tip_pos = get_dataset(target_size_perc=0.25, force_resize=False, rescale_coordinates=100)"
      ],
      "metadata": {
        "id": "QQjQsrVKZgOx"
      },
      "execution_count": null,
      "outputs": []
    },
    {
      "cell_type": "markdown",
      "source": [
        "Now we do *train-test split* with a validation percentage of $20\\%$."
      ],
      "metadata": {
        "id": "NLTqUELjZgOx"
      }
    },
    {
      "cell_type": "code",
      "source": [
        "(train_images, train_tip_pos), (eval_images, eval_tip_pos), (test_images, test_tip_pos) = \\\n",
        "  holdout_split(0.6, 0.2, 0.2, images, tip_pos)"
      ],
      "metadata": {
        "id": "OwdrRpLl0d9L"
      },
      "execution_count": null,
      "outputs": []
    },
    {
      "cell_type": "code",
      "source": [
        "del images"
      ],
      "metadata": {
        "id": "Hflb6uwuaCb5"
      },
      "execution_count": null,
      "outputs": []
    },
    {
      "cell_type": "code",
      "source": [
        "model = tf.keras.Sequential([\n",
        "\n",
        "  tf.keras.layers.Conv2D(8, kernel_size=4, activation='relu', padding='same', input_shape=(270, 480, 3)),\n",
        "  tf.keras.layers.Conv2D(8, kernel_size=4, activation='relu', padding='same'),\n",
        "  tf.keras.layers.MaxPool2D(),\n",
        "\n",
        "  tf.keras.layers.Conv2D(16, kernel_size=4, activation='relu', padding='same'),\n",
        "  tf.keras.layers.Conv2D(16, kernel_size=4, activation='relu', padding='same'),\n",
        "  tf.keras.layers.MaxPool2D(),\n",
        "\n",
        "  tf.keras.layers.Conv2D(32, kernel_size=4, activation='relu', padding='same'),\n",
        "  tf.keras.layers.Conv2D(32, kernel_size=4, activation='relu', padding='same'),\n",
        "  tf.keras.layers.MaxPool2D(),\n",
        "\n",
        "  tf.keras.layers.Conv2D(64, kernel_size=4, activation='relu', padding='same'),\n",
        "  tf.keras.layers.Conv2D(64, kernel_size=4, activation='relu', padding='same'),\n",
        "  tf.keras.layers.MaxPool2D(),\n",
        "\n",
        "  tf.keras.layers.Conv2D(128, kernel_size=4, activation='relu', padding='same'),\n",
        "  tf.keras.layers.Conv2D(128, kernel_size=4, activation='relu', padding='same'),\n",
        "  tf.keras.layers.MaxPool2D(),\n",
        "\n",
        "  tf.keras.layers.Conv2D(256, kernel_size=4, activation='relu', padding='same'),\n",
        "  tf.keras.layers.Conv2D(256, kernel_size=4, activation='relu', padding='same'),\n",
        "  tf.keras.layers.MaxPool2D(),\n",
        "\n",
        "  tf.keras.layers.Flatten(),\n",
        "  tf.keras.layers.Dense(units=512, activation='relu'),\n",
        "  tf.keras.layers.Dense(units=64, activation='relu'),\n",
        "  tf.keras.layers.Dense(units=3, activation='linear')\n",
        "])"
      ],
      "metadata": {
        "id": "dIVnyWSpZgOy"
      },
      "execution_count": null,
      "outputs": []
    },
    {
      "cell_type": "code",
      "source": [
        "model.compile(\n",
        "    loss='mean_squared_error', metrics=['MeanAbsoluteError', mean_euclidean_error],\n",
        "    optimizer=tf.keras.optimizers.Adam(learning_rate=1e-3)\n",
        ")"
      ],
      "metadata": {
        "id": "H9kZkMVMZgOy"
      },
      "execution_count": null,
      "outputs": []
    },
    {
      "cell_type": "code",
      "source": [
        "model.summary()"
      ],
      "metadata": {
        "colab": {
          "base_uri": "https://localhost:8080/"
        },
        "outputId": "deaf1475-4d03-42a7-aa28-bd08aebc2737",
        "id": "SSFx_le8ZgOy"
      },
      "execution_count": null,
      "outputs": [
        {
          "output_type": "stream",
          "name": "stdout",
          "text": [
            "Model: \"sequential_1\"\n",
            "_________________________________________________________________\n",
            " Layer (type)                Output Shape              Param #   \n",
            "=================================================================\n",
            " conv2d_10 (Conv2D)          (None, 270, 480, 8)       392       \n",
            "                                                                 \n",
            " conv2d_11 (Conv2D)          (None, 270, 480, 8)       1032      \n",
            "                                                                 \n",
            " max_pooling2d_5 (MaxPooling  (None, 135, 240, 8)      0         \n",
            " 2D)                                                             \n",
            "                                                                 \n",
            " conv2d_12 (Conv2D)          (None, 135, 240, 16)      2064      \n",
            "                                                                 \n",
            " conv2d_13 (Conv2D)          (None, 135, 240, 16)      4112      \n",
            "                                                                 \n",
            " max_pooling2d_6 (MaxPooling  (None, 67, 120, 16)      0         \n",
            " 2D)                                                             \n",
            "                                                                 \n",
            " conv2d_14 (Conv2D)          (None, 67, 120, 32)       8224      \n",
            "                                                                 \n",
            " conv2d_15 (Conv2D)          (None, 67, 120, 32)       16416     \n",
            "                                                                 \n",
            " max_pooling2d_7 (MaxPooling  (None, 33, 60, 32)       0         \n",
            " 2D)                                                             \n",
            "                                                                 \n",
            " conv2d_16 (Conv2D)          (None, 33, 60, 64)        32832     \n",
            "                                                                 \n",
            " conv2d_17 (Conv2D)          (None, 33, 60, 64)        65600     \n",
            "                                                                 \n",
            " max_pooling2d_8 (MaxPooling  (None, 16, 30, 64)       0         \n",
            " 2D)                                                             \n",
            "                                                                 \n",
            " conv2d_18 (Conv2D)          (None, 16, 30, 128)       131200    \n",
            "                                                                 \n",
            " conv2d_19 (Conv2D)          (None, 16, 30, 128)       262272    \n",
            "                                                                 \n",
            " max_pooling2d_9 (MaxPooling  (None, 8, 15, 128)       0         \n",
            " 2D)                                                             \n",
            "                                                                 \n",
            " conv2d_20 (Conv2D)          (None, 8, 15, 256)        524544    \n",
            "                                                                 \n",
            " conv2d_21 (Conv2D)          (None, 8, 15, 256)        1048832   \n",
            "                                                                 \n",
            " max_pooling2d_10 (MaxPoolin  (None, 4, 7, 256)        0         \n",
            " g2D)                                                            \n",
            "                                                                 \n",
            " flatten_1 (Flatten)         (None, 7168)              0         \n",
            "                                                                 \n",
            " dense_3 (Dense)             (None, 512)               3670528   \n",
            "                                                                 \n",
            " dense_4 (Dense)             (None, 64)                32832     \n",
            "                                                                 \n",
            " dense_5 (Dense)             (None, 3)                 195       \n",
            "                                                                 \n",
            "=================================================================\n",
            "Total params: 5,801,075\n",
            "Trainable params: 5,801,075\n",
            "Non-trainable params: 0\n",
            "_________________________________________________________________\n"
          ]
        }
      ]
    },
    {
      "cell_type": "code",
      "source": [
        "history = model.fit(\n",
        "    train_images, train_tip_pos, epochs=n_epochs,\n",
        "    validation_data=(eval_images, eval_tip_pos),\n",
        "    batch_size = batch_size, shuffle=True,\n",
        ")"
      ],
      "metadata": {
        "colab": {
          "base_uri": "https://localhost:8080/"
        },
        "outputId": "e3dbd34d-1bd7-47c7-a175-8470c43caa0a",
        "id": "uy4C8SUwZgOy"
      },
      "execution_count": null,
      "outputs": [
        {
          "output_type": "stream",
          "name": "stdout",
          "text": [
            "Epoch 1/100\n",
            "13/13 [==============================] - 15s 518ms/step - loss: 220.9313 - mean_absolute_error: 11.5486 - mean_euclidean_error: 23.6962 - val_loss: 160.7294 - val_mean_absolute_error: 10.3304 - val_mean_euclidean_error: 21.8943\n",
            "Epoch 2/100\n",
            "13/13 [==============================] - 2s 176ms/step - loss: 116.0062 - mean_absolute_error: 8.8860 - mean_euclidean_error: 18.0037 - val_loss: 37.7142 - val_mean_absolute_error: 4.7945 - val_mean_euclidean_error: 10.0482\n",
            "Epoch 3/100\n",
            "13/13 [==============================] - 2s 165ms/step - loss: 46.5282 - mean_absolute_error: 5.6072 - mean_euclidean_error: 11.2649 - val_loss: 40.3427 - val_mean_absolute_error: 5.1007 - val_mean_euclidean_error: 10.5917\n",
            "Epoch 4/100\n",
            "13/13 [==============================] - 2s 175ms/step - loss: 43.3667 - mean_absolute_error: 5.2753 - mean_euclidean_error: 10.8834 - val_loss: 37.8088 - val_mean_absolute_error: 4.8117 - val_mean_euclidean_error: 10.1089\n",
            "Epoch 5/100\n",
            "13/13 [==============================] - 2s 172ms/step - loss: 42.1487 - mean_absolute_error: 5.2124 - mean_euclidean_error: 10.6892 - val_loss: 38.3586 - val_mean_absolute_error: 4.8390 - val_mean_euclidean_error: 10.0956\n",
            "Epoch 6/100\n",
            "13/13 [==============================] - 2s 193ms/step - loss: 41.8714 - mean_absolute_error: 5.1914 - mean_euclidean_error: 10.6421 - val_loss: 38.1745 - val_mean_absolute_error: 4.8562 - val_mean_euclidean_error: 10.1709\n",
            "Epoch 7/100\n",
            "13/13 [==============================] - 2s 174ms/step - loss: 41.8374 - mean_absolute_error: 5.1825 - mean_euclidean_error: 10.6838 - val_loss: 38.1068 - val_mean_absolute_error: 4.8501 - val_mean_euclidean_error: 10.1791\n",
            "Epoch 8/100\n",
            "13/13 [==============================] - 2s 165ms/step - loss: 41.4204 - mean_absolute_error: 5.1371 - mean_euclidean_error: 10.5972 - val_loss: 37.7296 - val_mean_absolute_error: 4.7807 - val_mean_euclidean_error: 9.9576\n",
            "Epoch 9/100\n",
            "13/13 [==============================] - 2s 163ms/step - loss: 41.6555 - mean_absolute_error: 5.1728 - mean_euclidean_error: 10.6474 - val_loss: 37.8421 - val_mean_absolute_error: 4.8111 - val_mean_euclidean_error: 10.0996\n",
            "Epoch 10/100\n",
            "13/13 [==============================] - 2s 173ms/step - loss: 41.3971 - mean_absolute_error: 5.1540 - mean_euclidean_error: 10.6082 - val_loss: 37.6763 - val_mean_absolute_error: 4.7811 - val_mean_euclidean_error: 9.9686\n",
            "Epoch 11/100\n",
            "13/13 [==============================] - 2s 176ms/step - loss: 41.7116 - mean_absolute_error: 5.1879 - mean_euclidean_error: 10.6362 - val_loss: 37.5936 - val_mean_absolute_error: 4.7704 - val_mean_euclidean_error: 9.9386\n",
            "Epoch 12/100\n",
            "13/13 [==============================] - 3s 213ms/step - loss: 41.8493 - mean_absolute_error: 5.1949 - mean_euclidean_error: 10.6760 - val_loss: 39.0960 - val_mean_absolute_error: 4.9715 - val_mean_euclidean_error: 10.3788\n",
            "Epoch 13/100\n",
            "13/13 [==============================] - 2s 183ms/step - loss: 42.1516 - mean_absolute_error: 5.2445 - mean_euclidean_error: 10.7188 - val_loss: 37.6729 - val_mean_absolute_error: 4.7793 - val_mean_euclidean_error: 9.9123\n",
            "Epoch 14/100\n",
            "13/13 [==============================] - 2s 163ms/step - loss: 41.4379 - mean_absolute_error: 5.1515 - mean_euclidean_error: 10.5974 - val_loss: 38.0235 - val_mean_absolute_error: 4.8312 - val_mean_euclidean_error: 10.1084\n",
            "Epoch 15/100\n",
            "13/13 [==============================] - 2s 162ms/step - loss: 41.5477 - mean_absolute_error: 5.1629 - mean_euclidean_error: 10.6295 - val_loss: 37.6284 - val_mean_absolute_error: 4.7803 - val_mean_euclidean_error: 10.0103\n",
            "Epoch 16/100\n",
            "13/13 [==============================] - 2s 171ms/step - loss: 41.4227 - mean_absolute_error: 5.1507 - mean_euclidean_error: 10.5949 - val_loss: 38.0872 - val_mean_absolute_error: 4.8366 - val_mean_euclidean_error: 10.1142\n",
            "Epoch 17/100\n",
            "13/13 [==============================] - 2s 173ms/step - loss: 41.5556 - mean_absolute_error: 5.1635 - mean_euclidean_error: 10.6247 - val_loss: 37.9140 - val_mean_absolute_error: 4.8242 - val_mean_euclidean_error: 10.1339\n",
            "Epoch 18/100\n",
            "13/13 [==============================] - 2s 189ms/step - loss: 41.7530 - mean_absolute_error: 5.1739 - mean_euclidean_error: 10.6418 - val_loss: 38.2342 - val_mean_absolute_error: 4.8303 - val_mean_euclidean_error: 10.0138\n",
            "Epoch 19/100\n",
            "13/13 [==============================] - 2s 169ms/step - loss: 41.8319 - mean_absolute_error: 5.1968 - mean_euclidean_error: 10.6599 - val_loss: 37.4569 - val_mean_absolute_error: 4.7625 - val_mean_euclidean_error: 10.0037\n",
            "Epoch 20/100\n",
            "13/13 [==============================] - 2s 162ms/step - loss: 41.6475 - mean_absolute_error: 5.1607 - mean_euclidean_error: 10.6137 - val_loss: 38.2442 - val_mean_absolute_error: 4.8454 - val_mean_euclidean_error: 10.1219\n",
            "Epoch 21/100\n",
            "13/13 [==============================] - 2s 171ms/step - loss: 41.6991 - mean_absolute_error: 5.1941 - mean_euclidean_error: 10.6703 - val_loss: 37.3596 - val_mean_absolute_error: 4.7454 - val_mean_euclidean_error: 9.9248\n",
            "Epoch 22/100\n",
            "13/13 [==============================] - 2s 163ms/step - loss: 41.5724 - mean_absolute_error: 5.1721 - mean_euclidean_error: 10.6061 - val_loss: 38.3244 - val_mean_absolute_error: 4.8737 - val_mean_euclidean_error: 10.1999\n",
            "Epoch 23/100\n",
            "13/13 [==============================] - 2s 170ms/step - loss: 41.4843 - mean_absolute_error: 5.1678 - mean_euclidean_error: 10.6373 - val_loss: 37.8760 - val_mean_absolute_error: 4.8117 - val_mean_euclidean_error: 10.1155\n",
            "Epoch 24/100\n",
            "13/13 [==============================] - 2s 185ms/step - loss: 41.6978 - mean_absolute_error: 5.1669 - mean_euclidean_error: 10.6270 - val_loss: 38.0008 - val_mean_absolute_error: 4.8293 - val_mean_euclidean_error: 10.1052\n",
            "Epoch 25/100\n",
            "13/13 [==============================] - 2s 171ms/step - loss: 41.6089 - mean_absolute_error: 5.1569 - mean_euclidean_error: 10.6363 - val_loss: 37.5918 - val_mean_absolute_error: 4.7705 - val_mean_euclidean_error: 9.9022\n",
            "Epoch 26/100\n",
            "13/13 [==============================] - 2s 161ms/step - loss: 41.6190 - mean_absolute_error: 5.1613 - mean_euclidean_error: 10.6343 - val_loss: 38.2112 - val_mean_absolute_error: 4.8232 - val_mean_euclidean_error: 10.0206\n",
            "Epoch 27/100\n",
            "13/13 [==============================] - 2s 158ms/step - loss: 41.4213 - mean_absolute_error: 5.1502 - mean_euclidean_error: 10.6038 - val_loss: 37.3357 - val_mean_absolute_error: 4.7431 - val_mean_euclidean_error: 9.9368\n",
            "Epoch 28/100\n",
            "13/13 [==============================] - 2s 162ms/step - loss: 41.6308 - mean_absolute_error: 5.1572 - mean_euclidean_error: 10.6271 - val_loss: 37.4705 - val_mean_absolute_error: 4.7568 - val_mean_euclidean_error: 9.9535\n",
            "Epoch 29/100\n",
            "13/13 [==============================] - 2s 162ms/step - loss: 42.3714 - mean_absolute_error: 5.2559 - mean_euclidean_error: 10.7444 - val_loss: 38.3190 - val_mean_absolute_error: 4.8425 - val_mean_euclidean_error: 10.1081\n",
            "Epoch 30/100\n",
            "13/13 [==============================] - 2s 170ms/step - loss: 42.4622 - mean_absolute_error: 5.2721 - mean_euclidean_error: 10.7239 - val_loss: 37.3725 - val_mean_absolute_error: 4.7510 - val_mean_euclidean_error: 9.9688\n",
            "Epoch 31/100\n",
            "13/13 [==============================] - 2s 184ms/step - loss: 41.7564 - mean_absolute_error: 5.1604 - mean_euclidean_error: 10.6271 - val_loss: 39.2772 - val_mean_absolute_error: 4.9935 - val_mean_euclidean_error: 10.4173\n",
            "Epoch 32/100\n",
            "13/13 [==============================] - 2s 172ms/step - loss: 42.0745 - mean_absolute_error: 5.2168 - mean_euclidean_error: 10.7324 - val_loss: 37.4042 - val_mean_absolute_error: 4.7483 - val_mean_euclidean_error: 9.9065\n",
            "Epoch 33/100\n",
            "13/13 [==============================] - 2s 172ms/step - loss: 41.4690 - mean_absolute_error: 5.1553 - mean_euclidean_error: 10.6076 - val_loss: 38.3885 - val_mean_absolute_error: 4.8763 - val_mean_euclidean_error: 10.2059\n",
            "Epoch 34/100\n",
            "13/13 [==============================] - 2s 171ms/step - loss: 41.8525 - mean_absolute_error: 5.2032 - mean_euclidean_error: 10.6521 - val_loss: 38.0866 - val_mean_absolute_error: 4.8423 - val_mean_euclidean_error: 10.1670\n",
            "Epoch 35/100\n",
            "13/13 [==============================] - 2s 165ms/step - loss: 42.3782 - mean_absolute_error: 5.2584 - mean_euclidean_error: 10.7604 - val_loss: 40.0091 - val_mean_absolute_error: 5.0747 - val_mean_euclidean_error: 10.5660\n",
            "Epoch 36/100\n",
            "13/13 [==============================] - 2s 174ms/step - loss: 42.2012 - mean_absolute_error: 5.2576 - mean_euclidean_error: 10.7102 - val_loss: 37.7376 - val_mean_absolute_error: 4.7788 - val_mean_euclidean_error: 9.9618\n",
            "Epoch 37/100\n",
            "13/13 [==============================] - 2s 187ms/step - loss: 41.5789 - mean_absolute_error: 5.1788 - mean_euclidean_error: 10.6584 - val_loss: 37.9446 - val_mean_absolute_error: 4.8274 - val_mean_euclidean_error: 10.1180\n",
            "Epoch 38/100\n",
            "13/13 [==============================] - 2s 164ms/step - loss: 41.6415 - mean_absolute_error: 5.1824 - mean_euclidean_error: 10.6291 - val_loss: 37.3897 - val_mean_absolute_error: 4.7502 - val_mean_euclidean_error: 9.9530\n",
            "Epoch 39/100\n",
            "13/13 [==============================] - 2s 163ms/step - loss: 41.4214 - mean_absolute_error: 5.1493 - mean_euclidean_error: 10.6117 - val_loss: 37.3792 - val_mean_absolute_error: 4.7438 - val_mean_euclidean_error: 9.9375\n",
            "Epoch 40/100\n",
            "13/13 [==============================] - 2s 163ms/step - loss: 41.4540 - mean_absolute_error: 5.1375 - mean_euclidean_error: 10.5977 - val_loss: 39.1624 - val_mean_absolute_error: 4.9873 - val_mean_euclidean_error: 10.4187\n",
            "Epoch 41/100\n",
            "13/13 [==============================] - 2s 164ms/step - loss: 41.8476 - mean_absolute_error: 5.1979 - mean_euclidean_error: 10.6575 - val_loss: 38.1406 - val_mean_absolute_error: 4.8030 - val_mean_euclidean_error: 9.9435\n",
            "Epoch 42/100\n",
            "13/13 [==============================] - 2s 164ms/step - loss: 41.2251 - mean_absolute_error: 5.1575 - mean_euclidean_error: 10.5705 - val_loss: 37.2480 - val_mean_absolute_error: 4.7270 - val_mean_euclidean_error: 9.8755\n",
            "Epoch 43/100\n",
            "13/13 [==============================] - 2s 185ms/step - loss: 41.6840 - mean_absolute_error: 5.1910 - mean_euclidean_error: 10.6785 - val_loss: 37.2905 - val_mean_absolute_error: 4.7301 - val_mean_euclidean_error: 9.8942\n",
            "Epoch 44/100\n",
            "13/13 [==============================] - 2s 182ms/step - loss: 41.4303 - mean_absolute_error: 5.1594 - mean_euclidean_error: 10.5785 - val_loss: 38.0166 - val_mean_absolute_error: 4.8487 - val_mean_euclidean_error: 10.1791\n",
            "Epoch 45/100\n",
            "13/13 [==============================] - 2s 174ms/step - loss: 41.5475 - mean_absolute_error: 5.1782 - mean_euclidean_error: 10.6526 - val_loss: 37.2136 - val_mean_absolute_error: 4.7077 - val_mean_euclidean_error: 9.8452\n",
            "Epoch 46/100\n",
            "13/13 [==============================] - 2s 173ms/step - loss: 41.2356 - mean_absolute_error: 5.1372 - mean_euclidean_error: 10.5624 - val_loss: 37.5459 - val_mean_absolute_error: 4.7979 - val_mean_euclidean_error: 10.0578\n",
            "Epoch 47/100\n",
            "13/13 [==============================] - 2s 172ms/step - loss: 41.1033 - mean_absolute_error: 5.1309 - mean_euclidean_error: 10.5755 - val_loss: 37.5410 - val_mean_absolute_error: 4.7137 - val_mean_euclidean_error: 9.8309\n",
            "Epoch 48/100\n",
            "13/13 [==============================] - 2s 172ms/step - loss: 41.0900 - mean_absolute_error: 5.1240 - mean_euclidean_error: 10.5468 - val_loss: 38.2236 - val_mean_absolute_error: 4.8960 - val_mean_euclidean_error: 10.2477\n",
            "Epoch 49/100\n",
            "13/13 [==============================] - 2s 187ms/step - loss: 41.5542 - mean_absolute_error: 5.2119 - mean_euclidean_error: 10.6366 - val_loss: 37.2136 - val_mean_absolute_error: 4.7069 - val_mean_euclidean_error: 9.8348\n",
            "Epoch 50/100\n",
            "13/13 [==============================] - 2s 173ms/step - loss: 40.8920 - mean_absolute_error: 5.1141 - mean_euclidean_error: 10.5288 - val_loss: 37.2444 - val_mean_absolute_error: 4.7454 - val_mean_euclidean_error: 9.9392\n",
            "Epoch 51/100\n",
            "13/13 [==============================] - 2s 173ms/step - loss: 40.8615 - mean_absolute_error: 5.1255 - mean_euclidean_error: 10.5342 - val_loss: 36.4997 - val_mean_absolute_error: 4.6547 - val_mean_euclidean_error: 9.7980\n",
            "Epoch 52/100\n",
            "13/13 [==============================] - 2s 161ms/step - loss: 40.3501 - mean_absolute_error: 5.1108 - mean_euclidean_error: 10.4425 - val_loss: 38.1945 - val_mean_absolute_error: 4.9596 - val_mean_euclidean_error: 10.2986\n",
            "Epoch 53/100\n",
            "13/13 [==============================] - 2s 163ms/step - loss: 38.1957 - mean_absolute_error: 5.0001 - mean_euclidean_error: 10.1959 - val_loss: 34.0222 - val_mean_absolute_error: 4.5376 - val_mean_euclidean_error: 9.5478\n",
            "Epoch 54/100\n",
            "13/13 [==============================] - 2s 172ms/step - loss: 34.7836 - mean_absolute_error: 4.6844 - mean_euclidean_error: 9.6670 - val_loss: 32.7658 - val_mean_absolute_error: 4.5436 - val_mean_euclidean_error: 9.4784\n",
            "Epoch 55/100\n",
            "13/13 [==============================] - 2s 185ms/step - loss: 33.6142 - mean_absolute_error: 4.6158 - mean_euclidean_error: 9.5321 - val_loss: 31.8455 - val_mean_absolute_error: 4.3798 - val_mean_euclidean_error: 9.2190\n",
            "Epoch 56/100\n",
            "13/13 [==============================] - 2s 186ms/step - loss: 31.5306 - mean_absolute_error: 4.4643 - mean_euclidean_error: 9.2030 - val_loss: 29.8379 - val_mean_absolute_error: 4.2913 - val_mean_euclidean_error: 8.9855\n",
            "Epoch 57/100\n",
            "13/13 [==============================] - 2s 172ms/step - loss: 30.4585 - mean_absolute_error: 4.3211 - mean_euclidean_error: 9.0345 - val_loss: 29.2329 - val_mean_absolute_error: 4.1821 - val_mean_euclidean_error: 8.7891\n",
            "Epoch 58/100\n",
            "13/13 [==============================] - 2s 162ms/step - loss: 29.3643 - mean_absolute_error: 4.2733 - mean_euclidean_error: 8.8828 - val_loss: 29.7605 - val_mean_absolute_error: 4.2156 - val_mean_euclidean_error: 8.8165\n",
            "Epoch 59/100\n",
            "13/13 [==============================] - 2s 172ms/step - loss: 29.0631 - mean_absolute_error: 4.2355 - mean_euclidean_error: 8.8022 - val_loss: 28.9377 - val_mean_absolute_error: 4.1480 - val_mean_euclidean_error: 8.6903\n",
            "Epoch 60/100\n",
            "13/13 [==============================] - 2s 171ms/step - loss: 29.5095 - mean_absolute_error: 4.2642 - mean_euclidean_error: 8.8673 - val_loss: 29.6612 - val_mean_absolute_error: 4.2765 - val_mean_euclidean_error: 8.8929\n",
            "Epoch 61/100\n",
            "13/13 [==============================] - 2s 173ms/step - loss: 28.5482 - mean_absolute_error: 4.1838 - mean_euclidean_error: 8.7204 - val_loss: 29.5682 - val_mean_absolute_error: 4.3201 - val_mean_euclidean_error: 8.9168\n",
            "Epoch 62/100\n",
            "13/13 [==============================] - 2s 188ms/step - loss: 28.4494 - mean_absolute_error: 4.1531 - mean_euclidean_error: 8.7265 - val_loss: 28.5882 - val_mean_absolute_error: 4.1476 - val_mean_euclidean_error: 8.6992\n",
            "Epoch 63/100\n",
            "13/13 [==============================] - 2s 163ms/step - loss: 28.4050 - mean_absolute_error: 4.1968 - mean_euclidean_error: 8.7370 - val_loss: 29.0000 - val_mean_absolute_error: 4.1649 - val_mean_euclidean_error: 8.8124\n",
            "Epoch 64/100\n",
            "13/13 [==============================] - 2s 161ms/step - loss: 27.2196 - mean_absolute_error: 4.0570 - mean_euclidean_error: 8.5023 - val_loss: 29.3884 - val_mean_absolute_error: 4.2004 - val_mean_euclidean_error: 8.7958\n",
            "Epoch 65/100\n",
            "13/13 [==============================] - 2s 172ms/step - loss: 26.5275 - mean_absolute_error: 3.9759 - mean_euclidean_error: 8.3492 - val_loss: 29.4522 - val_mean_absolute_error: 4.2382 - val_mean_euclidean_error: 8.7643\n",
            "Epoch 66/100\n",
            "13/13 [==============================] - 2s 172ms/step - loss: 26.4087 - mean_absolute_error: 3.9630 - mean_euclidean_error: 8.3259 - val_loss: 30.0273 - val_mean_absolute_error: 4.3008 - val_mean_euclidean_error: 8.9279\n",
            "Epoch 67/100\n",
            "13/13 [==============================] - 2s 175ms/step - loss: 25.9950 - mean_absolute_error: 3.9398 - mean_euclidean_error: 8.2324 - val_loss: 29.2437 - val_mean_absolute_error: 4.1497 - val_mean_euclidean_error: 8.6523\n",
            "Epoch 68/100\n",
            "13/13 [==============================] - 2s 189ms/step - loss: 25.8344 - mean_absolute_error: 3.8948 - mean_euclidean_error: 8.1727 - val_loss: 29.5040 - val_mean_absolute_error: 4.2372 - val_mean_euclidean_error: 8.8301\n",
            "Epoch 69/100\n",
            "13/13 [==============================] - 2s 166ms/step - loss: 24.7042 - mean_absolute_error: 3.7809 - mean_euclidean_error: 7.9592 - val_loss: 30.0658 - val_mean_absolute_error: 4.2643 - val_mean_euclidean_error: 8.8452\n",
            "Epoch 70/100\n",
            "13/13 [==============================] - 2s 163ms/step - loss: 25.0089 - mean_absolute_error: 3.8626 - mean_euclidean_error: 8.0306 - val_loss: 31.9731 - val_mean_absolute_error: 4.5119 - val_mean_euclidean_error: 9.3331\n",
            "Epoch 71/100\n",
            "13/13 [==============================] - 2s 164ms/step - loss: 24.9108 - mean_absolute_error: 3.8389 - mean_euclidean_error: 7.9946 - val_loss: 30.1005 - val_mean_absolute_error: 4.3044 - val_mean_euclidean_error: 8.9932\n",
            "Epoch 72/100\n",
            "13/13 [==============================] - 2s 162ms/step - loss: 25.0531 - mean_absolute_error: 3.8525 - mean_euclidean_error: 7.9893 - val_loss: 31.8221 - val_mean_absolute_error: 4.4430 - val_mean_euclidean_error: 9.2370\n",
            "Epoch 73/100\n",
            "13/13 [==============================] - 2s 166ms/step - loss: 23.6236 - mean_absolute_error: 3.7499 - mean_euclidean_error: 7.7742 - val_loss: 32.9927 - val_mean_absolute_error: 4.3490 - val_mean_euclidean_error: 9.1108\n",
            "Epoch 74/100\n",
            "13/13 [==============================] - 2s 183ms/step - loss: 23.6430 - mean_absolute_error: 3.7651 - mean_euclidean_error: 7.7461 - val_loss: 34.0596 - val_mean_absolute_error: 4.5927 - val_mean_euclidean_error: 9.5039\n",
            "Epoch 75/100\n",
            "13/13 [==============================] - 2s 180ms/step - loss: 22.9734 - mean_absolute_error: 3.7173 - mean_euclidean_error: 7.6347 - val_loss: 32.8662 - val_mean_absolute_error: 4.4008 - val_mean_euclidean_error: 9.2168\n",
            "Epoch 76/100\n",
            "13/13 [==============================] - 2s 163ms/step - loss: 22.3950 - mean_absolute_error: 3.6986 - mean_euclidean_error: 7.5551 - val_loss: 32.5008 - val_mean_absolute_error: 4.3270 - val_mean_euclidean_error: 9.1419\n",
            "Epoch 77/100\n",
            "13/13 [==============================] - 2s 174ms/step - loss: 21.5476 - mean_absolute_error: 3.6343 - mean_euclidean_error: 7.3585 - val_loss: 34.7200 - val_mean_absolute_error: 4.5600 - val_mean_euclidean_error: 9.5339\n",
            "Epoch 78/100\n",
            "13/13 [==============================] - 2s 172ms/step - loss: 20.5488 - mean_absolute_error: 3.5226 - mean_euclidean_error: 7.1488 - val_loss: 37.7765 - val_mean_absolute_error: 4.8234 - val_mean_euclidean_error: 9.9580\n",
            "Epoch 79/100\n",
            "13/13 [==============================] - 2s 164ms/step - loss: 22.1784 - mean_absolute_error: 3.7295 - mean_euclidean_error: 7.5105 - val_loss: 34.1544 - val_mean_absolute_error: 4.4904 - val_mean_euclidean_error: 9.4865\n",
            "Epoch 80/100\n",
            "13/13 [==============================] - 2s 185ms/step - loss: 22.7188 - mean_absolute_error: 3.7895 - mean_euclidean_error: 7.7210 - val_loss: 37.3951 - val_mean_absolute_error: 4.7027 - val_mean_euclidean_error: 9.7577\n",
            "Epoch 81/100\n",
            "13/13 [==============================] - 2s 174ms/step - loss: 20.2339 - mean_absolute_error: 3.5447 - mean_euclidean_error: 7.1718 - val_loss: 36.0444 - val_mean_absolute_error: 4.6130 - val_mean_euclidean_error: 9.5709\n",
            "Epoch 82/100\n",
            "13/13 [==============================] - 2s 163ms/step - loss: 19.5744 - mean_absolute_error: 3.4874 - mean_euclidean_error: 6.9861 - val_loss: 39.5294 - val_mean_absolute_error: 4.8727 - val_mean_euclidean_error: 10.0880\n",
            "Epoch 83/100\n",
            "13/13 [==============================] - 2s 172ms/step - loss: 21.0171 - mean_absolute_error: 3.6214 - mean_euclidean_error: 7.3066 - val_loss: 39.1716 - val_mean_absolute_error: 4.8777 - val_mean_euclidean_error: 10.1889\n",
            "Epoch 84/100\n",
            "13/13 [==============================] - 2s 162ms/step - loss: 19.9704 - mean_absolute_error: 3.5224 - mean_euclidean_error: 7.1428 - val_loss: 34.3898 - val_mean_absolute_error: 4.5404 - val_mean_euclidean_error: 9.5362\n",
            "Epoch 85/100\n",
            "13/13 [==============================] - 2s 165ms/step - loss: 17.9688 - mean_absolute_error: 3.3344 - mean_euclidean_error: 6.6836 - val_loss: 38.8729 - val_mean_absolute_error: 4.7713 - val_mean_euclidean_error: 10.0073\n",
            "Epoch 86/100\n",
            "13/13 [==============================] - 2s 182ms/step - loss: 17.7419 - mean_absolute_error: 3.3706 - mean_euclidean_error: 6.6505 - val_loss: 37.2739 - val_mean_absolute_error: 4.6259 - val_mean_euclidean_error: 9.6733\n",
            "Epoch 87/100\n",
            "13/13 [==============================] - 2s 185ms/step - loss: 15.9780 - mean_absolute_error: 3.1875 - mean_euclidean_error: 6.2949 - val_loss: 39.9665 - val_mean_absolute_error: 4.8308 - val_mean_euclidean_error: 10.0804\n",
            "Epoch 88/100\n",
            "13/13 [==============================] - 2s 172ms/step - loss: 14.7533 - mean_absolute_error: 3.0240 - mean_euclidean_error: 5.9457 - val_loss: 37.5009 - val_mean_absolute_error: 4.7417 - val_mean_euclidean_error: 9.8052\n",
            "Epoch 89/100\n",
            "13/13 [==============================] - 2s 170ms/step - loss: 14.8242 - mean_absolute_error: 3.0472 - mean_euclidean_error: 6.0055 - val_loss: 42.4217 - val_mean_absolute_error: 5.0415 - val_mean_euclidean_error: 10.4591\n",
            "Epoch 90/100\n",
            "13/13 [==============================] - 2s 187ms/step - loss: 16.7767 - mean_absolute_error: 3.2504 - mean_euclidean_error: 6.4353 - val_loss: 37.6063 - val_mean_absolute_error: 4.6808 - val_mean_euclidean_error: 9.8598\n",
            "Epoch 91/100\n",
            "13/13 [==============================] - 2s 178ms/step - loss: 15.6948 - mean_absolute_error: 3.1601 - mean_euclidean_error: 6.2936 - val_loss: 42.0596 - val_mean_absolute_error: 4.8683 - val_mean_euclidean_error: 10.2918\n",
            "Epoch 92/100\n",
            "13/13 [==============================] - 2s 180ms/step - loss: 13.7216 - mean_absolute_error: 2.9321 - mean_euclidean_error: 5.7742 - val_loss: 39.8279 - val_mean_absolute_error: 4.7479 - val_mean_euclidean_error: 9.9328\n",
            "Epoch 93/100\n",
            "13/13 [==============================] - 2s 188ms/step - loss: 12.0125 - mean_absolute_error: 2.7433 - mean_euclidean_error: 5.3625 - val_loss: 41.5058 - val_mean_absolute_error: 4.9133 - val_mean_euclidean_error: 10.2094\n",
            "Epoch 94/100\n",
            "13/13 [==============================] - 2s 164ms/step - loss: 11.6962 - mean_absolute_error: 2.6773 - mean_euclidean_error: 5.2862 - val_loss: 41.4777 - val_mean_absolute_error: 4.8059 - val_mean_euclidean_error: 10.1343\n",
            "Epoch 95/100\n",
            "13/13 [==============================] - 2s 163ms/step - loss: 10.8483 - mean_absolute_error: 2.5812 - mean_euclidean_error: 5.0551 - val_loss: 40.4091 - val_mean_absolute_error: 4.7798 - val_mean_euclidean_error: 10.0969\n",
            "Epoch 96/100\n",
            "13/13 [==============================] - 2s 172ms/step - loss: 10.1096 - mean_absolute_error: 2.4559 - mean_euclidean_error: 4.8512 - val_loss: 41.4562 - val_mean_absolute_error: 4.9617 - val_mean_euclidean_error: 10.3080\n",
            "Epoch 97/100\n",
            "13/13 [==============================] - 2s 162ms/step - loss: 9.8568 - mean_absolute_error: 2.4481 - mean_euclidean_error: 4.8208 - val_loss: 39.9102 - val_mean_absolute_error: 4.8818 - val_mean_euclidean_error: 10.0861\n",
            "Epoch 98/100\n",
            "13/13 [==============================] - 2s 176ms/step - loss: 8.3501 - mean_absolute_error: 2.2308 - mean_euclidean_error: 4.4066 - val_loss: 42.8075 - val_mean_absolute_error: 4.9289 - val_mean_euclidean_error: 10.3157\n",
            "Epoch 99/100\n",
            "13/13 [==============================] - 2s 182ms/step - loss: 7.8252 - mean_absolute_error: 2.1797 - mean_euclidean_error: 4.2820 - val_loss: 40.9323 - val_mean_absolute_error: 4.8083 - val_mean_euclidean_error: 10.0076\n",
            "Epoch 100/100\n",
            "13/13 [==============================] - 2s 166ms/step - loss: 7.9127 - mean_absolute_error: 2.1652 - mean_euclidean_error: 4.2899 - val_loss: 42.0747 - val_mean_absolute_error: 4.8625 - val_mean_euclidean_error: 10.1748\n"
          ]
        }
      ]
    },
    {
      "cell_type": "markdown",
      "source": [
        "Now we plot the obtained results:"
      ],
      "metadata": {
        "id": "M-ARY-TeZgOz"
      }
    },
    {
      "cell_type": "code",
      "source": [
        "%matplotlib inline\n",
        "plot_metrics(\n",
        "    history, start_epoch=20, end_epoch=None,\n",
        "    metrics=['loss', 'mean_absolute_error', 'mean_euclidean_error'],\n",
        "    data_labels=[\n",
        "        ('Training Loss', 'Validation Loss'), ('Training MAE (cm)', 'Validation MAE (cm)'),\n",
        "        ('Training MEE (cm)', 'Validation MEE (cm)')\n",
        "    ],\n",
        "    axes_labels=[\n",
        "        ('Epochs', 'Loss'), ('Epochs', 'MAE'), ('Epochs', 'MEE')\n",
        "    ]\n",
        ")"
      ],
      "metadata": {
        "colab": {
          "base_uri": "https://localhost:8080/",
          "height": 449
        },
        "outputId": "17a29105-df28-4ffa-a2db-b76b5974c65c",
        "id": "kiyLPrgrZgOz"
      },
      "execution_count": null,
      "outputs": [
        {
          "output_type": "display_data",
          "data": {
            "text/plain": [
              "<Figure size 640x480 with 3 Axes>"
            ],
            "image/png": "[encoded data removed]"
          },
          "metadata": {}
        }
      ]
    },
    {
      "cell_type": "code",
      "source": [
        "epsilon = 1e-8\n",
        "predictions = model.predict(eval_images)\n",
        "plot_relative_errors(predictions, eval_tip_pos, epsilon, max_error=1, nbins=20)"
      ],
      "metadata": {
        "id": "HD5xeN9u1RUC"
      },
      "execution_count": null,
      "outputs": []
    },
    {
      "cell_type": "markdown",
      "source": [
        "...\n",
        "\n",
        "We now calculate also mean and standard deviation of loss, absolute and euclidean errors:"
      ],
      "metadata": {
        "id": "3tnDXdA11IsS"
      }
    },
    {
      "cell_type": "code",
      "source": [
        "mean_absolute_errors = tf.keras.metrics.mean_absolute_error(eval_tip_pos, predictions).numpy()\n",
        "print(f'Mean of MAE: {np.mean(mean_absolute_errors)}')\n",
        "print(f'Std of MAE: {np.std(mean_absolute_errors)}')\n",
        "\n",
        "mean_euclidean_errors = mean_euclidean_error(eval_tip_pos, predictions).numpy()\n",
        "print(f'Mean of MEE: {np.mean(mean_euclidean_errors)}')\n",
        "print(f'Std of MEE: {np.std(mean_euclidean_errors)}')"
      ],
      "metadata": {
        "id": "CP1NA0zQ1IsT"
      },
      "execution_count": null,
      "outputs": []
    },
    {
      "cell_type": "markdown",
      "source": [
        "We calculate them also along each axis:"
      ],
      "metadata": {
        "id": "vW55gBtX1IsT"
      }
    },
    {
      "cell_type": "code",
      "source": [
        "distances = np.abs(eval_tip_pos - predictions)\n",
        "print(f'Mean Distance along axes: {np.mean(distances, axis=0)}')\n",
        "print(f'Std of Distance along axes: {np.std(distances, axis=0)}')"
      ],
      "metadata": {
        "id": "GU44hpRH1IsT"
      },
      "execution_count": null,
      "outputs": []
    },
    {
      "cell_type": "markdown",
      "source": [
        "Now we save model and history:"
      ],
      "metadata": {
        "id": "86cZuxSp1IsT"
      }
    },
    {
      "cell_type": "code",
      "source": [
        "del model"
      ],
      "metadata": {
        "id": "nGAeoPAabWS1"
      },
      "execution_count": null,
      "outputs": []
    },
    {
      "cell_type": "markdown",
      "source": [
        "As we can see, in this case the network is heavily overfitting after $\\approx 55$ epochs."
      ],
      "metadata": {
        "id": "ncTwyjqrmRE3"
      }
    }
  ]
}