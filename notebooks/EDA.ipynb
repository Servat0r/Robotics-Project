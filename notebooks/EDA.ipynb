{
  "nbformat": 4,
  "nbformat_minor": 0,
  "metadata": {
    "colab": {
      "provenance": []
    },
    "kernelspec": {
      "name": "python3",
      "display_name": "Python 3"
    },
    "language_info": {
      "name": "python"
    }
  },
  "cells": [
    {
      "cell_type": "markdown",
      "source": [
        "Some (basic) exploratory data analysis on the targets."
      ],
      "metadata": {
        "id": "-Hi71FkUvM2O"
      }
    },
    {
      "cell_type": "code",
      "execution_count": null,
      "metadata": {
        "id": "xH1oPmBqemut",
        "colab": {
          "base_uri": "https://localhost:8080/"
        },
        "outputId": "0015e4e3-cd50-4af3-ac8f-b8c96fc9c617"
      },
      "outputs": [
        {
          "output_type": "stream",
          "name": "stdout",
          "text": [
            "/content/drive/MyDrive/Colab Notebooks\n"
          ]
        }
      ],
      "source": [
        "%cd \"/content/drive/MyDrive/Colab Notebooks\""
      ]
    },
    {
      "cell_type": "code",
      "source": [
        "import numpy as np\n",
        "import cv2\n",
        "from PIL import Image\n",
        "import os\n",
        "import PIL\n",
        "import tensorflow as tf\n",
        "import tensorflow_datasets as tfds\n",
        "import glob\n",
        "import matplotlib.pyplot as plt\n",
        "from sklearn.model_selection import train_test_split\n",
        "import json"
      ],
      "metadata": {
        "id": "XNjzfaKmeuee"
      },
      "execution_count": null,
      "outputs": []
    },
    {
      "cell_type": "code",
      "source": [
        "%run utils.ipynb"
      ],
      "metadata": {
        "id": "L3RwyPCsewT7",
        "colab": {
          "base_uri": "https://localhost:8080/"
        },
        "outputId": "02b72d22-55aa-4c8f-d157-c5cbf7e5bf74"
      },
      "execution_count": null,
      "outputs": [
        {
          "output_type": "stream",
          "name": "stdout",
          "text": [
            "/content/drive/MyDrive/Colab Notebooks\n"
          ]
        }
      ]
    },
    {
      "cell_type": "markdown",
      "source": [
        "### Exploratory Data Analysis"
      ],
      "metadata": {
        "id": "73C-RGqSex-j"
      }
    },
    {
      "cell_type": "code",
      "source": [
        "motion_data_path = 'data/motion/ws_0.5.npz'\n",
        "motion_data = np.load(motion_data_path)\n",
        "tip_pos = motion_data['position_rod1'][:, [2, 0, 1], -1]  # all positions of last node ([2,0,1] converts to xyz)"
      ],
      "metadata": {
        "id": "zZauNVdbeznK"
      },
      "execution_count": null,
      "outputs": []
    },
    {
      "cell_type": "code",
      "source": [
        "%matplotlib inline\n",
        "def stats(tip_pos):\n",
        "  \"\"\"\n",
        "  Computes statistics and visualizes histograms of the given tip_pos data.\n",
        "\n",
        "  Parameters:\n",
        "      tip_pos (numpy.ndarray):\n",
        "        Array of tip positions with shape (N, 3), where N is the number of samples.\n",
        "        Each row represents the tip position in 3D space with X, Y, and Z coordinates.\n",
        "\n",
        "  Returns:\n",
        "      None\n",
        "\n",
        "  Prints:\n",
        "      - Histograms of the X, Y, and Z coordinates of tip_pos.\n",
        "      - Mean and standard deviation of each axis (X, Y, and Z) of tip_pos.\n",
        "      - Minimum and maximum absolute values of non-zero elements in each axis (X, Y, and Z) of tip_pos.\n",
        "\n",
        "  Example:\n",
        "      tip_pos = np.random.rand(100, 3)  # Generate random tip positions\n",
        "      stats(tip_pos)  # Compute statistics and visualize histograms  fig, ax = plt.subplots(3, 1)\n",
        "  \"\"\"\n",
        "  ax[0].hist(tip_pos[:, 0])\n",
        "  ax[1].hist(tip_pos[:, 1])\n",
        "  ax[2].hist(tip_pos[:, 2])\n",
        "  print(\n",
        "      f\"Mean of axis X: {np.mean(tip_pos[:, 0])}\",\n",
        "      f\"Std of axis X: {np.std(tip_pos[:, 0])}\",\n",
        "      sep='\\n'\n",
        "  )\n",
        "\n",
        "  print(\n",
        "      f\"Mean of axis Y: {np.mean(tip_pos[:, 1])}\",\n",
        "      f\"Std of axis Y: {np.std(tip_pos[:, 1])}\",\n",
        "      sep='\\n'\n",
        "  )\n",
        "\n",
        "  print(\n",
        "      f\"Mean of axis Z: {np.mean(tip_pos[:, 2])}\",\n",
        "      f\"Std of axis Z: {np.std(tip_pos[:, 2])}\",\n",
        "      sep='\\n'\n",
        "  )\n",
        "  X, Y, Z = tip_pos[:, 0], tip_pos[:, 1], tip_pos[:, 2]\n",
        "  print(np.min(np.abs(X[X != 0])), np.max(np.abs(X[X != 0])))\n",
        "  print(np.min(np.abs(Y[Y != 0])), np.max(np.abs(Y[Y != 0])))\n",
        "  print(np.min(np.abs(Z[Z != 0])), np.max(np.abs(Z[Z != 0])))"
      ],
      "metadata": {
        "id": "k62LLQbfxrAI"
      },
      "execution_count": null,
      "outputs": []
    },
    {
      "cell_type": "code",
      "source": [
        "%matplotlib inline\n",
        "stats(tip_pos)"
      ],
      "metadata": {
        "colab": {
          "base_uri": "https://localhost:8080/",
          "height": 586
        },
        "id": "B1c3WI3eyFGO",
        "outputId": "460de35d-87eb-4628-9397-109415310082"
      },
      "execution_count": null,
      "outputs": [
        {
          "output_type": "stream",
          "name": "stdout",
          "text": [
            "Mean of axis X: -0.0011772208074385662\n",
            "Std of axis X: 0.0725042839413252\n",
            "Mean of axis Y: -0.0008676560456958852\n",
            "Std of axis Y: 0.07543086224870497\n",
            "Mean of axis Z: -0.18952560672860655\n",
            "Std of axis Z: 0.03436694821765101\n",
            "4.186138268660784e-05 0.14835816245742894\n",
            "0.0001786410986302088 0.163174668090538\n",
            "0.09161137952685168 0.2732533291409953\n"
          ]
        },
        {
          "output_type": "display_data",
          "data": {
            "text/plain": [
              "<Figure size 640x480 with 3 Axes>"
            ],
            "image/png": "[encoded data removed]"
          },
          "metadata": {}
        }
      ]
    },
    {
      "cell_type": "code",
      "source": [
        "%matplotlib inline\n",
        "tip_pos *= 100\n",
        "stats(tip_pos)\n",
        "tip_pos /= 100"
      ],
      "metadata": {
        "colab": {
          "base_uri": "https://localhost:8080/",
          "height": 586
        },
        "id": "r2xLbiFHm46s",
        "outputId": "e9fabeed-265e-4b1a-93b9-46423cae1b19"
      },
      "execution_count": null,
      "outputs": [
        {
          "output_type": "stream",
          "name": "stdout",
          "text": [
            "Mean of axis X: -0.11772208074385661\n",
            "Std of axis X: 7.250428394132521\n",
            "Mean of axis Y: -0.08676560456958878\n",
            "Std of axis Y: 7.543086224870498\n",
            "Mean of axis Z: -18.952560672860656\n",
            "Std of axis Z: 3.436694821765101\n",
            "0.0041861382686607836 14.835816245742894\n",
            "0.01786410986302088 16.317466809053798\n",
            "9.161137952685168 27.325332914099533\n"
          ]
        },
        {
          "output_type": "display_data",
          "data": {
            "text/plain": [
              "<Figure size 640x480 with 3 Axes>"
            ],
            "image/png": "[encoded data removed]"
          },
          "metadata": {}
        }
      ]
    },
    {
      "cell_type": "code",
      "source": [
        "from sklearn.preprocessing import StandardScaler\n",
        "scaler = StandardScaler()\n",
        "\n",
        "tip_pos = scaler.fit_transform(tip_pos)"
      ],
      "metadata": {
        "id": "oKHNzqUGxFZi"
      },
      "execution_count": null,
      "outputs": []
    },
    {
      "cell_type": "code",
      "source": [
        "%matplotlib inline\n",
        "stats(tip_pos)"
      ],
      "metadata": {
        "colab": {
          "base_uri": "https://localhost:8080/",
          "height": 586
        },
        "id": "sTkaeXvOxRWu",
        "outputId": "976f847a-f3fa-40b4-a0c4-52fd2a60f7e1"
      },
      "execution_count": null,
      "outputs": [
        {
          "output_type": "stream",
          "name": "stdout",
          "text": [
            "Mean of axis X: -4.3283548718329687e-19\n",
            "Std of axis X: 1.0\n",
            "Mean of axis Y: 0.0\n",
            "Std of axis Y: 1.0\n",
            "Mean of axis Z: 9.69551491290585e-17\n",
            "Std of axis Z: 1.0\n",
            "0.0018245740139993774 2.0624351436375883\n",
            "0.0014650738310480122 2.1747374913383046\n",
            "0.005092790766152854 2.8490812329814523\n"
          ]
        },
        {
          "output_type": "display_data",
          "data": {
            "text/plain": [
              "<Figure size 640x480 with 3 Axes>"
            ],
            "image/png": "[encoded data removed]"
          },
          "metadata": {}
        }
      ]
    },
    {
      "cell_type": "markdown",
      "source": [
        "As we can see:\n",
        "* original measures in `meters` have the problem of having too small values, down to $O(10^{-5})$, which can affect negatively training;\n",
        "* original measures rescaled in `centimeters` do not have too small values, but their highest ones reach $O(10^1)$, which may still slow down training somehow. However, empirical preliminary trials showed better results than measures in `meters`;\n",
        "* original measures rescaled according to `StandardScaler` (i.e., subtracting mean and dividing by standard deviations) limit both the above problems, but still there are three orders of magnitude between the smallest ($\\approx 10^{-3}$) and the biggest ($\\approx 2$) values. However, it is not clear if the given measures for loss and other metrics shall be interpreted as in `meters` or in `centimeters`, since rescaling gives the same values for both measure units."
      ],
      "metadata": {
        "id": "H6jt8EMDwS-0"
      }
    }
  ]
}