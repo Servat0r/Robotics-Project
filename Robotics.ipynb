{
  "nbformat": 4,
  "nbformat_minor": 0,
  "metadata": {
    "colab": {
      "provenance": [],
      "gpuType": "A100",
      "mount_file_id": "1qywbFTkobZvF8Kpbt19M54WyukZ2vWhj",
      "authorship_tag": "ABX9TyOXgnEOa7ljY9A0DNTKaoLd",
      "include_colab_link": true
    },
    "kernelspec": {
      "name": "python3",
      "display_name": "Python 3"
    },
    "language_info": {
      "name": "python"
    },
    "accelerator": "GPU"
  },
  "cells": [
    {
      "cell_type": "markdown",
      "metadata": {
        "id": "view-in-github",
        "colab_type": "text"
      },
      "source": [
        "<a href=\"https://colab.research.google.com/github/Servat0r/Robotics-Project/blob/master/Robotics.ipynb\" target=\"_parent\"><img src=\"https://colab.research.google.com/assets/colab-badge.svg\" alt=\"Open In Colab\"/></a>"
      ]
    },
    {
      "cell_type": "markdown",
      "source": [
        "### Preliminary"
      ],
      "metadata": {
        "id": "laod3O9-b5Az"
      }
    },
    {
      "cell_type": "code",
      "execution_count": 1,
      "metadata": {
        "id": "sZwUR2otINEy",
        "colab": {
          "base_uri": "https://localhost:8080/"
        },
        "outputId": "3ae145df-0ef4-4f8d-e639-e852d96f3752"
      },
      "outputs": [
        {
          "output_type": "stream",
          "name": "stdout",
          "text": [
            "/content/drive/MyDrive/Colab Notebooks\n"
          ]
        }
      ],
      "source": [
        "%cd \"/content/drive/MyDrive/Colab Notebooks\""
      ]
    },
    {
      "cell_type": "code",
      "source": [
        "import numpy as np\n",
        "import cv2\n",
        "from PIL import Image\n",
        "import os\n",
        "import PIL\n",
        "import tensorflow as tf\n",
        "import tensorflow_datasets as tfds\n",
        "import glob\n",
        "import matplotlib.pyplot as plt\n",
        "from sklearn.model_selection import train_test_split"
      ],
      "metadata": {
        "id": "SQPStd3oS0ZY"
      },
      "execution_count": 2,
      "outputs": []
    },
    {
      "cell_type": "markdown",
      "source": [
        "### Utils"
      ],
      "metadata": {
        "id": "bvwMoYmhsk4R"
      }
    },
    {
      "cell_type": "code",
      "source": [
        "def plot_results(history: tf.keras.callbacks.History, n_epochs):\n",
        "    fig, ax = plt.subplots(1, 1)\n",
        "    epochs = np.arange(1, n_epochs+1)\n",
        "    trainLoss, validationLoss = history.history['loss'], history.history['val_loss']\n",
        "    ax.plot(epochs, trainLoss, label='Training Loss')\n",
        "    ax.plot(epochs, validationLoss, label='Validation Loss')"
      ],
      "metadata": {
        "id": "FYxY2uufsmTu"
      },
      "execution_count": 3,
      "outputs": []
    },
    {
      "cell_type": "markdown",
      "source": [
        "### Dataset Retrieval\n",
        "The original dataset is made up of $513$ `full-hd` ($1920 \\times 1080$) images in `png` format. While in this format a single image requires $\\approx 100$ KB of memory, a `numpy` array that contains the image in `float32` datatype will require at least $1920 \\times 1080 \\times 3 \\times 4 \\approx 24$ MB of memory, hence the whole dataset will require $\\approx 12$ GB and would be unfeasible.\n",
        "\n",
        "For simplicity, we then define a `get_dataset()` function that resizes all the images to a percentage of the original size through the `PIL.Image.Image.thumbnail()` method. By default we operate with a size of $240 \\times 135$ ($12.5\\%$ of original width and height values)."
      ],
      "metadata": {
        "id": "dNhsAU6kb8WM"
      }
    },
    {
      "cell_type": "code",
      "source": [
        "def get_dataset(\n",
        "    image_data_path='data/image/ws_0.5', motion_data_path='data/motion/ws_0.5.npz',\n",
        "    resize=True, force_resize=True, target_size_perc=0.125, rescale_coordinates=1,\n",
        "    target_size=None,\n",
        "  ): # by default 135 x 240\n",
        "  if target_size:\n",
        "    target_height, target_width = target_size\n",
        "  else:\n",
        "    target_height, target_width = int(1080 * target_size_perc), int(1920 * target_size_perc)\n",
        "  resized_dir_path = os.path.join(image_data_path, f'resized_{target_height}x{target_width}')\n",
        "  # Resizes images to given size\n",
        "  if force_resize or (resize and not os.path.exists(resized_dir_path)):\n",
        "    os.makedirs(resized_dir_path, exist_ok=True)\n",
        "    pngs = sorted(list(glob.glob(f'{image_data_path}/*.png')))\n",
        "    for i, png in enumerate(pngs):\n",
        "      image = PIL.Image.open(png)\n",
        "      image = image.resize((target_width, target_height))\n",
        "      #image.thumbnail((target_width, target_height))\n",
        "      image.save(os.path.join(resized_dir_path, f'{i}.png'), \"PNG\")\n",
        "  pngs = sorted(list(glob.glob(f'{resized_dir_path}/*.png')), key=lambda x: int(x.split('/')[-1].split('.')[0]))\n",
        "  images = np.zeros((len(pngs), target_height, target_width, 3), dtype=np.float32)\n",
        "  for i, png in enumerate(pngs):\n",
        "    images[i][:, :, :] = np.array(PIL.Image.open(png))\n",
        "  motion_data = np.load(motion_data_path)\n",
        "  tip_pos = rescale_coordinates * motion_data['position_rod1'][:, [2, 0, 1], -1]  # all positions of last node ([2,0,1] converts to xyz)\n",
        "  return images / 255.0, tip_pos"
      ],
      "metadata": {
        "id": "BZqQ2l6P8Hv-"
      },
      "execution_count": 4,
      "outputs": []
    },
    {
      "cell_type": "markdown",
      "source": [
        "Now a couple of hyperparameters:"
      ],
      "metadata": {
        "id": "M-xMtGdkdwgT"
      }
    },
    {
      "cell_type": "code",
      "source": [
        "batch_size = 32  #len(images)\n",
        "resize_perc = 0.125\n",
        "n_epochs = 100"
      ],
      "metadata": {
        "id": "_dn82Do_TOnx"
      },
      "execution_count": 5,
      "outputs": []
    },
    {
      "cell_type": "code",
      "source": [
        "images, tip_pos = get_dataset(target_size_perc=resize_perc, force_resize=False, rescale_coordinates=100)"
      ],
      "metadata": {
        "id": "7WmgYNpV_h84"
      },
      "execution_count": 6,
      "outputs": []
    },
    {
      "cell_type": "markdown",
      "source": [
        "Now we do *train-test split* with a validation percentage of $20\\%$."
      ],
      "metadata": {
        "id": "tQVrDrUTe0lk"
      }
    },
    {
      "cell_type": "code",
      "source": [
        "train_images, eval_images, train_tip_pos, eval_tip_pos = train_test_split(images, tip_pos, test_size=0.2, random_state=0)"
      ],
      "metadata": {
        "id": "MpmHecKFezts"
      },
      "execution_count": null,
      "outputs": []
    },
    {
      "cell_type": "markdown",
      "source": [
        "We now define a *VGG-like* initial CNN to experiment: $5$ *VGG-blocks* (two `Conv2D` and a `MaxPool2D` layers with a kernel size of $4$ and `relu` activation) and a flattening and final `Dense` block."
      ],
      "metadata": {
        "id": "xjdL2W3Yd3nn"
      }
    },
    {
      "cell_type": "code",
      "source": [
        "model = tf.keras.Sequential([\n",
        "\n",
        "  tf.keras.layers.Conv2D(8, kernel_size=4, activation='relu', padding='same', input_shape=(135, 240, 3)),\n",
        "  #tf.keras.layers.BatchNormalization(),\n",
        "  tf.keras.layers.Conv2D(8, kernel_size=4, activation='relu', padding='same'),\n",
        "  #tf.keras.layers.BatchNormalization(),\n",
        "  tf.keras.layers.MaxPool2D(),\n",
        "  #tf.keras.layers.BatchNormalization(),\n",
        "  #tf.keras.layers.Dropout(0.2),\n",
        "\n",
        "  tf.keras.layers.Conv2D(16, kernel_size=4, activation='relu', padding='same'),\n",
        "  #tf.keras.layers.BatchNormalization(),\n",
        "  tf.keras.layers.Conv2D(16, kernel_size=4, activation='relu', padding='same'),\n",
        "  #tf.keras.layers.BatchNormalization(),\n",
        "  tf.keras.layers.MaxPool2D(),\n",
        "  #tf.keras.layers.BatchNormalization(),\n",
        "  #tf.keras.layers.Dropout(0.3),\n",
        "\n",
        "  tf.keras.layers.Conv2D(32, kernel_size=4, activation='relu', padding='same'),\n",
        "  #tf.keras.layers.BatchNormalization(),\n",
        "  tf.keras.layers.Conv2D(32, kernel_size=4, activation='relu', padding='same'),\n",
        "  #tf.keras.layers.BatchNormalization(),\n",
        "  tf.keras.layers.MaxPool2D(),\n",
        "  #tf.keras.layers.BatchNormalization(),\n",
        "  #tf.keras.layers.Dropout(0.3),\n",
        "\n",
        "  tf.keras.layers.Conv2D(64, kernel_size=4, activation='relu', padding='same'),\n",
        "  #tf.keras.layers.BatchNormalization(),\n",
        "  tf.keras.layers.Conv2D(64, kernel_size=4, activation='relu', padding='same'),\n",
        "  #tf.keras.layers.BatchNormalization(),\n",
        "  tf.keras.layers.MaxPool2D(),\n",
        "  #tf.keras.layers.BatchNormalization(),\n",
        "  #tf.keras.layers.Dropout(0.3),\n",
        "\n",
        "  tf.keras.layers.Conv2D(128, kernel_size=4, activation='relu', padding='same'),\n",
        "  #tf.keras.layers.BatchNormalization(),\n",
        "  tf.keras.layers.Conv2D(128, kernel_size=4, activation='relu', padding='same'),\n",
        "  #tf.keras.layers.BatchNormalization(),\n",
        "  tf.keras.layers.MaxPool2D(),\n",
        "  #tf.keras.layers.BatchNormalization(),\n",
        "  #tf.keras.layers.Dropout(0.3),\n",
        "\n",
        "  tf.keras.layers.Flatten(),\n",
        "  #tf.keras.layers.BatchNormalization(),\n",
        "  tf.keras.layers.Dense(units=256, activation='relu'),\n",
        "  tf.keras.layers.Dense(units=50, activation='relu'),\n",
        "  #tf.keras.layers.Dropout(0.5),\n",
        "  tf.keras.layers.Dense(units=3, activation='linear')\n",
        "])"
      ],
      "metadata": {
        "id": "t7lS39A7jDCi"
      },
      "execution_count": null,
      "outputs": []
    },
    {
      "cell_type": "code",
      "source": [
        "model.compile(loss='mean_squared_error', optimizer=tf.keras.optimizers.Adam(learning_rate=1e-3))"
      ],
      "metadata": {
        "id": "8DmTt9Xso22V"
      },
      "execution_count": null,
      "outputs": []
    },
    {
      "cell_type": "code",
      "source": [
        "model.summary()"
      ],
      "metadata": {
        "colab": {
          "base_uri": "https://localhost:8080/"
        },
        "id": "TSzLXcb6qhD1",
        "outputId": "e893dd53-383d-4548-b707-43df2a20611e"
      },
      "execution_count": null,
      "outputs": [
        {
          "output_type": "stream",
          "name": "stdout",
          "text": [
            "Model: \"sequential\"\n",
            "_________________________________________________________________\n",
            " Layer (type)                Output Shape              Param #   \n",
            "=================================================================\n",
            " conv2d_10 (Conv2D)          (None, 135, 240, 8)       392       \n",
            "                                                                 \n",
            " conv2d_11 (Conv2D)          (None, 135, 240, 8)       1032      \n",
            "                                                                 \n",
            " max_pooling2d_5 (MaxPooling  (None, 67, 120, 8)       0         \n",
            " 2D)                                                             \n",
            "                                                                 \n",
            " conv2d_12 (Conv2D)          (None, 67, 120, 16)       2064      \n",
            "                                                                 \n",
            " conv2d_13 (Conv2D)          (None, 67, 120, 16)       4112      \n",
            "                                                                 \n",
            " max_pooling2d_6 (MaxPooling  (None, 33, 60, 16)       0         \n",
            " 2D)                                                             \n",
            "                                                                 \n",
            " conv2d_14 (Conv2D)          (None, 33, 60, 32)        8224      \n",
            "                                                                 \n",
            " conv2d_15 (Conv2D)          (None, 33, 60, 32)        16416     \n",
            "                                                                 \n",
            " max_pooling2d_7 (MaxPooling  (None, 16, 30, 32)       0         \n",
            " 2D)                                                             \n",
            "                                                                 \n",
            " conv2d_16 (Conv2D)          (None, 16, 30, 64)        32832     \n",
            "                                                                 \n",
            " conv2d_17 (Conv2D)          (None, 16, 30, 64)        65600     \n",
            "                                                                 \n",
            " max_pooling2d_8 (MaxPooling  (None, 8, 15, 64)        0         \n",
            " 2D)                                                             \n",
            "                                                                 \n",
            " conv2d_18 (Conv2D)          (None, 8, 15, 128)        131200    \n",
            "                                                                 \n",
            " conv2d_19 (Conv2D)          (None, 8, 15, 128)        262272    \n",
            "                                                                 \n",
            " max_pooling2d_9 (MaxPooling  (None, 4, 7, 128)        0         \n",
            " 2D)                                                             \n",
            "                                                                 \n",
            " flatten_1 (Flatten)         (None, 3584)              0         \n",
            "                                                                 \n",
            " dense_3 (Dense)             (None, 256)               917760    \n",
            "                                                                 \n",
            " dense_4 (Dense)             (None, 50)                12850     \n",
            "                                                                 \n",
            " dense_5 (Dense)             (None, 3)                 153       \n",
            "                                                                 \n",
            "=================================================================\n",
            "Total params: 1,454,907\n",
            "Trainable params: 1,454,907\n",
            "Non-trainable params: 0\n",
            "_________________________________________________________________\n"
          ]
        }
      ]
    },
    {
      "cell_type": "code",
      "source": [
        "history = model.fit(\n",
        "    train_images, train_tip_pos, epochs=n_epochs,\n",
        "    validation_data=(eval_images, eval_tip_pos),\n",
        "    batch_size = batch_size, shuffle=True,\n",
        ")"
      ],
      "metadata": {
        "colab": {
          "base_uri": "https://localhost:8080/"
        },
        "id": "vei7pk8no3tm",
        "outputId": "ce394221-69d6-4f43-b00b-70ab9c5aad4b"
      },
      "execution_count": null,
      "outputs": [
        {
          "output_type": "stream",
          "name": "stdout",
          "text": [
            "Epoch 1/100\n",
            "13/13 [==============================] - 15s 108ms/step - loss: 79.4297 - val_loss: 44.1851\n",
            "Epoch 2/100\n",
            "13/13 [==============================] - 0s 16ms/step - loss: 43.9560 - val_loss: 38.0192\n",
            "Epoch 3/100\n",
            "13/13 [==============================] - 0s 16ms/step - loss: 42.7044 - val_loss: 37.3730\n",
            "Epoch 4/100\n",
            "13/13 [==============================] - 0s 16ms/step - loss: 41.8699 - val_loss: 37.5187\n",
            "Epoch 5/100\n",
            "13/13 [==============================] - 0s 17ms/step - loss: 41.7761 - val_loss: 38.5749\n",
            "Epoch 6/100\n",
            "13/13 [==============================] - 0s 16ms/step - loss: 41.8887 - val_loss: 40.6788\n",
            "Epoch 7/100\n",
            "13/13 [==============================] - 0s 16ms/step - loss: 43.2641 - val_loss: 39.7109\n",
            "Epoch 8/100\n",
            "13/13 [==============================] - 0s 16ms/step - loss: 43.5081 - val_loss: 41.0203\n",
            "Epoch 9/100\n",
            "13/13 [==============================] - 0s 16ms/step - loss: 42.5125 - val_loss: 37.4545\n",
            "Epoch 10/100\n",
            "13/13 [==============================] - 0s 16ms/step - loss: 42.6751 - val_loss: 39.0514\n",
            "Epoch 11/100\n",
            "13/13 [==============================] - 0s 16ms/step - loss: 43.1259 - val_loss: 37.9345\n",
            "Epoch 12/100\n",
            "13/13 [==============================] - 0s 17ms/step - loss: 42.9837 - val_loss: 37.3560\n",
            "Epoch 13/100\n",
            "13/13 [==============================] - 0s 16ms/step - loss: 41.9179 - val_loss: 38.9962\n",
            "Epoch 14/100\n",
            "13/13 [==============================] - 0s 16ms/step - loss: 41.6559 - val_loss: 37.5651\n",
            "Epoch 15/100\n",
            "13/13 [==============================] - 0s 16ms/step - loss: 41.2331 - val_loss: 36.9434\n",
            "Epoch 16/100\n",
            "13/13 [==============================] - 0s 16ms/step - loss: 40.1298 - val_loss: 34.6366\n",
            "Epoch 17/100\n",
            "13/13 [==============================] - 0s 16ms/step - loss: 40.6489 - val_loss: 37.0860\n",
            "Epoch 18/100\n",
            "13/13 [==============================] - 0s 16ms/step - loss: 31.0137 - val_loss: 30.1385\n",
            "Epoch 19/100\n",
            "13/13 [==============================] - 0s 17ms/step - loss: 27.1233 - val_loss: 26.0277\n",
            "Epoch 20/100\n",
            "13/13 [==============================] - 0s 16ms/step - loss: 23.7183 - val_loss: 18.7021\n",
            "Epoch 21/100\n",
            "13/13 [==============================] - 0s 17ms/step - loss: 18.3888 - val_loss: 11.6516\n",
            "Epoch 22/100\n",
            "13/13 [==============================] - 0s 17ms/step - loss: 14.7409 - val_loss: 5.8465\n",
            "Epoch 23/100\n",
            "13/13 [==============================] - 0s 16ms/step - loss: 4.7720 - val_loss: 2.8479\n",
            "Epoch 24/100\n",
            "13/13 [==============================] - 0s 16ms/step - loss: 2.9107 - val_loss: 2.2493\n",
            "Epoch 25/100\n",
            "13/13 [==============================] - 0s 16ms/step - loss: 2.1698 - val_loss: 1.9193\n",
            "Epoch 26/100\n",
            "13/13 [==============================] - 0s 16ms/step - loss: 1.4051 - val_loss: 1.1797\n",
            "Epoch 27/100\n",
            "13/13 [==============================] - 0s 16ms/step - loss: 1.1041 - val_loss: 1.0424\n",
            "Epoch 28/100\n",
            "13/13 [==============================] - 0s 16ms/step - loss: 0.9641 - val_loss: 0.8384\n",
            "Epoch 29/100\n",
            "13/13 [==============================] - 0s 16ms/step - loss: 0.7423 - val_loss: 0.7083\n",
            "Epoch 30/100\n",
            "13/13 [==============================] - 0s 17ms/step - loss: 0.6877 - val_loss: 0.9181\n",
            "Epoch 31/100\n",
            "13/13 [==============================] - 0s 16ms/step - loss: 0.6442 - val_loss: 0.6481\n",
            "Epoch 32/100\n",
            "13/13 [==============================] - 0s 16ms/step - loss: 0.5366 - val_loss: 0.7497\n",
            "Epoch 33/100\n",
            "13/13 [==============================] - 0s 16ms/step - loss: 0.5970 - val_loss: 0.6155\n",
            "Epoch 34/100\n",
            "13/13 [==============================] - 0s 16ms/step - loss: 0.6067 - val_loss: 0.7458\n",
            "Epoch 35/100\n",
            "13/13 [==============================] - 0s 16ms/step - loss: 0.5618 - val_loss: 0.5235\n",
            "Epoch 36/100\n",
            "13/13 [==============================] - 0s 16ms/step - loss: 0.4337 - val_loss: 0.5705\n",
            "Epoch 37/100\n",
            "13/13 [==============================] - 0s 16ms/step - loss: 0.4149 - val_loss: 0.5369\n",
            "Epoch 38/100\n",
            "13/13 [==============================] - 0s 16ms/step - loss: 0.4077 - val_loss: 0.4542\n",
            "Epoch 39/100\n",
            "13/13 [==============================] - 0s 16ms/step - loss: 0.3330 - val_loss: 0.4228\n",
            "Epoch 40/100\n",
            "13/13 [==============================] - 0s 16ms/step - loss: 0.3019 - val_loss: 0.4607\n",
            "Epoch 41/100\n",
            "13/13 [==============================] - 0s 16ms/step - loss: 0.2747 - val_loss: 0.3902\n",
            "Epoch 42/100\n",
            "13/13 [==============================] - 0s 16ms/step - loss: 0.2462 - val_loss: 0.4388\n",
            "Epoch 43/100\n",
            "13/13 [==============================] - 0s 16ms/step - loss: 0.2695 - val_loss: 0.3899\n",
            "Epoch 44/100\n",
            "13/13 [==============================] - 0s 16ms/step - loss: 0.2464 - val_loss: 0.4403\n",
            "Epoch 45/100\n",
            "13/13 [==============================] - 0s 16ms/step - loss: 0.2471 - val_loss: 0.3981\n",
            "Epoch 46/100\n",
            "13/13 [==============================] - 0s 16ms/step - loss: 0.2295 - val_loss: 0.3490\n",
            "Epoch 47/100\n",
            "13/13 [==============================] - 0s 16ms/step - loss: 0.2599 - val_loss: 0.4088\n",
            "Epoch 48/100\n",
            "13/13 [==============================] - 0s 16ms/step - loss: 0.2044 - val_loss: 0.3607\n",
            "Epoch 49/100\n",
            "13/13 [==============================] - 0s 16ms/step - loss: 0.2149 - val_loss: 0.3088\n",
            "Epoch 50/100\n",
            "13/13 [==============================] - 0s 16ms/step - loss: 0.2364 - val_loss: 0.5679\n",
            "Epoch 51/100\n",
            "13/13 [==============================] - 0s 16ms/step - loss: 0.2924 - val_loss: 0.4533\n",
            "Epoch 52/100\n",
            "13/13 [==============================] - 0s 16ms/step - loss: 0.2445 - val_loss: 0.3601\n",
            "Epoch 53/100\n",
            "13/13 [==============================] - 0s 16ms/step - loss: 0.2454 - val_loss: 0.3441\n",
            "Epoch 54/100\n",
            "13/13 [==============================] - 0s 16ms/step - loss: 0.2697 - val_loss: 0.4551\n",
            "Epoch 55/100\n",
            "13/13 [==============================] - 0s 16ms/step - loss: 0.2096 - val_loss: 0.3412\n",
            "Epoch 56/100\n",
            "13/13 [==============================] - 0s 16ms/step - loss: 0.1315 - val_loss: 0.3443\n",
            "Epoch 57/100\n",
            "13/13 [==============================] - 0s 16ms/step - loss: 0.1326 - val_loss: 0.2584\n",
            "Epoch 58/100\n",
            "13/13 [==============================] - 0s 16ms/step - loss: 0.1387 - val_loss: 0.2951\n",
            "Epoch 59/100\n",
            "13/13 [==============================] - 0s 16ms/step - loss: 0.1495 - val_loss: 0.2637\n",
            "Epoch 60/100\n",
            "13/13 [==============================] - 0s 17ms/step - loss: 0.1428 - val_loss: 0.4077\n",
            "Epoch 61/100\n",
            "13/13 [==============================] - 0s 16ms/step - loss: 0.1190 - val_loss: 0.2660\n",
            "Epoch 62/100\n",
            "13/13 [==============================] - 0s 16ms/step - loss: 0.1044 - val_loss: 0.3274\n",
            "Epoch 63/100\n",
            "13/13 [==============================] - 0s 16ms/step - loss: 0.1344 - val_loss: 0.3938\n",
            "Epoch 64/100\n",
            "13/13 [==============================] - 0s 16ms/step - loss: 0.1440 - val_loss: 0.2920\n",
            "Epoch 65/100\n",
            "13/13 [==============================] - 0s 16ms/step - loss: 0.1161 - val_loss: 0.2967\n",
            "Epoch 66/100\n",
            "13/13 [==============================] - 0s 16ms/step - loss: 0.0999 - val_loss: 0.2823\n",
            "Epoch 67/100\n",
            "13/13 [==============================] - 0s 16ms/step - loss: 0.1356 - val_loss: 0.2707\n",
            "Epoch 68/100\n",
            "13/13 [==============================] - 0s 16ms/step - loss: 0.1431 - val_loss: 0.3221\n",
            "Epoch 69/100\n",
            "13/13 [==============================] - 0s 16ms/step - loss: 0.1505 - val_loss: 0.4034\n",
            "Epoch 70/100\n",
            "13/13 [==============================] - 0s 17ms/step - loss: 0.1662 - val_loss: 0.3210\n",
            "Epoch 71/100\n",
            "13/13 [==============================] - 0s 16ms/step - loss: 0.1211 - val_loss: 0.2778\n",
            "Epoch 72/100\n",
            "13/13 [==============================] - 0s 16ms/step - loss: 0.1010 - val_loss: 0.2718\n",
            "Epoch 73/100\n",
            "13/13 [==============================] - 0s 16ms/step - loss: 0.0813 - val_loss: 0.2861\n",
            "Epoch 74/100\n",
            "13/13 [==============================] - 0s 17ms/step - loss: 0.0951 - val_loss: 0.2641\n",
            "Epoch 75/100\n",
            "13/13 [==============================] - 0s 17ms/step - loss: 0.0980 - val_loss: 0.2373\n",
            "Epoch 76/100\n",
            "13/13 [==============================] - 0s 16ms/step - loss: 0.0863 - val_loss: 0.2361\n",
            "Epoch 77/100\n",
            "13/13 [==============================] - 0s 16ms/step - loss: 0.0956 - val_loss: 0.2560\n",
            "Epoch 78/100\n",
            "13/13 [==============================] - 0s 16ms/step - loss: 0.1038 - val_loss: 0.2403\n",
            "Epoch 79/100\n",
            "13/13 [==============================] - 0s 16ms/step - loss: 0.1128 - val_loss: 0.2537\n",
            "Epoch 80/100\n",
            "13/13 [==============================] - 0s 17ms/step - loss: 0.0772 - val_loss: 0.2585\n",
            "Epoch 81/100\n",
            "13/13 [==============================] - 0s 16ms/step - loss: 0.0631 - val_loss: 0.2431\n",
            "Epoch 82/100\n",
            "13/13 [==============================] - 0s 16ms/step - loss: 0.0527 - val_loss: 0.2027\n",
            "Epoch 83/100\n",
            "13/13 [==============================] - 0s 16ms/step - loss: 0.0587 - val_loss: 0.2256\n",
            "Epoch 84/100\n",
            "13/13 [==============================] - 0s 16ms/step - loss: 0.0585 - val_loss: 0.2871\n",
            "Epoch 85/100\n",
            "13/13 [==============================] - 0s 16ms/step - loss: 0.0714 - val_loss: 0.2554\n",
            "Epoch 86/100\n",
            "13/13 [==============================] - 0s 16ms/step - loss: 0.0860 - val_loss: 0.2324\n",
            "Epoch 87/100\n",
            "13/13 [==============================] - 0s 16ms/step - loss: 0.0836 - val_loss: 0.2861\n",
            "Epoch 88/100\n",
            "13/13 [==============================] - 0s 16ms/step - loss: 0.0704 - val_loss: 0.2206\n",
            "Epoch 89/100\n",
            "13/13 [==============================] - 0s 16ms/step - loss: 0.0495 - val_loss: 0.2159\n",
            "Epoch 90/100\n",
            "13/13 [==============================] - 0s 16ms/step - loss: 0.0390 - val_loss: 0.2091\n",
            "Epoch 91/100\n",
            "13/13 [==============================] - 0s 16ms/step - loss: 0.0349 - val_loss: 0.2116\n",
            "Epoch 92/100\n",
            "13/13 [==============================] - 0s 16ms/step - loss: 0.0452 - val_loss: 0.2617\n",
            "Epoch 93/100\n",
            "13/13 [==============================] - 0s 16ms/step - loss: 0.0413 - val_loss: 0.2165\n",
            "Epoch 94/100\n",
            "13/13 [==============================] - 0s 16ms/step - loss: 0.0585 - val_loss: 0.2069\n",
            "Epoch 95/100\n",
            "13/13 [==============================] - 0s 16ms/step - loss: 0.0333 - val_loss: 0.2037\n",
            "Epoch 96/100\n",
            "13/13 [==============================] - 0s 16ms/step - loss: 0.0408 - val_loss: 0.2139\n",
            "Epoch 97/100\n",
            "13/13 [==============================] - 0s 16ms/step - loss: 0.0347 - val_loss: 0.2519\n",
            "Epoch 98/100\n",
            "13/13 [==============================] - 0s 16ms/step - loss: 0.0365 - val_loss: 0.2092\n",
            "Epoch 99/100\n",
            "13/13 [==============================] - 0s 16ms/step - loss: 0.0314 - val_loss: 0.2127\n",
            "Epoch 100/100\n",
            "13/13 [==============================] - 0s 16ms/step - loss: 0.0267 - val_loss: 0.2148\n"
          ]
        }
      ]
    },
    {
      "cell_type": "markdown",
      "source": [
        "Now we plot the obtained results:"
      ],
      "metadata": {
        "id": "l6xRXtda0sxg"
      }
    },
    {
      "cell_type": "code",
      "source": [
        "%matplotlib inline\n",
        "plot_results(history, n_epochs)"
      ],
      "metadata": {
        "colab": {
          "base_uri": "https://localhost:8080/",
          "height": 430
        },
        "id": "NOLVgoN_0vzr",
        "outputId": "1c4cb716-f829-4edd-9e58-79253086bae2"
      },
      "execution_count": null,
      "outputs": [
        {
          "output_type": "display_data",
          "data": {
            "text/plain": [
              "<Figure size 640x480 with 1 Axes>"
            ],
            "image/png": "[encoded data removed]"
          },
          "metadata": {}
        }
      ]
    },
    {
      "cell_type": "markdown",
      "source": [
        "We now do a simple assessment on the quality of the predictions: given an input-output couple $(x, y = [y_1, y_2, y_3])$, if $\\tilde{y}$ is the value predicted by the model, we calculate the relative error: $\\left[\\dfrac{|y_1 - \\tilde{y_1} + \\epsilon|}{|y_1 + \\epsilon|}, \\dfrac{|y_2 - \\tilde{y_2} + \\epsilon|}{|y_2 + \\epsilon|}, \\dfrac{|y_3 - \\tilde{y_3} + \\epsilon|}{|y_3 + \\epsilon|}\\right]$, where $\\epsilon = 10^{-8}$ is a small constant to avoid dividing by $0$."
      ],
      "metadata": {
        "id": "AApgIjo6ggNY"
      }
    },
    {
      "cell_type": "code",
      "source": [
        "epsilon = 1e-8\n",
        "predictions = model.predict(eval_images)\n",
        "differences = np.abs(predictions - eval_tip_pos - epsilon)\n",
        "relative_errors = differences / np.abs(eval_tip_pos + epsilon)\n",
        "relative_errors_x = relative_errors[:, 0]\n",
        "relative_errors_y = relative_errors[:, 1]\n",
        "relative_errors_z = relative_errors[:, 2]\n",
        "print(len(relative_errors_x), len(relative_errors_y), len(relative_errors_z))\n",
        "# Prune the cases of a zero target (multiplies by 10**6 the error)\n",
        "relative_errors_x = relative_errors_x[eval_tip_pos[:, 0] != 0]\n",
        "relative_errors_y = relative_errors_y[eval_tip_pos[:, 1] != 0]\n",
        "relative_errors_z = relative_errors_z[eval_tip_pos[:, 2] != 0]\n",
        "print(len(relative_errors_x), len(relative_errors_y), len(relative_errors_z))"
      ],
      "metadata": {
        "colab": {
          "base_uri": "https://localhost:8080/"
        },
        "id": "WzEmJDxzDOoE",
        "outputId": "d18360af-fbca-47b1-d446-8248f352b15a"
      },
      "execution_count": null,
      "outputs": [
        {
          "output_type": "stream",
          "name": "stdout",
          "text": [
            "4/4 [==============================] - 0s 6ms/step\n",
            "103 103 103\n",
            "102 102 103\n"
          ]
        }
      ]
    },
    {
      "cell_type": "code",
      "source": [
        "%matplotlib inline\n",
        "plt.hist(relative_errors_x, bins=np.linspace(0, 1, 20))"
      ],
      "metadata": {
        "colab": {
          "base_uri": "https://localhost:8080/",
          "height": 551
        },
        "id": "K1ZDyGnq5aY1",
        "outputId": "40c4011e-681f-4431-de64-580d0eed779d"
      },
      "execution_count": null,
      "outputs": [
        {
          "output_type": "execute_result",
          "data": {
            "text/plain": [
              "(array([37., 18., 22.,  3.,  2.,  2.,  3.,  2.,  0.,  2.,  1.,  1.,  1.,\n",
              "         1.,  1.,  0.,  0.,  0.,  1.]),\n",
              " array([0.        , 0.05263158, 0.10526316, 0.15789474, 0.21052632,\n",
              "        0.26315789, 0.31578947, 0.36842105, 0.42105263, 0.47368421,\n",
              "        0.52631579, 0.57894737, 0.63157895, 0.68421053, 0.73684211,\n",
              "        0.78947368, 0.84210526, 0.89473684, 0.94736842, 1.        ]),\n",
              " <BarContainer object of 19 artists>)"
            ]
          },
          "metadata": {},
          "execution_count": 38
        },
        {
          "output_type": "display_data",
          "data": {
            "text/plain": [
              "<Figure size 640x480 with 1 Axes>"
            ],
            "image/png": "[encoded data removed]"
          },
          "metadata": {}
        }
      ]
    },
    {
      "cell_type": "code",
      "source": [
        "%matplotlib inline\n",
        "plt.hist(relative_errors_y, bins=np.linspace(0, 1, 20))"
      ],
      "metadata": {
        "colab": {
          "base_uri": "https://localhost:8080/",
          "height": 551
        },
        "id": "OLyuoumj9tIq",
        "outputId": "9d88392e-58ac-4277-e014-47a826b1a59d"
      },
      "execution_count": null,
      "outputs": [
        {
          "output_type": "execute_result",
          "data": {
            "text/plain": [
              "(array([75., 18.,  3.,  0.,  3.,  0.,  0.,  1.,  0.,  0.,  0.,  0.,  0.,\n",
              "         0.,  1.,  0.,  0.,  1.,  0.]),\n",
              " array([0.        , 0.05263158, 0.10526316, 0.15789474, 0.21052632,\n",
              "        0.26315789, 0.31578947, 0.36842105, 0.42105263, 0.47368421,\n",
              "        0.52631579, 0.57894737, 0.63157895, 0.68421053, 0.73684211,\n",
              "        0.78947368, 0.84210526, 0.89473684, 0.94736842, 1.        ]),\n",
              " <BarContainer object of 19 artists>)"
            ]
          },
          "metadata": {},
          "execution_count": 39
        },
        {
          "output_type": "display_data",
          "data": {
            "text/plain": [
              "<Figure size 640x480 with 1 Axes>"
            ],
            "image/png": "[encoded data removed]"
          },
          "metadata": {}
        }
      ]
    },
    {
      "cell_type": "code",
      "source": [
        "%matplotlib inline\n",
        "plt.hist(relative_errors_z, bins=np.linspace(0, 1, 20))"
      ],
      "metadata": {
        "colab": {
          "base_uri": "https://localhost:8080/",
          "height": 551
        },
        "id": "J-ZgFWHD-qLC",
        "outputId": "a76bd892-b972-4365-b819-07658a5702c9"
      },
      "execution_count": null,
      "outputs": [
        {
          "output_type": "execute_result",
          "data": {
            "text/plain": [
              "(array([103.,   0.,   0.,   0.,   0.,   0.,   0.,   0.,   0.,   0.,   0.,\n",
              "          0.,   0.,   0.,   0.,   0.,   0.,   0.,   0.]),\n",
              " array([0.        , 0.05263158, 0.10526316, 0.15789474, 0.21052632,\n",
              "        0.26315789, 0.31578947, 0.36842105, 0.42105263, 0.47368421,\n",
              "        0.52631579, 0.57894737, 0.63157895, 0.68421053, 0.73684211,\n",
              "        0.78947368, 0.84210526, 0.89473684, 0.94736842, 1.        ]),\n",
              " <BarContainer object of 19 artists>)"
            ]
          },
          "metadata": {},
          "execution_count": 40
        },
        {
          "output_type": "display_data",
          "data": {
            "text/plain": [
              "<Figure size 640x480 with 1 Axes>"
            ],
            "image/png": "[encoded data removed]"
          },
          "metadata": {}
        }
      ]
    },
    {
      "cell_type": "markdown",
      "source": [
        "### Fine-Tuning a pretrained VGG"
      ],
      "metadata": {
        "id": "eaTV-l3Bavt3"
      }
    },
    {
      "cell_type": "code",
      "source": [
        "%matplotlib inline\n",
        "images, tip_pos = get_dataset(target_size=(224, 224), force_resize=False, rescale_coordinates=100)"
      ],
      "metadata": {
        "id": "Xzr6dEteayWx"
      },
      "execution_count": 14,
      "outputs": []
    },
    {
      "cell_type": "code",
      "source": [
        "print(images.shape, images.dtype)\n",
        "plt.imshow(PIL.Image.fromarray((255 * images[12]).astype(np.uint8)))"
      ],
      "metadata": {
        "colab": {
          "base_uri": "https://localhost:8080/",
          "height": 469
        },
        "id": "014Ye5PygFbh",
        "outputId": "cd51e942-d201-499e-bfd2-775a8d966e5f"
      },
      "execution_count": 15,
      "outputs": [
        {
          "output_type": "stream",
          "name": "stdout",
          "text": [
            "(513, 224, 224, 3) float32\n"
          ]
        },
        {
          "output_type": "execute_result",
          "data": {
            "text/plain": [
              "<matplotlib.image.AxesImage at 0x7ff7941c1600>"
            ]
          },
          "metadata": {},
          "execution_count": 15
        },
        {
          "output_type": "display_data",
          "data": {
            "text/plain": [
              "<Figure size 640x480 with 1 Axes>"
            ],
            "image/png": "[encoded data removed]"
          },
          "metadata": {}
        }
      ]
    },
    {
      "cell_type": "code",
      "source": [
        "train_images, eval_images, train_tip_pos, eval_tip_pos = train_test_split(images, tip_pos, test_size=0.2, random_state=0)"
      ],
      "metadata": {
        "id": "Sj9wpNUfbtZV"
      },
      "execution_count": 16,
      "outputs": []
    },
    {
      "cell_type": "code",
      "source": [
        "base_model = tf.keras.applications.VGG16(\n",
        "    include_top=False,\n",
        "    weights=\"imagenet\",\n",
        ")\n",
        "base_model.trainable = False"
      ],
      "metadata": {
        "id": "ToqmhD-Fed1m"
      },
      "execution_count": 17,
      "outputs": []
    },
    {
      "cell_type": "code",
      "source": [
        "inputs = tf.keras.layers.Input(shape=(224, 224, 3))\n",
        "x = base_model(inputs, training=False)\n",
        "x = tf.keras.layers.Flatten()(x)\n",
        "outputs = tf.keras.layers.Dense(3, activation='linear')(x)\n",
        "finetuned_vgg_model = tf.keras.Model(inputs, outputs)"
      ],
      "metadata": {
        "id": "mC35EIGpfT3F"
      },
      "execution_count": 18,
      "outputs": []
    },
    {
      "cell_type": "code",
      "source": [
        "finetuned_vgg_model.summary()"
      ],
      "metadata": {
        "colab": {
          "base_uri": "https://localhost:8080/"
        },
        "id": "aTz0o4Nwh96d",
        "outputId": "cd3f56fe-d055-4c69-e39f-8953faae1d6f"
      },
      "execution_count": 19,
      "outputs": [
        {
          "output_type": "stream",
          "name": "stdout",
          "text": [
            "Model: \"model_1\"\n",
            "_________________________________________________________________\n",
            " Layer (type)                Output Shape              Param #   \n",
            "=================================================================\n",
            " input_4 (InputLayer)        [(None, 224, 224, 3)]     0         \n",
            "                                                                 \n",
            " vgg16 (Functional)          (None, None, None, 512)   14714688  \n",
            "                                                                 \n",
            " flatten_1 (Flatten)         (None, 25088)             0         \n",
            "                                                                 \n",
            " dense_1 (Dense)             (None, 3)                 75267     \n",
            "                                                                 \n",
            "=================================================================\n",
            "Total params: 14,789,955\n",
            "Trainable params: 75,267\n",
            "Non-trainable params: 14,714,688\n",
            "_________________________________________________________________\n"
          ]
        }
      ]
    },
    {
      "cell_type": "code",
      "source": [
        "finetuned_vgg_model.compile(loss='mean_squared_error', optimizer=tf.keras.optimizers.Adam(learning_rate=1e-3))"
      ],
      "metadata": {
        "id": "xBVsIeOqiOmV"
      },
      "execution_count": 20,
      "outputs": []
    },
    {
      "cell_type": "code",
      "source": [
        "finetuned_vgg_history = finetuned_vgg_model.fit(\n",
        "    train_images, train_tip_pos, epochs=n_epochs,\n",
        "    validation_data=(eval_images, eval_tip_pos),\n",
        "    batch_size = batch_size, shuffle=True,\n",
        ")"
      ],
      "metadata": {
        "colab": {
          "base_uri": "https://localhost:8080/"
        },
        "id": "JpKxCqC8idti",
        "outputId": "c25236e6-a6a9-4dfe-b516-1076271bcd20"
      },
      "execution_count": 21,
      "outputs": [
        {
          "output_type": "stream",
          "name": "stdout",
          "text": [
            "Epoch 1/100\n",
            "13/13 [==============================] - 1s 56ms/step - loss: 54.8406 - val_loss: 29.2767\n",
            "Epoch 2/100\n",
            "13/13 [==============================] - 0s 32ms/step - loss: 17.4460 - val_loss: 14.7495\n",
            "Epoch 3/100\n",
            "13/13 [==============================] - 0s 32ms/step - loss: 9.3956 - val_loss: 6.4674\n",
            "Epoch 4/100\n",
            "13/13 [==============================] - 0s 32ms/step - loss: 4.8890 - val_loss: 4.0506\n",
            "Epoch 5/100\n",
            "13/13 [==============================] - 0s 32ms/step - loss: 3.2037 - val_loss: 2.3651\n",
            "Epoch 6/100\n",
            "13/13 [==============================] - 0s 32ms/step - loss: 1.9724 - val_loss: 1.4258\n",
            "Epoch 7/100\n",
            "13/13 [==============================] - 0s 32ms/step - loss: 1.4843 - val_loss: 1.0598\n",
            "Epoch 8/100\n",
            "13/13 [==============================] - 0s 32ms/step - loss: 1.2503 - val_loss: 0.9558\n",
            "Epoch 9/100\n",
            "13/13 [==============================] - 0s 32ms/step - loss: 1.0133 - val_loss: 0.7321\n",
            "Epoch 10/100\n",
            "13/13 [==============================] - 0s 32ms/step - loss: 0.8191 - val_loss: 0.6584\n",
            "Epoch 11/100\n",
            "13/13 [==============================] - 0s 32ms/step - loss: 0.6968 - val_loss: 0.5406\n",
            "Epoch 12/100\n",
            "13/13 [==============================] - 0s 32ms/step - loss: 0.6214 - val_loss: 0.4986\n",
            "Epoch 13/100\n",
            "13/13 [==============================] - 0s 32ms/step - loss: 0.5644 - val_loss: 0.4938\n",
            "Epoch 14/100\n",
            "13/13 [==============================] - 0s 32ms/step - loss: 0.5503 - val_loss: 0.4021\n",
            "Epoch 15/100\n",
            "13/13 [==============================] - 0s 32ms/step - loss: 0.4518 - val_loss: 0.3919\n",
            "Epoch 16/100\n",
            "13/13 [==============================] - 0s 32ms/step - loss: 0.4057 - val_loss: 0.3523\n",
            "Epoch 17/100\n",
            "13/13 [==============================] - 0s 32ms/step - loss: 0.3771 - val_loss: 0.3276\n",
            "Epoch 18/100\n",
            "13/13 [==============================] - 0s 32ms/step - loss: 0.3482 - val_loss: 0.3304\n",
            "Epoch 19/100\n",
            "13/13 [==============================] - 0s 32ms/step - loss: 0.3291 - val_loss: 0.2849\n",
            "Epoch 20/100\n",
            "13/13 [==============================] - 0s 34ms/step - loss: 0.2851 - val_loss: 0.2772\n",
            "Epoch 21/100\n",
            "13/13 [==============================] - 0s 32ms/step - loss: 0.2662 - val_loss: 0.2579\n",
            "Epoch 22/100\n",
            "13/13 [==============================] - 0s 33ms/step - loss: 0.2454 - val_loss: 0.2426\n",
            "Epoch 23/100\n",
            "13/13 [==============================] - 0s 33ms/step - loss: 0.2340 - val_loss: 0.2474\n",
            "Epoch 24/100\n",
            "13/13 [==============================] - 0s 32ms/step - loss: 0.2248 - val_loss: 0.2252\n",
            "Epoch 25/100\n",
            "13/13 [==============================] - 0s 32ms/step - loss: 0.2242 - val_loss: 0.2176\n",
            "Epoch 26/100\n",
            "13/13 [==============================] - 0s 32ms/step - loss: 0.1988 - val_loss: 0.2193\n",
            "Epoch 27/100\n",
            "13/13 [==============================] - 0s 32ms/step - loss: 0.1923 - val_loss: 0.2183\n",
            "Epoch 28/100\n",
            "13/13 [==============================] - 0s 32ms/step - loss: 0.1716 - val_loss: 0.2116\n",
            "Epoch 29/100\n",
            "13/13 [==============================] - 0s 31ms/step - loss: 0.1857 - val_loss: 0.2351\n",
            "Epoch 30/100\n",
            "13/13 [==============================] - 0s 32ms/step - loss: 0.1638 - val_loss: 0.2319\n",
            "Epoch 31/100\n",
            "13/13 [==============================] - 0s 32ms/step - loss: 0.1798 - val_loss: 0.2910\n",
            "Epoch 32/100\n",
            "13/13 [==============================] - 0s 32ms/step - loss: 0.1787 - val_loss: 0.1781\n",
            "Epoch 33/100\n",
            "13/13 [==============================] - 0s 32ms/step - loss: 0.1334 - val_loss: 0.1753\n",
            "Epoch 34/100\n",
            "13/13 [==============================] - 0s 32ms/step - loss: 0.1301 - val_loss: 0.1912\n",
            "Epoch 35/100\n",
            "13/13 [==============================] - 0s 32ms/step - loss: 0.1313 - val_loss: 0.1823\n",
            "Epoch 36/100\n",
            "13/13 [==============================] - 0s 32ms/step - loss: 0.1187 - val_loss: 0.1851\n",
            "Epoch 37/100\n",
            "13/13 [==============================] - 0s 32ms/step - loss: 0.1178 - val_loss: 0.1597\n",
            "Epoch 38/100\n",
            "13/13 [==============================] - 0s 31ms/step - loss: 0.1072 - val_loss: 0.1615\n",
            "Epoch 39/100\n",
            "13/13 [==============================] - 0s 33ms/step - loss: 0.1155 - val_loss: 0.1860\n",
            "Epoch 40/100\n",
            "13/13 [==============================] - 0s 32ms/step - loss: 0.1033 - val_loss: 0.1498\n",
            "Epoch 41/100\n",
            "13/13 [==============================] - 0s 32ms/step - loss: 0.1029 - val_loss: 0.1782\n",
            "Epoch 42/100\n",
            "13/13 [==============================] - 0s 32ms/step - loss: 0.1204 - val_loss: 0.1432\n",
            "Epoch 43/100\n",
            "13/13 [==============================] - 0s 32ms/step - loss: 0.1055 - val_loss: 0.1440\n",
            "Epoch 44/100\n",
            "13/13 [==============================] - 0s 32ms/step - loss: 0.0871 - val_loss: 0.1540\n",
            "Epoch 45/100\n",
            "13/13 [==============================] - 0s 31ms/step - loss: 0.0853 - val_loss: 0.1824\n",
            "Epoch 46/100\n",
            "13/13 [==============================] - 0s 31ms/step - loss: 0.0920 - val_loss: 0.1496\n",
            "Epoch 47/100\n",
            "13/13 [==============================] - 0s 32ms/step - loss: 0.0844 - val_loss: 0.1485\n",
            "Epoch 48/100\n",
            "13/13 [==============================] - 0s 32ms/step - loss: 0.0785 - val_loss: 0.1355\n",
            "Epoch 49/100\n",
            "13/13 [==============================] - 0s 32ms/step - loss: 0.0729 - val_loss: 0.1323\n",
            "Epoch 50/100\n",
            "13/13 [==============================] - 0s 32ms/step - loss: 0.0720 - val_loss: 0.1395\n",
            "Epoch 51/100\n",
            "13/13 [==============================] - 0s 32ms/step - loss: 0.0688 - val_loss: 0.1341\n",
            "Epoch 52/100\n",
            "13/13 [==============================] - 0s 33ms/step - loss: 0.0666 - val_loss: 0.1396\n",
            "Epoch 53/100\n",
            "13/13 [==============================] - 0s 32ms/step - loss: 0.0727 - val_loss: 0.1274\n",
            "Epoch 54/100\n",
            "13/13 [==============================] - 0s 32ms/step - loss: 0.0655 - val_loss: 0.1533\n",
            "Epoch 55/100\n",
            "13/13 [==============================] - 0s 32ms/step - loss: 0.0676 - val_loss: 0.1347\n",
            "Epoch 56/100\n",
            "13/13 [==============================] - 0s 32ms/step - loss: 0.0657 - val_loss: 0.1240\n",
            "Epoch 57/100\n",
            "13/13 [==============================] - 0s 32ms/step - loss: 0.0581 - val_loss: 0.1376\n",
            "Epoch 58/100\n",
            "13/13 [==============================] - 0s 32ms/step - loss: 0.0617 - val_loss: 0.1429\n",
            "Epoch 59/100\n",
            "13/13 [==============================] - 0s 32ms/step - loss: 0.0732 - val_loss: 0.1459\n",
            "Epoch 60/100\n",
            "13/13 [==============================] - 0s 32ms/step - loss: 0.0684 - val_loss: 0.1214\n",
            "Epoch 61/100\n",
            "13/13 [==============================] - 0s 32ms/step - loss: 0.0538 - val_loss: 0.1551\n",
            "Epoch 62/100\n",
            "13/13 [==============================] - 0s 32ms/step - loss: 0.0634 - val_loss: 0.1301\n",
            "Epoch 63/100\n",
            "13/13 [==============================] - 0s 32ms/step - loss: 0.0543 - val_loss: 0.1248\n",
            "Epoch 64/100\n",
            "13/13 [==============================] - 0s 32ms/step - loss: 0.0485 - val_loss: 0.1252\n",
            "Epoch 65/100\n",
            "13/13 [==============================] - 0s 32ms/step - loss: 0.0448 - val_loss: 0.1294\n",
            "Epoch 66/100\n",
            "13/13 [==============================] - 0s 32ms/step - loss: 0.0452 - val_loss: 0.1374\n",
            "Epoch 67/100\n",
            "13/13 [==============================] - 0s 31ms/step - loss: 0.0516 - val_loss: 0.1285\n",
            "Epoch 68/100\n",
            "13/13 [==============================] - 0s 32ms/step - loss: 0.0439 - val_loss: 0.1224\n",
            "Epoch 69/100\n",
            "13/13 [==============================] - 0s 32ms/step - loss: 0.0416 - val_loss: 0.1223\n",
            "Epoch 70/100\n",
            "13/13 [==============================] - 0s 32ms/step - loss: 0.0444 - val_loss: 0.1245\n",
            "Epoch 71/100\n",
            "13/13 [==============================] - 0s 32ms/step - loss: 0.0451 - val_loss: 0.1245\n",
            "Epoch 72/100\n",
            "13/13 [==============================] - 0s 32ms/step - loss: 0.0420 - val_loss: 0.1190\n",
            "Epoch 73/100\n",
            "13/13 [==============================] - 0s 31ms/step - loss: 0.0395 - val_loss: 0.1205\n",
            "Epoch 74/100\n",
            "13/13 [==============================] - 0s 31ms/step - loss: 0.0420 - val_loss: 0.1271\n",
            "Epoch 75/100\n",
            "13/13 [==============================] - 0s 32ms/step - loss: 0.0423 - val_loss: 0.1291\n",
            "Epoch 76/100\n",
            "13/13 [==============================] - 0s 32ms/step - loss: 0.0525 - val_loss: 0.1193\n",
            "Epoch 77/100\n",
            "13/13 [==============================] - 0s 32ms/step - loss: 0.0463 - val_loss: 0.1695\n",
            "Epoch 78/100\n",
            "13/13 [==============================] - 0s 32ms/step - loss: 0.0486 - val_loss: 0.1185\n",
            "Epoch 79/100\n",
            "13/13 [==============================] - 0s 32ms/step - loss: 0.0348 - val_loss: 0.1217\n",
            "Epoch 80/100\n",
            "13/13 [==============================] - 0s 32ms/step - loss: 0.0335 - val_loss: 0.1193\n",
            "Epoch 81/100\n",
            "13/13 [==============================] - 0s 32ms/step - loss: 0.0384 - val_loss: 0.1220\n",
            "Epoch 82/100\n",
            "13/13 [==============================] - 0s 32ms/step - loss: 0.0373 - val_loss: 0.1182\n",
            "Epoch 83/100\n",
            "13/13 [==============================] - 0s 32ms/step - loss: 0.0323 - val_loss: 0.1227\n",
            "Epoch 84/100\n",
            "13/13 [==============================] - 0s 32ms/step - loss: 0.0349 - val_loss: 0.1217\n",
            "Epoch 85/100\n",
            "13/13 [==============================] - 0s 31ms/step - loss: 0.0321 - val_loss: 0.1166\n",
            "Epoch 86/100\n",
            "13/13 [==============================] - 0s 32ms/step - loss: 0.0285 - val_loss: 0.1283\n",
            "Epoch 87/100\n",
            "13/13 [==============================] - 0s 32ms/step - loss: 0.0297 - val_loss: 0.1194\n",
            "Epoch 88/100\n",
            "13/13 [==============================] - 0s 32ms/step - loss: 0.0297 - val_loss: 0.1194\n",
            "Epoch 89/100\n",
            "13/13 [==============================] - 0s 31ms/step - loss: 0.0302 - val_loss: 0.1346\n",
            "Epoch 90/100\n",
            "13/13 [==============================] - 0s 32ms/step - loss: 0.0295 - val_loss: 0.1309\n",
            "Epoch 91/100\n",
            "13/13 [==============================] - 0s 32ms/step - loss: 0.0288 - val_loss: 0.1171\n",
            "Epoch 92/100\n",
            "13/13 [==============================] - 0s 32ms/step - loss: 0.0303 - val_loss: 0.1194\n",
            "Epoch 93/100\n",
            "13/13 [==============================] - 0s 32ms/step - loss: 0.0246 - val_loss: 0.1195\n",
            "Epoch 94/100\n",
            "13/13 [==============================] - 0s 32ms/step - loss: 0.0297 - val_loss: 0.1180\n",
            "Epoch 95/100\n",
            "13/13 [==============================] - 0s 32ms/step - loss: 0.0285 - val_loss: 0.1288\n",
            "Epoch 96/100\n",
            "13/13 [==============================] - 0s 32ms/step - loss: 0.0323 - val_loss: 0.1266\n",
            "Epoch 97/100\n",
            "13/13 [==============================] - 0s 32ms/step - loss: 0.0368 - val_loss: 0.1310\n",
            "Epoch 98/100\n",
            "13/13 [==============================] - 0s 32ms/step - loss: 0.0324 - val_loss: 0.1271\n",
            "Epoch 99/100\n",
            "13/13 [==============================] - 0s 32ms/step - loss: 0.0250 - val_loss: 0.1148\n",
            "Epoch 100/100\n",
            "13/13 [==============================] - 0s 31ms/step - loss: 0.0231 - val_loss: 0.1200\n"
          ]
        }
      ]
    },
    {
      "cell_type": "code",
      "source": [
        "epsilon = 1e-8\n",
        "predictions = finetuned_vgg_model.predict(eval_images)\n",
        "differences = np.abs(predictions - eval_tip_pos - epsilon)\n",
        "relative_errors = differences / np.abs(eval_tip_pos + epsilon)\n",
        "relative_errors_x = relative_errors[:, 0]\n",
        "relative_errors_y = relative_errors[:, 1]\n",
        "relative_errors_z = relative_errors[:, 2]\n",
        "print(len(relative_errors_x), len(relative_errors_y), len(relative_errors_z))\n",
        "# Prune the cases of a zero target (multiplies by 10**6 the error)\n",
        "relative_errors_x = relative_errors_x[eval_tip_pos[:, 0] != 0]\n",
        "relative_errors_y = relative_errors_y[eval_tip_pos[:, 1] != 0]\n",
        "relative_errors_z = relative_errors_z[eval_tip_pos[:, 2] != 0]\n",
        "print(len(relative_errors_x), len(relative_errors_y), len(relative_errors_z))"
      ],
      "metadata": {
        "colab": {
          "base_uri": "https://localhost:8080/"
        },
        "id": "9Fo7-2jSkbEr",
        "outputId": "39530cc8-f59c-4e51-dfce-16da052059bb"
      },
      "execution_count": 22,
      "outputs": [
        {
          "output_type": "stream",
          "name": "stdout",
          "text": [
            "4/4 [==============================] - 0s 23ms/step\n",
            "103 103 103\n",
            "102 102 103\n"
          ]
        }
      ]
    },
    {
      "cell_type": "code",
      "source": [
        "%matplotlib inline\n",
        "plt.hist(relative_errors_x, bins=np.linspace(0, 1, 20))"
      ],
      "metadata": {
        "colab": {
          "base_uri": "https://localhost:8080/",
          "height": 551
        },
        "id": "IeZ-KZM0krZt",
        "outputId": "42b92428-813d-4c30-9029-688040f90b21"
      },
      "execution_count": 23,
      "outputs": [
        {
          "output_type": "execute_result",
          "data": {
            "text/plain": [
              "(array([57., 17.,  9.,  5.,  4.,  0.,  0.,  0.,  1.,  0.,  0.,  0.,  1.,\n",
              "         1.,  1.,  0.,  0.,  0.,  1.]),\n",
              " array([0.        , 0.05263158, 0.10526316, 0.15789474, 0.21052632,\n",
              "        0.26315789, 0.31578947, 0.36842105, 0.42105263, 0.47368421,\n",
              "        0.52631579, 0.57894737, 0.63157895, 0.68421053, 0.73684211,\n",
              "        0.78947368, 0.84210526, 0.89473684, 0.94736842, 1.        ]),\n",
              " <BarContainer object of 19 artists>)"
            ]
          },
          "metadata": {},
          "execution_count": 23
        },
        {
          "output_type": "display_data",
          "data": {
            "text/plain": [
              "<Figure size 640x480 with 1 Axes>"
            ],
            "image/png": "[encoded data removed]"
          },
          "metadata": {}
        }
      ]
    },
    {
      "cell_type": "code",
      "source": [
        "%matplotlib inline\n",
        "plt.hist(relative_errors_y, bins=np.linspace(0, 1, 20))"
      ],
      "metadata": {
        "colab": {
          "base_uri": "https://localhost:8080/",
          "height": 551
        },
        "id": "SLzy1Lo1k0QE",
        "outputId": "da4bde3e-1410-4c8b-f30e-7f1f0431ee18"
      },
      "execution_count": 24,
      "outputs": [
        {
          "output_type": "execute_result",
          "data": {
            "text/plain": [
              "(array([75., 13.,  6.,  3.,  0.,  0.,  2.,  0.,  1.,  1.,  0.,  0.,  0.,\n",
              "         0.,  0.,  0.,  0.,  0.,  0.]),\n",
              " array([0.        , 0.05263158, 0.10526316, 0.15789474, 0.21052632,\n",
              "        0.26315789, 0.31578947, 0.36842105, 0.42105263, 0.47368421,\n",
              "        0.52631579, 0.57894737, 0.63157895, 0.68421053, 0.73684211,\n",
              "        0.78947368, 0.84210526, 0.89473684, 0.94736842, 1.        ]),\n",
              " <BarContainer object of 19 artists>)"
            ]
          },
          "metadata": {},
          "execution_count": 24
        },
        {
          "output_type": "display_data",
          "data": {
            "text/plain": [
              "<Figure size 640x480 with 1 Axes>"
            ],
            "image/png": "[encoded data removed]"
          },
          "metadata": {}
        }
      ]
    },
    {
      "cell_type": "code",
      "source": [
        "%matplotlib inline\n",
        "plt.hist(relative_errors_z, bins=np.linspace(0, 1, 20))"
      ],
      "metadata": {
        "colab": {
          "base_uri": "https://localhost:8080/",
          "height": 551
        },
        "id": "UDODtFBhk7Oo",
        "outputId": "04cae69f-9118-4797-86c5-6d587b181c0d"
      },
      "execution_count": 25,
      "outputs": [
        {
          "output_type": "execute_result",
          "data": {
            "text/plain": [
              "(array([103.,   0.,   0.,   0.,   0.,   0.,   0.,   0.,   0.,   0.,   0.,\n",
              "          0.,   0.,   0.,   0.,   0.,   0.,   0.,   0.]),\n",
              " array([0.        , 0.05263158, 0.10526316, 0.15789474, 0.21052632,\n",
              "        0.26315789, 0.31578947, 0.36842105, 0.42105263, 0.47368421,\n",
              "        0.52631579, 0.57894737, 0.63157895, 0.68421053, 0.73684211,\n",
              "        0.78947368, 0.84210526, 0.89473684, 0.94736842, 1.        ]),\n",
              " <BarContainer object of 19 artists>)"
            ]
          },
          "metadata": {},
          "execution_count": 25
        },
        {
          "output_type": "display_data",
          "data": {
            "text/plain": [
              "<Figure size 640x480 with 1 Axes>"
            ],
            "image/png": "[encoded data removed]"
          },
          "metadata": {}
        }
      ]
    },
    {
      "cell_type": "markdown",
      "source": [
        "### Data Augmentation\n",
        "We start with a simple `Data Augmentation` technique consisting in horizontally flipping the image. Remember that in this dataset, the camera is aligned to the `x`-axis, flipping the image to the right actually changes only the value of $y \\rightarrow -y$."
      ],
      "metadata": {
        "id": "xFZGnmnAhAtK"
      }
    },
    {
      "cell_type": "code",
      "source": [
        "def apply_horizontal_flip(images, tip_pos):\n",
        "  flipped_images = np.flip(images, axis=2)\n",
        "  flipped_tip_pos = tip_pos.copy()\n",
        "  flipped_tip_pos[:, 1] = -flipped_tip_pos[:, 1]\n",
        "  return np.r_[images, flipped_images], np.r_[tip_pos, flipped_tip_pos]"
      ],
      "metadata": {
        "id": "sMGgix5T-wCV"
      },
      "execution_count": null,
      "outputs": []
    },
    {
      "cell_type": "code",
      "source": [
        "images, tip_pos = apply_horizontal_flip(images, tip_pos)"
      ],
      "metadata": {
        "id": "ne0X6ZsD8AU2"
      },
      "execution_count": null,
      "outputs": []
    },
    {
      "cell_type": "code",
      "source": [
        "%matplotlib inline\n",
        "fig, ax = plt.subplots(1, 2)\n",
        "ax[0].imshow(images[10, :, :, 1])\n",
        "ax[1].imshow(images[513+10, :, :, 1])"
      ],
      "metadata": {
        "colab": {
          "base_uri": "https://localhost:8080/",
          "height": 209
        },
        "id": "M--ZFaqb7Jdg",
        "outputId": "b3899bd0-1578-4557-dfb0-8ae134f1c42e"
      },
      "execution_count": null,
      "outputs": [
        {
          "output_type": "execute_result",
          "data": {
            "text/plain": [
              "<matplotlib.image.AxesImage at 0x7f26e82fc820>"
            ]
          },
          "metadata": {},
          "execution_count": 24
        },
        {
          "output_type": "display_data",
          "data": {
            "text/plain": [
              "<Figure size 640x480 with 2 Axes>"
            ],
            "image/png": "[encoded data removed]"
          },
          "metadata": {}
        }
      ]
    },
    {
      "cell_type": "code",
      "source": [
        "train_images, eval_images, train_tip_pos, eval_tip_pos = train_test_split(images, tip_pos, test_size=0.2, random_state=0)"
      ],
      "metadata": {
        "id": "o9gqS4W88vFA"
      },
      "execution_count": null,
      "outputs": []
    },
    {
      "cell_type": "code",
      "source": [
        "model2 = tf.keras.Sequential([\n",
        "\n",
        "  tf.keras.layers.Conv2D(8, kernel_size=4, activation='relu', padding='same', input_shape=(135, 240, 3)),\n",
        "  #tf.keras.layers.BatchNormalization(),\n",
        "  tf.keras.layers.Conv2D(8, kernel_size=4, activation='relu', padding='same'),\n",
        "  #tf.keras.layers.BatchNormalization(),\n",
        "  tf.keras.layers.MaxPool2D(),\n",
        "  #tf.keras.layers.BatchNormalization(),\n",
        "  #tf.keras.layers.Dropout(0.2),\n",
        "\n",
        "  tf.keras.layers.Conv2D(16, kernel_size=4, activation='relu', padding='same'),\n",
        "  #tf.keras.layers.BatchNormalization(),\n",
        "  tf.keras.layers.Conv2D(16, kernel_size=4, activation='relu', padding='same'),\n",
        "  #tf.keras.layers.BatchNormalization(),\n",
        "  tf.keras.layers.MaxPool2D(),\n",
        "  #tf.keras.layers.BatchNormalization(),\n",
        "  #tf.keras.layers.Dropout(0.3),\n",
        "\n",
        "  tf.keras.layers.Conv2D(32, kernel_size=4, activation='relu', padding='same'),\n",
        "  #tf.keras.layers.BatchNormalization(),\n",
        "  tf.keras.layers.Conv2D(32, kernel_size=4, activation='relu', padding='same'),\n",
        "  #tf.keras.layers.BatchNormalization(),\n",
        "  tf.keras.layers.MaxPool2D(),\n",
        "  #tf.keras.layers.BatchNormalization(),\n",
        "  #tf.keras.layers.Dropout(0.3),\n",
        "\n",
        "  tf.keras.layers.Conv2D(64, kernel_size=4, activation='relu', padding='same'),\n",
        "  #tf.keras.layers.BatchNormalization(),\n",
        "  tf.keras.layers.Conv2D(64, kernel_size=4, activation='relu', padding='same'),\n",
        "  #tf.keras.layers.BatchNormalization(),\n",
        "  tf.keras.layers.MaxPool2D(),\n",
        "  #tf.keras.layers.BatchNormalization(),\n",
        "  #tf.keras.layers.Dropout(0.3),\n",
        "\n",
        "  tf.keras.layers.Conv2D(128, kernel_size=4, activation='relu', padding='same'),\n",
        "  #tf.keras.layers.BatchNormalization(),\n",
        "  tf.keras.layers.Conv2D(128, kernel_size=4, activation='relu', padding='same'),\n",
        "  #tf.keras.layers.BatchNormalization(),\n",
        "  tf.keras.layers.MaxPool2D(),\n",
        "  #tf.keras.layers.BatchNormalization(),\n",
        "  #tf.keras.layers.Dropout(0.3),\n",
        "\n",
        "  tf.keras.layers.Flatten(),\n",
        "  #tf.keras.layers.BatchNormalization(),\n",
        "  tf.keras.layers.Dense(units=256, activation='relu'),\n",
        "  tf.keras.layers.Dense(units=50, activation='relu'),\n",
        "  #tf.keras.layers.Dropout(0.5),\n",
        "  tf.keras.layers.Dense(units=3, activation='linear')\n",
        "])"
      ],
      "metadata": {
        "id": "2D1zFI6A7-ki"
      },
      "execution_count": null,
      "outputs": []
    },
    {
      "cell_type": "code",
      "source": [
        "model2.compile(loss='mean_squared_error', optimizer=tf.keras.optimizers.Adam(learning_rate=1e-3))"
      ],
      "metadata": {
        "id": "1strI4Gw8iTw"
      },
      "execution_count": null,
      "outputs": []
    },
    {
      "cell_type": "code",
      "source": [
        "model2.summary()"
      ],
      "metadata": {
        "colab": {
          "base_uri": "https://localhost:8080/"
        },
        "id": "Z7qM7rD-8j7p",
        "outputId": "69e51cbf-0eb4-4817-c82b-7c2677145b49"
      },
      "execution_count": null,
      "outputs": [
        {
          "output_type": "stream",
          "name": "stdout",
          "text": [
            "Model: \"sequential_3\"\n",
            "_________________________________________________________________\n",
            " Layer (type)                Output Shape              Param #   \n",
            "=================================================================\n",
            " conv2d_42 (Conv2D)          (None, 135, 240, 8)       392       \n",
            "                                                                 \n",
            " conv2d_43 (Conv2D)          (None, 135, 240, 8)       1032      \n",
            "                                                                 \n",
            " max_pooling2d_21 (MaxPoolin  (None, 67, 120, 8)       0         \n",
            " g2D)                                                            \n",
            "                                                                 \n",
            " conv2d_44 (Conv2D)          (None, 67, 120, 16)       2064      \n",
            "                                                                 \n",
            " conv2d_45 (Conv2D)          (None, 67, 120, 16)       4112      \n",
            "                                                                 \n",
            " max_pooling2d_22 (MaxPoolin  (None, 33, 60, 16)       0         \n",
            " g2D)                                                            \n",
            "                                                                 \n",
            " conv2d_46 (Conv2D)          (None, 33, 60, 32)        8224      \n",
            "                                                                 \n",
            " conv2d_47 (Conv2D)          (None, 33, 60, 32)        16416     \n",
            "                                                                 \n",
            " max_pooling2d_23 (MaxPoolin  (None, 16, 30, 32)       0         \n",
            " g2D)                                                            \n",
            "                                                                 \n",
            " conv2d_48 (Conv2D)          (None, 16, 30, 64)        32832     \n",
            "                                                                 \n",
            " conv2d_49 (Conv2D)          (None, 16, 30, 64)        65600     \n",
            "                                                                 \n",
            " max_pooling2d_24 (MaxPoolin  (None, 8, 15, 64)        0         \n",
            " g2D)                                                            \n",
            "                                                                 \n",
            " conv2d_50 (Conv2D)          (None, 8, 15, 128)        131200    \n",
            "                                                                 \n",
            " conv2d_51 (Conv2D)          (None, 8, 15, 128)        262272    \n",
            "                                                                 \n",
            " max_pooling2d_25 (MaxPoolin  (None, 4, 7, 128)        0         \n",
            " g2D)                                                            \n",
            "                                                                 \n",
            " flatten_4 (Flatten)         (None, 3584)              0         \n",
            "                                                                 \n",
            " dense_12 (Dense)            (None, 256)               917760    \n",
            "                                                                 \n",
            " dense_13 (Dense)            (None, 50)                12850     \n",
            "                                                                 \n",
            " dense_14 (Dense)            (None, 3)                 153       \n",
            "                                                                 \n",
            "=================================================================\n",
            "Total params: 1,454,907\n",
            "Trainable params: 1,454,907\n",
            "Non-trainable params: 0\n",
            "_________________________________________________________________\n"
          ]
        }
      ]
    },
    {
      "cell_type": "code",
      "source": [
        "history2 = model2.fit(\n",
        "    train_images, train_tip_pos, epochs=n_epochs,\n",
        "    validation_data=(eval_images, eval_tip_pos),\n",
        "    batch_size = batch_size, shuffle=True,\n",
        ")"
      ],
      "metadata": {
        "colab": {
          "base_uri": "https://localhost:8080/"
        },
        "id": "PbHwinkM8m-R",
        "outputId": "e7bf6881-970b-423f-9b07-6147e75d8d84"
      },
      "execution_count": null,
      "outputs": [
        {
          "output_type": "stream",
          "name": "stdout",
          "text": [
            "Epoch 1/100\n",
            "26/26 [==============================] - 5s 25ms/step - loss: 127.1975 - val_loss: 49.7722\n",
            "Epoch 2/100\n",
            "26/26 [==============================] - 0s 15ms/step - loss: 43.8330 - val_loss: 41.7589\n",
            "Epoch 3/100\n",
            "26/26 [==============================] - 0s 15ms/step - loss: 40.9921 - val_loss: 41.1363\n",
            "Epoch 4/100\n",
            "26/26 [==============================] - 0s 15ms/step - loss: 40.5735 - val_loss: 41.0821\n",
            "Epoch 5/100\n",
            "26/26 [==============================] - 0s 15ms/step - loss: 40.5066 - val_loss: 41.2482\n",
            "Epoch 6/100\n",
            "26/26 [==============================] - 0s 15ms/step - loss: 40.6755 - val_loss: 42.1754\n",
            "Epoch 7/100\n",
            "26/26 [==============================] - 0s 15ms/step - loss: 41.2835 - val_loss: 40.7855\n",
            "Epoch 8/100\n",
            "26/26 [==============================] - 0s 15ms/step - loss: 40.7691 - val_loss: 41.3692\n",
            "Epoch 9/100\n",
            "26/26 [==============================] - 0s 15ms/step - loss: 41.4245 - val_loss: 42.6746\n",
            "Epoch 10/100\n",
            "26/26 [==============================] - 0s 15ms/step - loss: 40.6786 - val_loss: 40.9230\n",
            "Epoch 11/100\n",
            "26/26 [==============================] - 0s 15ms/step - loss: 41.9305 - val_loss: 41.4479\n",
            "Epoch 12/100\n",
            "26/26 [==============================] - 0s 15ms/step - loss: 41.1851 - val_loss: 42.1003\n",
            "Epoch 13/100\n",
            "26/26 [==============================] - 0s 15ms/step - loss: 40.9924 - val_loss: 42.3889\n",
            "Epoch 14/100\n",
            "26/26 [==============================] - 0s 15ms/step - loss: 40.8916 - val_loss: 41.7056\n",
            "Epoch 15/100\n",
            "26/26 [==============================] - 0s 15ms/step - loss: 41.0088 - val_loss: 41.9947\n",
            "Epoch 16/100\n",
            "26/26 [==============================] - 0s 15ms/step - loss: 40.6975 - val_loss: 42.0717\n",
            "Epoch 17/100\n",
            "26/26 [==============================] - 0s 15ms/step - loss: 40.7186 - val_loss: 42.3372\n",
            "Epoch 18/100\n",
            "26/26 [==============================] - 0s 15ms/step - loss: 40.8708 - val_loss: 40.8449\n",
            "Epoch 19/100\n",
            "26/26 [==============================] - 0s 15ms/step - loss: 40.5509 - val_loss: 41.2135\n",
            "Epoch 20/100\n",
            "26/26 [==============================] - 0s 15ms/step - loss: 40.9376 - val_loss: 41.1936\n",
            "Epoch 21/100\n",
            "26/26 [==============================] - 0s 15ms/step - loss: 40.5317 - val_loss: 41.3917\n",
            "Epoch 22/100\n",
            "26/26 [==============================] - 0s 15ms/step - loss: 40.5340 - val_loss: 40.4662\n",
            "Epoch 23/100\n",
            "26/26 [==============================] - 0s 15ms/step - loss: 40.0545 - val_loss: 40.8729\n",
            "Epoch 24/100\n",
            "26/26 [==============================] - 0s 15ms/step - loss: 39.1344 - val_loss: 54.6392\n",
            "Epoch 25/100\n",
            "26/26 [==============================] - 0s 15ms/step - loss: 43.4746 - val_loss: 43.1352\n",
            "Epoch 26/100\n",
            "26/26 [==============================] - 0s 15ms/step - loss: 41.0153 - val_loss: 41.5221\n",
            "Epoch 27/100\n",
            "26/26 [==============================] - 0s 15ms/step - loss: 40.0133 - val_loss: 38.4896\n",
            "Epoch 28/100\n",
            "26/26 [==============================] - 0s 15ms/step - loss: 33.3284 - val_loss: 25.0852\n",
            "Epoch 29/100\n",
            "26/26 [==============================] - 0s 15ms/step - loss: 21.6504 - val_loss: 19.4805\n",
            "Epoch 30/100\n",
            "26/26 [==============================] - 0s 15ms/step - loss: 12.8200 - val_loss: 7.5751\n",
            "Epoch 31/100\n",
            "26/26 [==============================] - 0s 15ms/step - loss: 4.9759 - val_loss: 4.1038\n",
            "Epoch 32/100\n",
            "26/26 [==============================] - 0s 15ms/step - loss: 2.3202 - val_loss: 2.6994\n",
            "Epoch 33/100\n",
            "26/26 [==============================] - 0s 15ms/step - loss: 1.5237 - val_loss: 1.8826\n",
            "Epoch 34/100\n",
            "26/26 [==============================] - 0s 15ms/step - loss: 1.1901 - val_loss: 1.4329\n",
            "Epoch 35/100\n",
            "26/26 [==============================] - 0s 15ms/step - loss: 0.9687 - val_loss: 1.2655\n",
            "Epoch 36/100\n",
            "26/26 [==============================] - 0s 15ms/step - loss: 0.9502 - val_loss: 1.4399\n",
            "Epoch 37/100\n",
            "26/26 [==============================] - 0s 15ms/step - loss: 0.8339 - val_loss: 1.0574\n",
            "Epoch 38/100\n",
            "26/26 [==============================] - 0s 15ms/step - loss: 0.7211 - val_loss: 0.9569\n",
            "Epoch 39/100\n",
            "26/26 [==============================] - 0s 15ms/step - loss: 0.6264 - val_loss: 1.0237\n",
            "Epoch 40/100\n",
            "26/26 [==============================] - 0s 15ms/step - loss: 0.7300 - val_loss: 1.0290\n",
            "Epoch 41/100\n",
            "26/26 [==============================] - 0s 15ms/step - loss: 0.4643 - val_loss: 0.6665\n",
            "Epoch 42/100\n",
            "26/26 [==============================] - 0s 15ms/step - loss: 0.3766 - val_loss: 0.6287\n",
            "Epoch 43/100\n",
            "26/26 [==============================] - 0s 15ms/step - loss: 0.4169 - val_loss: 0.5565\n",
            "Epoch 44/100\n",
            "26/26 [==============================] - 0s 15ms/step - loss: 0.3429 - val_loss: 0.7053\n",
            "Epoch 45/100\n",
            "26/26 [==============================] - 0s 15ms/step - loss: 0.2990 - val_loss: 0.6462\n",
            "Epoch 46/100\n",
            "26/26 [==============================] - 0s 15ms/step - loss: 0.3144 - val_loss: 0.5499\n",
            "Epoch 47/100\n",
            "26/26 [==============================] - 0s 15ms/step - loss: 0.2924 - val_loss: 0.5004\n",
            "Epoch 48/100\n",
            "26/26 [==============================] - 0s 15ms/step - loss: 0.2982 - val_loss: 0.4765\n",
            "Epoch 49/100\n",
            "26/26 [==============================] - 0s 15ms/step - loss: 0.2567 - val_loss: 0.4093\n",
            "Epoch 50/100\n",
            "26/26 [==============================] - 0s 15ms/step - loss: 0.1995 - val_loss: 0.3806\n",
            "Epoch 51/100\n",
            "26/26 [==============================] - 0s 15ms/step - loss: 0.2247 - val_loss: 0.4387\n",
            "Epoch 52/100\n",
            "26/26 [==============================] - 0s 15ms/step - loss: 0.2150 - val_loss: 0.4445\n",
            "Epoch 53/100\n",
            "26/26 [==============================] - 0s 15ms/step - loss: 0.2011 - val_loss: 0.3609\n",
            "Epoch 54/100\n",
            "26/26 [==============================] - 0s 15ms/step - loss: 0.1840 - val_loss: 0.3797\n",
            "Epoch 55/100\n",
            "26/26 [==============================] - 0s 15ms/step - loss: 0.2058 - val_loss: 0.4089\n",
            "Epoch 56/100\n",
            "26/26 [==============================] - 0s 15ms/step - loss: 0.2124 - val_loss: 0.3555\n",
            "Epoch 57/100\n",
            "26/26 [==============================] - 0s 15ms/step - loss: 0.2389 - val_loss: 0.4706\n",
            "Epoch 58/100\n",
            "26/26 [==============================] - 0s 15ms/step - loss: 0.1975 - val_loss: 0.3586\n",
            "Epoch 59/100\n",
            "26/26 [==============================] - 0s 15ms/step - loss: 0.1430 - val_loss: 0.3106\n",
            "Epoch 60/100\n",
            "26/26 [==============================] - 0s 15ms/step - loss: 0.1169 - val_loss: 0.2967\n",
            "Epoch 61/100\n",
            "26/26 [==============================] - 0s 15ms/step - loss: 0.1102 - val_loss: 0.2778\n",
            "Epoch 62/100\n",
            "26/26 [==============================] - 0s 15ms/step - loss: 0.1127 - val_loss: 0.2961\n",
            "Epoch 63/100\n",
            "26/26 [==============================] - 0s 15ms/step - loss: 0.1395 - val_loss: 0.3010\n",
            "Epoch 64/100\n",
            "26/26 [==============================] - 0s 15ms/step - loss: 0.1303 - val_loss: 0.3302\n",
            "Epoch 65/100\n",
            "26/26 [==============================] - 0s 15ms/step - loss: 0.1686 - val_loss: 0.3864\n",
            "Epoch 66/100\n",
            "26/26 [==============================] - 0s 15ms/step - loss: 0.1728 - val_loss: 0.3879\n",
            "Epoch 67/100\n",
            "26/26 [==============================] - 0s 15ms/step - loss: 0.1468 - val_loss: 0.3233\n",
            "Epoch 68/100\n",
            "26/26 [==============================] - 0s 15ms/step - loss: 0.1599 - val_loss: 0.3538\n",
            "Epoch 69/100\n",
            "26/26 [==============================] - 0s 15ms/step - loss: 0.1099 - val_loss: 0.2750\n",
            "Epoch 70/100\n",
            "26/26 [==============================] - 0s 16ms/step - loss: 0.0765 - val_loss: 0.2695\n",
            "Epoch 71/100\n",
            "26/26 [==============================] - 0s 15ms/step - loss: 0.0979 - val_loss: 0.2505\n",
            "Epoch 72/100\n",
            "26/26 [==============================] - 0s 15ms/step - loss: 0.0876 - val_loss: 0.3961\n",
            "Epoch 73/100\n",
            "26/26 [==============================] - 0s 15ms/step - loss: 0.1417 - val_loss: 0.3018\n",
            "Epoch 74/100\n",
            "26/26 [==============================] - 0s 15ms/step - loss: 0.1055 - val_loss: 0.4075\n",
            "Epoch 75/100\n",
            "26/26 [==============================] - 0s 15ms/step - loss: 0.1265 - val_loss: 0.2421\n",
            "Epoch 76/100\n",
            "26/26 [==============================] - 0s 15ms/step - loss: 0.0815 - val_loss: 0.2287\n",
            "Epoch 77/100\n",
            "26/26 [==============================] - 0s 15ms/step - loss: 0.1005 - val_loss: 0.2819\n",
            "Epoch 78/100\n",
            "26/26 [==============================] - 0s 15ms/step - loss: 0.0921 - val_loss: 0.2670\n",
            "Epoch 79/100\n",
            "26/26 [==============================] - 0s 15ms/step - loss: 0.1135 - val_loss: 0.2411\n",
            "Epoch 80/100\n",
            "26/26 [==============================] - 0s 15ms/step - loss: 0.0866 - val_loss: 0.2473\n",
            "Epoch 81/100\n",
            "26/26 [==============================] - 0s 15ms/step - loss: 0.0718 - val_loss: 0.2347\n",
            "Epoch 82/100\n",
            "26/26 [==============================] - 0s 15ms/step - loss: 0.0581 - val_loss: 0.2374\n",
            "Epoch 83/100\n",
            "26/26 [==============================] - 0s 15ms/step - loss: 0.0786 - val_loss: 0.2297\n",
            "Epoch 84/100\n",
            "26/26 [==============================] - 0s 15ms/step - loss: 0.0874 - val_loss: 0.2535\n",
            "Epoch 85/100\n",
            "26/26 [==============================] - 0s 15ms/step - loss: 0.0662 - val_loss: 0.2364\n",
            "Epoch 86/100\n",
            "26/26 [==============================] - 0s 15ms/step - loss: 0.0533 - val_loss: 0.2514\n",
            "Epoch 87/100\n",
            "26/26 [==============================] - 0s 15ms/step - loss: 0.0584 - val_loss: 0.2600\n",
            "Epoch 88/100\n",
            "26/26 [==============================] - 0s 15ms/step - loss: 0.0555 - val_loss: 0.2183\n",
            "Epoch 89/100\n",
            "26/26 [==============================] - 0s 15ms/step - loss: 0.0509 - val_loss: 0.2457\n",
            "Epoch 90/100\n",
            "26/26 [==============================] - 0s 15ms/step - loss: 0.0611 - val_loss: 0.2425\n",
            "Epoch 91/100\n",
            "26/26 [==============================] - 0s 15ms/step - loss: 0.0668 - val_loss: 0.2455\n",
            "Epoch 92/100\n",
            "26/26 [==============================] - 0s 15ms/step - loss: 0.0518 - val_loss: 0.2107\n",
            "Epoch 93/100\n",
            "26/26 [==============================] - 0s 15ms/step - loss: 0.0445 - val_loss: 0.2236\n",
            "Epoch 94/100\n",
            "26/26 [==============================] - 0s 15ms/step - loss: 0.0403 - val_loss: 0.2244\n",
            "Epoch 95/100\n",
            "26/26 [==============================] - 0s 15ms/step - loss: 0.0440 - val_loss: 0.2342\n",
            "Epoch 96/100\n",
            "26/26 [==============================] - 0s 15ms/step - loss: 0.0634 - val_loss: 0.2441\n",
            "Epoch 97/100\n",
            "26/26 [==============================] - 0s 15ms/step - loss: 0.0768 - val_loss: 0.2390\n",
            "Epoch 98/100\n",
            "26/26 [==============================] - 0s 15ms/step - loss: 0.0560 - val_loss: 0.2359\n",
            "Epoch 99/100\n",
            "26/26 [==============================] - 0s 15ms/step - loss: 0.0681 - val_loss: 0.2719\n",
            "Epoch 100/100\n",
            "26/26 [==============================] - 0s 16ms/step - loss: 0.0666 - val_loss: 0.2355\n"
          ]
        }
      ]
    },
    {
      "cell_type": "code",
      "source": [
        "%matplotlib inline\n",
        "plot_results(history, n_epochs)"
      ],
      "metadata": {
        "colab": {
          "base_uri": "https://localhost:8080/",
          "height": 430
        },
        "id": "v6jslcpX82id",
        "outputId": "f9881ca6-132a-405b-bf4f-a4e145f8f3a7"
      },
      "execution_count": null,
      "outputs": [
        {
          "output_type": "display_data",
          "data": {
            "text/plain": [
              "<Figure size 640x480 with 1 Axes>"
            ],
            "image/png": "[encoded data removed]"
          },
          "metadata": {}
        }
      ]
    },
    {
      "cell_type": "code",
      "source": [
        "epsilon = 1e-8\n",
        "predictions2 = model.predict(eval_images)\n",
        "differences2 = np.abs(predictions2 - eval_tip_pos - epsilon)\n",
        "relative_errors2 = differences2 / np.abs(eval_tip_pos + epsilon)\n",
        "relative_errors2_x = relative_errors2[:, 0]\n",
        "relative_errors2_y = relative_errors2[:, 1]\n",
        "relative_errors2_z = relative_errors2[:, 2]\n",
        "print(len(relative_errors2_x), len(relative_errors2_y), len(relative_errors2_z))\n",
        "# Prune the cases of a zero target (multiplies by 10**6 the error)\n",
        "relative_errors2_x = relative_errors2_x[eval_tip_pos[:, 0] != 0]\n",
        "relative_errors2_y = relative_errors2_y[eval_tip_pos[:, 1] != 0]\n",
        "relative_errors2_z = relative_errors2_z[eval_tip_pos[:, 2] != 0]\n",
        "print(len(relative_errors2_x), len(relative_errors2_y), len(relative_errors2_z))"
      ],
      "metadata": {
        "colab": {
          "base_uri": "https://localhost:8080/"
        },
        "id": "f_6j-yKJ9SjY",
        "outputId": "f4f8aacf-0099-478d-f793-c6ab9df64bc2"
      },
      "execution_count": null,
      "outputs": [
        {
          "output_type": "stream",
          "name": "stdout",
          "text": [
            "7/7 [==============================] - 0s 6ms/step\n",
            "206 206 206\n",
            "205 205 206\n"
          ]
        }
      ]
    },
    {
      "cell_type": "code",
      "source": [
        "%matplotlib inline\n",
        "plt.hist(relative_errors2_x, bins=np.linspace(0, 1, 20))"
      ],
      "metadata": {
        "colab": {
          "base_uri": "https://localhost:8080/",
          "height": 551
        },
        "id": "KD7WK9M69kVG",
        "outputId": "3ca4ed0f-40a3-4ec7-a975-1c63afdf168c"
      },
      "execution_count": null,
      "outputs": [
        {
          "output_type": "execute_result",
          "data": {
            "text/plain": [
              "(array([83., 31., 26., 12.,  8.,  8.,  8.,  1.,  3.,  3.,  0.,  1.,  0.,\n",
              "         1.,  1.,  0.,  0.,  0.,  0.]),\n",
              " array([0.        , 0.05263158, 0.10526316, 0.15789474, 0.21052632,\n",
              "        0.26315789, 0.31578947, 0.36842105, 0.42105263, 0.47368421,\n",
              "        0.52631579, 0.57894737, 0.63157895, 0.68421053, 0.73684211,\n",
              "        0.78947368, 0.84210526, 0.89473684, 0.94736842, 1.        ]),\n",
              " <BarContainer object of 19 artists>)"
            ]
          },
          "metadata": {},
          "execution_count": 56
        },
        {
          "output_type": "display_data",
          "data": {
            "text/plain": [
              "<Figure size 640x480 with 1 Axes>"
            ],
            "image/png": "[encoded data removed]"
          },
          "metadata": {}
        }
      ]
    },
    {
      "cell_type": "code",
      "source": [
        "%matplotlib inline\n",
        "plt.hist(relative_errors2_y, bins=np.linspace(0, 1, 20))"
      ],
      "metadata": {
        "colab": {
          "base_uri": "https://localhost:8080/",
          "height": 551
        },
        "id": "WW4N2oEZ9t3l",
        "outputId": "1e734975-f6ff-446d-8a2e-dc1f59a9301f"
      },
      "execution_count": null,
      "outputs": [
        {
          "output_type": "execute_result",
          "data": {
            "text/plain": [
              "(array([125.,  33.,  16.,   7.,   2.,   2.,   3.,   2.,   2.,   2.,   1.,\n",
              "          0.,   1.,   0.,   1.,   2.,   0.,   1.,   0.]),\n",
              " array([0.        , 0.05263158, 0.10526316, 0.15789474, 0.21052632,\n",
              "        0.26315789, 0.31578947, 0.36842105, 0.42105263, 0.47368421,\n",
              "        0.52631579, 0.57894737, 0.63157895, 0.68421053, 0.73684211,\n",
              "        0.78947368, 0.84210526, 0.89473684, 0.94736842, 1.        ]),\n",
              " <BarContainer object of 19 artists>)"
            ]
          },
          "metadata": {},
          "execution_count": 57
        },
        {
          "output_type": "display_data",
          "data": {
            "text/plain": [
              "<Figure size 640x480 with 1 Axes>"
            ],
            "image/png": "[encoded data removed]"
          },
          "metadata": {}
        }
      ]
    },
    {
      "cell_type": "code",
      "source": [
        "%matplotlib inline\n",
        "plt.hist(relative_errors2_z, bins=np.linspace(0, 1, 20))"
      ],
      "metadata": {
        "colab": {
          "base_uri": "https://localhost:8080/",
          "height": 551
        },
        "id": "Q40oyr1098Fu",
        "outputId": "cbb4a228-35c3-4146-ad78-f900da207ef4"
      },
      "execution_count": null,
      "outputs": [
        {
          "output_type": "execute_result",
          "data": {
            "text/plain": [
              "(array([176.,  29.,   1.,   0.,   0.,   0.,   0.,   0.,   0.,   0.,   0.,\n",
              "          0.,   0.,   0.,   0.,   0.,   0.,   0.,   0.]),\n",
              " array([0.        , 0.05263158, 0.10526316, 0.15789474, 0.21052632,\n",
              "        0.26315789, 0.31578947, 0.36842105, 0.42105263, 0.47368421,\n",
              "        0.52631579, 0.57894737, 0.63157895, 0.68421053, 0.73684211,\n",
              "        0.78947368, 0.84210526, 0.89473684, 0.94736842, 1.        ]),\n",
              " <BarContainer object of 19 artists>)"
            ]
          },
          "metadata": {},
          "execution_count": 58
        },
        {
          "output_type": "display_data",
          "data": {
            "text/plain": [
              "<Figure size 640x480 with 1 Axes>"
            ],
            "image/png": "[encoded data removed]"
          },
          "metadata": {}
        }
      ]
    }
  ]
}