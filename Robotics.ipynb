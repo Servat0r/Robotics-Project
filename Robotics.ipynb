{
  "nbformat": 4,
  "nbformat_minor": 0,
  "metadata": {
    "colab": {
      "provenance": [],
      "gpuType": "A100",
      "mount_file_id": "1qywbFTkobZvF8Kpbt19M54WyukZ2vWhj",
      "authorship_tag": "ABX9TyMrPq/3K+NH3Lb0t3TWvOFP",
      "include_colab_link": true
    },
    "kernelspec": {
      "name": "python3",
      "display_name": "Python 3"
    },
    "language_info": {
      "name": "python"
    },
    "accelerator": "GPU"
  },
  "cells": [
    {
      "cell_type": "markdown",
      "metadata": {
        "id": "view-in-github",
        "colab_type": "text"
      },
      "source": [
        "<a href=\"https://colab.research.google.com/github/Servat0r/Robotics-Project/blob/master/Robotics.ipynb\" target=\"_parent\"><img src=\"https://colab.research.google.com/assets/colab-badge.svg\" alt=\"Open In Colab\"/></a>"
      ]
    },
    {
      "cell_type": "markdown",
      "source": [
        "### Preliminary"
      ],
      "metadata": {
        "id": "laod3O9-b5Az"
      }
    },
    {
      "cell_type": "code",
      "execution_count": 1,
      "metadata": {
        "id": "sZwUR2otINEy",
        "colab": {
          "base_uri": "https://localhost:8080/"
        },
        "outputId": "3159f53f-0a76-4749-ebe9-b1c40bed4c4c"
      },
      "outputs": [
        {
          "output_type": "stream",
          "name": "stdout",
          "text": [
            "/content/drive/MyDrive/Colab Notebooks\n"
          ]
        }
      ],
      "source": [
        "%cd \"/content/drive/MyDrive/Colab Notebooks\""
      ]
    },
    {
      "cell_type": "code",
      "source": [
        "import numpy as np\n",
        "import cv2\n",
        "from PIL import Image\n",
        "import os\n",
        "import PIL\n",
        "import tensorflow as tf\n",
        "import tensorflow_datasets as tfds\n",
        "import glob\n",
        "import matplotlib.pyplot as plt\n",
        "from sklearn.model_selection import train_test_split\n",
        "import json"
      ],
      "metadata": {
        "id": "SQPStd3oS0ZY"
      },
      "execution_count": 45,
      "outputs": []
    },
    {
      "cell_type": "markdown",
      "source": [
        "### Utils"
      ],
      "metadata": {
        "id": "bvwMoYmhsk4R"
      }
    },
    {
      "cell_type": "code",
      "source": [
        "def plot_results(history: tf.keras.callbacks.History, n_epochs=None):\n",
        "    fig, ax = plt.subplots(1, 1)\n",
        "    n_epochs = n_epochs or len(history.history['loss'])\n",
        "    epochs = np.arange(1, n_epochs+1)\n",
        "    trainLoss, validationLoss = history.history['loss'][:n_epochs], history.history['val_loss'][:n_epochs]\n",
        "    ax.plot(epochs, trainLoss, label='Training Loss')\n",
        "    ax.plot(epochs, validationLoss, label='Validation Loss')"
      ],
      "metadata": {
        "id": "FYxY2uufsmTu"
      },
      "execution_count": 18,
      "outputs": []
    },
    {
      "cell_type": "markdown",
      "source": [
        "### Dataset Retrieval\n",
        "The original dataset is made up of $513$ `full-hd` ($1920 \\times 1080$) images in `png` format. While in this format a single image requires $\\approx 100$ KB of memory, a `numpy` array that contains the image in `float32` datatype will require at least $1920 \\times 1080 \\times 3 \\times 4 \\approx 24$ MB of memory, hence the whole dataset will require $\\approx 12$ GB and would be unfeasible.\n",
        "\n",
        "For simplicity, we then define a `get_dataset()` function that resizes all the images to a percentage of the original size through the `PIL.Image.Image.thumbnail()` method. By default we operate with a size of $240 \\times 135$ ($12.5\\%$ of original width and height values)."
      ],
      "metadata": {
        "id": "dNhsAU6kb8WM"
      }
    },
    {
      "cell_type": "code",
      "source": [
        "def get_dataset(\n",
        "    image_data_path='data/image/ws_0.5', motion_data_path='data/motion/ws_0.5.npz',\n",
        "    resize=True, force_resize=True, target_size_perc=0.125, rescale_coordinates=1,\n",
        "    target_size=None,\n",
        "  ): # by default 135 x 240\n",
        "  if target_size:\n",
        "    target_height, target_width = target_size\n",
        "  else:\n",
        "    target_height, target_width = int(1080 * target_size_perc), int(1920 * target_size_perc)\n",
        "  resized_dir_path = os.path.join(image_data_path, f'resized_{target_height}x{target_width}')\n",
        "  # Resizes images to given size\n",
        "  if force_resize or (resize and not os.path.exists(resized_dir_path)):\n",
        "    os.makedirs(resized_dir_path, exist_ok=True)\n",
        "    pngs = sorted(list(glob.glob(f'{image_data_path}/*.png')))\n",
        "    for i, png in enumerate(pngs):\n",
        "      image = PIL.Image.open(png)\n",
        "      image = image.resize((target_width, target_height))\n",
        "      #image.thumbnail((target_width, target_height))\n",
        "      image.save(os.path.join(resized_dir_path, f'{i}.png'), \"PNG\")\n",
        "  pngs = sorted(list(glob.glob(f'{resized_dir_path}/*.png')), key=lambda x: int(x.split('/')[-1].split('.')[0]))\n",
        "  images = np.zeros((len(pngs), target_height, target_width, 3), dtype=np.float32)\n",
        "  for i, png in enumerate(pngs):\n",
        "    images[i][:, :, :] = np.array(PIL.Image.open(png))\n",
        "  motion_data = np.load(motion_data_path)\n",
        "  tip_pos = rescale_coordinates * motion_data['position_rod1'][:, [2, 0, 1], -1]  # all positions of last node ([2,0,1] converts to xyz)\n",
        "  return images / 255.0, tip_pos"
      ],
      "metadata": {
        "id": "BZqQ2l6P8Hv-"
      },
      "execution_count": 4,
      "outputs": []
    },
    {
      "cell_type": "markdown",
      "source": [
        "Now a couple of hyperparameters:"
      ],
      "metadata": {
        "id": "M-xMtGdkdwgT"
      }
    },
    {
      "cell_type": "code",
      "source": [
        "batch_size = 32  #len(images)\n",
        "resize_perc = 0.125\n",
        "n_epochs = 100"
      ],
      "metadata": {
        "id": "_dn82Do_TOnx"
      },
      "execution_count": 5,
      "outputs": []
    },
    {
      "cell_type": "code",
      "source": [
        "images, tip_pos = get_dataset(target_size_perc=resize_perc, force_resize=False, rescale_coordinates=100)"
      ],
      "metadata": {
        "id": "7WmgYNpV_h84"
      },
      "execution_count": 6,
      "outputs": []
    },
    {
      "cell_type": "markdown",
      "source": [
        "Now we do *train-test split* with a validation percentage of $20\\%$."
      ],
      "metadata": {
        "id": "tQVrDrUTe0lk"
      }
    },
    {
      "cell_type": "code",
      "source": [
        "train_images, eval_images, train_tip_pos, eval_tip_pos = train_test_split(images, tip_pos, test_size=0.2, random_state=0)"
      ],
      "metadata": {
        "id": "MpmHecKFezts"
      },
      "execution_count": 7,
      "outputs": []
    },
    {
      "cell_type": "markdown",
      "source": [
        "We now define a *VGG-like* initial CNN to experiment: $5$ *VGG-blocks* (two `Conv2D` and a `MaxPool2D` layers with a kernel size of $4$ and `relu` activation) and a flattening and final `Dense` block."
      ],
      "metadata": {
        "id": "xjdL2W3Yd3nn"
      }
    },
    {
      "cell_type": "code",
      "source": [
        "model = tf.keras.Sequential([\n",
        "\n",
        "  tf.keras.layers.Conv2D(8, kernel_size=4, activation='relu', padding='same', input_shape=(135, 240, 3)),\n",
        "  #tf.keras.layers.BatchNormalization(),\n",
        "  tf.keras.layers.Conv2D(8, kernel_size=4, activation='relu', padding='same'),\n",
        "  #tf.keras.layers.BatchNormalization(),\n",
        "  tf.keras.layers.MaxPool2D(),\n",
        "  #tf.keras.layers.BatchNormalization(),\n",
        "  #tf.keras.layers.Dropout(0.2),\n",
        "\n",
        "  tf.keras.layers.Conv2D(16, kernel_size=4, activation='relu', padding='same'),\n",
        "  #tf.keras.layers.BatchNormalization(),\n",
        "  tf.keras.layers.Conv2D(16, kernel_size=4, activation='relu', padding='same'),\n",
        "  #tf.keras.layers.BatchNormalization(),\n",
        "  tf.keras.layers.MaxPool2D(),\n",
        "  #tf.keras.layers.BatchNormalization(),\n",
        "  #tf.keras.layers.Dropout(0.3),\n",
        "\n",
        "  tf.keras.layers.Conv2D(32, kernel_size=4, activation='relu', padding='same'),\n",
        "  #tf.keras.layers.BatchNormalization(),\n",
        "  tf.keras.layers.Conv2D(32, kernel_size=4, activation='relu', padding='same'),\n",
        "  #tf.keras.layers.BatchNormalization(),\n",
        "  tf.keras.layers.MaxPool2D(),\n",
        "  #tf.keras.layers.BatchNormalization(),\n",
        "  #tf.keras.layers.Dropout(0.3),\n",
        "\n",
        "  tf.keras.layers.Conv2D(64, kernel_size=4, activation='relu', padding='same'),\n",
        "  #tf.keras.layers.BatchNormalization(),\n",
        "  tf.keras.layers.Conv2D(64, kernel_size=4, activation='relu', padding='same'),\n",
        "  #tf.keras.layers.BatchNormalization(),\n",
        "  tf.keras.layers.MaxPool2D(),\n",
        "  #tf.keras.layers.BatchNormalization(),\n",
        "  #tf.keras.layers.Dropout(0.3),\n",
        "\n",
        "  tf.keras.layers.Conv2D(128, kernel_size=4, activation='relu', padding='same'),\n",
        "  #tf.keras.layers.BatchNormalization(),\n",
        "  tf.keras.layers.Conv2D(128, kernel_size=4, activation='relu', padding='same'),\n",
        "  #tf.keras.layers.BatchNormalization(),\n",
        "  tf.keras.layers.MaxPool2D(),\n",
        "  #tf.keras.layers.BatchNormalization(),\n",
        "  #tf.keras.layers.Dropout(0.3),\n",
        "\n",
        "  tf.keras.layers.Flatten(),\n",
        "  #tf.keras.layers.BatchNormalization(),\n",
        "  tf.keras.layers.Dense(units=256, activation='relu'),\n",
        "  tf.keras.layers.Dense(units=50, activation='relu'),\n",
        "  #tf.keras.layers.Dropout(0.5),\n",
        "  tf.keras.layers.Dense(units=3, activation='linear')\n",
        "])"
      ],
      "metadata": {
        "id": "t7lS39A7jDCi"
      },
      "execution_count": 22,
      "outputs": []
    },
    {
      "cell_type": "code",
      "source": [
        "model.compile(loss='mean_squared_error', optimizer=tf.keras.optimizers.Adam(learning_rate=1e-3))"
      ],
      "metadata": {
        "id": "8DmTt9Xso22V"
      },
      "execution_count": 23,
      "outputs": []
    },
    {
      "cell_type": "code",
      "source": [
        "model.summary()"
      ],
      "metadata": {
        "colab": {
          "base_uri": "https://localhost:8080/"
        },
        "id": "TSzLXcb6qhD1",
        "outputId": "522e3762-8874-4d32-c170-d441dc28036d"
      },
      "execution_count": 24,
      "outputs": [
        {
          "output_type": "stream",
          "name": "stdout",
          "text": [
            "Model: \"sequential_1\"\n",
            "_________________________________________________________________\n",
            " Layer (type)                Output Shape              Param #   \n",
            "=================================================================\n",
            " conv2d_10 (Conv2D)          (None, 135, 240, 8)       392       \n",
            "                                                                 \n",
            " conv2d_11 (Conv2D)          (None, 135, 240, 8)       1032      \n",
            "                                                                 \n",
            " max_pooling2d_5 (MaxPooling  (None, 67, 120, 8)       0         \n",
            " 2D)                                                             \n",
            "                                                                 \n",
            " conv2d_12 (Conv2D)          (None, 67, 120, 16)       2064      \n",
            "                                                                 \n",
            " conv2d_13 (Conv2D)          (None, 67, 120, 16)       4112      \n",
            "                                                                 \n",
            " max_pooling2d_6 (MaxPooling  (None, 33, 60, 16)       0         \n",
            " 2D)                                                             \n",
            "                                                                 \n",
            " conv2d_14 (Conv2D)          (None, 33, 60, 32)        8224      \n",
            "                                                                 \n",
            " conv2d_15 (Conv2D)          (None, 33, 60, 32)        16416     \n",
            "                                                                 \n",
            " max_pooling2d_7 (MaxPooling  (None, 16, 30, 32)       0         \n",
            " 2D)                                                             \n",
            "                                                                 \n",
            " conv2d_16 (Conv2D)          (None, 16, 30, 64)        32832     \n",
            "                                                                 \n",
            " conv2d_17 (Conv2D)          (None, 16, 30, 64)        65600     \n",
            "                                                                 \n",
            " max_pooling2d_8 (MaxPooling  (None, 8, 15, 64)        0         \n",
            " 2D)                                                             \n",
            "                                                                 \n",
            " conv2d_18 (Conv2D)          (None, 8, 15, 128)        131200    \n",
            "                                                                 \n",
            " conv2d_19 (Conv2D)          (None, 8, 15, 128)        262272    \n",
            "                                                                 \n",
            " max_pooling2d_9 (MaxPooling  (None, 4, 7, 128)        0         \n",
            " 2D)                                                             \n",
            "                                                                 \n",
            " flatten_1 (Flatten)         (None, 3584)              0         \n",
            "                                                                 \n",
            " dense_3 (Dense)             (None, 256)               917760    \n",
            "                                                                 \n",
            " dense_4 (Dense)             (None, 50)                12850     \n",
            "                                                                 \n",
            " dense_5 (Dense)             (None, 3)                 153       \n",
            "                                                                 \n",
            "=================================================================\n",
            "Total params: 1,454,907\n",
            "Trainable params: 1,454,907\n",
            "Non-trainable params: 0\n",
            "_________________________________________________________________\n"
          ]
        }
      ]
    },
    {
      "cell_type": "code",
      "source": [
        "history = model.fit(\n",
        "    train_images, train_tip_pos, epochs=n_epochs,\n",
        "    validation_data=(eval_images, eval_tip_pos),\n",
        "    batch_size = batch_size, shuffle=True,\n",
        ")"
      ],
      "metadata": {
        "colab": {
          "base_uri": "https://localhost:8080/"
        },
        "id": "vei7pk8no3tm",
        "outputId": "830b7dad-38cf-450a-9d1e-069328804d02"
      },
      "execution_count": 25,
      "outputs": [
        {
          "output_type": "stream",
          "name": "stdout",
          "text": [
            "Epoch 1/100\n",
            "13/13 [==============================] - 5s 36ms/step - loss: 294.9266 - val_loss: 161.4788\n",
            "Epoch 2/100\n",
            "13/13 [==============================] - 0s 18ms/step - loss: 149.0747 - val_loss: 65.4521\n",
            "Epoch 3/100\n",
            "13/13 [==============================] - 0s 17ms/step - loss: 52.3264 - val_loss: 37.8978\n",
            "Epoch 4/100\n",
            "13/13 [==============================] - 0s 16ms/step - loss: 43.2882 - val_loss: 40.5270\n",
            "Epoch 5/100\n",
            "13/13 [==============================] - 0s 16ms/step - loss: 42.3546 - val_loss: 38.3077\n",
            "Epoch 6/100\n",
            "13/13 [==============================] - 0s 16ms/step - loss: 41.9544 - val_loss: 38.4724\n",
            "Epoch 7/100\n",
            "13/13 [==============================] - 0s 16ms/step - loss: 42.0008 - val_loss: 37.5598\n",
            "Epoch 8/100\n",
            "13/13 [==============================] - 0s 16ms/step - loss: 41.4081 - val_loss: 38.2709\n",
            "Epoch 9/100\n",
            "13/13 [==============================] - 0s 16ms/step - loss: 41.3988 - val_loss: 37.7635\n",
            "Epoch 10/100\n",
            "13/13 [==============================] - 0s 16ms/step - loss: 41.5740 - val_loss: 37.7770\n",
            "Epoch 11/100\n",
            "13/13 [==============================] - 0s 16ms/step - loss: 41.4551 - val_loss: 37.5812\n",
            "Epoch 12/100\n",
            "13/13 [==============================] - 0s 16ms/step - loss: 41.5664 - val_loss: 37.6773\n",
            "Epoch 13/100\n",
            "13/13 [==============================] - 0s 16ms/step - loss: 41.2197 - val_loss: 37.6677\n",
            "Epoch 14/100\n",
            "13/13 [==============================] - 0s 16ms/step - loss: 40.8680 - val_loss: 37.1212\n",
            "Epoch 15/100\n",
            "13/13 [==============================] - 0s 16ms/step - loss: 41.1469 - val_loss: 35.3191\n",
            "Epoch 16/100\n",
            "13/13 [==============================] - 0s 16ms/step - loss: 35.2206 - val_loss: 24.1896\n",
            "Epoch 17/100\n",
            "13/13 [==============================] - 0s 16ms/step - loss: 22.4325 - val_loss: 21.1232\n",
            "Epoch 18/100\n",
            "13/13 [==============================] - 0s 17ms/step - loss: 11.5796 - val_loss: 8.2560\n",
            "Epoch 19/100\n",
            "13/13 [==============================] - 0s 16ms/step - loss: 5.4961 - val_loss: 3.9797\n",
            "Epoch 20/100\n",
            "13/13 [==============================] - 0s 17ms/step - loss: 3.0396 - val_loss: 2.5367\n",
            "Epoch 21/100\n",
            "13/13 [==============================] - 0s 17ms/step - loss: 2.3886 - val_loss: 1.5101\n",
            "Epoch 22/100\n",
            "13/13 [==============================] - 0s 17ms/step - loss: 1.8554 - val_loss: 1.8369\n",
            "Epoch 23/100\n",
            "13/13 [==============================] - 0s 16ms/step - loss: 1.6435 - val_loss: 1.0640\n",
            "Epoch 24/100\n",
            "13/13 [==============================] - 0s 17ms/step - loss: 1.4948 - val_loss: 1.0195\n",
            "Epoch 25/100\n",
            "13/13 [==============================] - 0s 17ms/step - loss: 1.0213 - val_loss: 0.9066\n",
            "Epoch 26/100\n",
            "13/13 [==============================] - 0s 17ms/step - loss: 0.8480 - val_loss: 0.7415\n",
            "Epoch 27/100\n",
            "13/13 [==============================] - 0s 17ms/step - loss: 0.6481 - val_loss: 0.6433\n",
            "Epoch 28/100\n",
            "13/13 [==============================] - 0s 17ms/step - loss: 0.5514 - val_loss: 0.7850\n",
            "Epoch 29/100\n",
            "13/13 [==============================] - 0s 17ms/step - loss: 0.7045 - val_loss: 0.7110\n",
            "Epoch 30/100\n",
            "13/13 [==============================] - 0s 16ms/step - loss: 0.6375 - val_loss: 0.5701\n",
            "Epoch 31/100\n",
            "13/13 [==============================] - 0s 16ms/step - loss: 0.4151 - val_loss: 0.3860\n",
            "Epoch 32/100\n",
            "13/13 [==============================] - 0s 16ms/step - loss: 0.4063 - val_loss: 0.4801\n",
            "Epoch 33/100\n",
            "13/13 [==============================] - 0s 16ms/step - loss: 0.4157 - val_loss: 0.3786\n",
            "Epoch 34/100\n",
            "13/13 [==============================] - 0s 16ms/step - loss: 0.3869 - val_loss: 0.5190\n",
            "Epoch 35/100\n",
            "13/13 [==============================] - 0s 16ms/step - loss: 0.3628 - val_loss: 0.3045\n",
            "Epoch 36/100\n",
            "13/13 [==============================] - 0s 17ms/step - loss: 0.2483 - val_loss: 0.2720\n",
            "Epoch 37/100\n",
            "13/13 [==============================] - 0s 16ms/step - loss: 0.2542 - val_loss: 0.2376\n",
            "Epoch 38/100\n",
            "13/13 [==============================] - 0s 16ms/step - loss: 0.2463 - val_loss: 0.2797\n",
            "Epoch 39/100\n",
            "13/13 [==============================] - 0s 16ms/step - loss: 0.2651 - val_loss: 0.3682\n",
            "Epoch 40/100\n",
            "13/13 [==============================] - 0s 16ms/step - loss: 0.2598 - val_loss: 0.2649\n",
            "Epoch 41/100\n",
            "13/13 [==============================] - 0s 17ms/step - loss: 0.2307 - val_loss: 0.3227\n",
            "Epoch 42/100\n",
            "13/13 [==============================] - 0s 16ms/step - loss: 0.2147 - val_loss: 0.4020\n",
            "Epoch 43/100\n",
            "13/13 [==============================] - 0s 17ms/step - loss: 0.2711 - val_loss: 0.3532\n",
            "Epoch 44/100\n",
            "13/13 [==============================] - 0s 16ms/step - loss: 0.2196 - val_loss: 0.2392\n",
            "Epoch 45/100\n",
            "13/13 [==============================] - 0s 16ms/step - loss: 0.1491 - val_loss: 0.2333\n",
            "Epoch 46/100\n",
            "13/13 [==============================] - 0s 16ms/step - loss: 0.1564 - val_loss: 0.2953\n",
            "Epoch 47/100\n",
            "13/13 [==============================] - 0s 17ms/step - loss: 0.1367 - val_loss: 0.1816\n",
            "Epoch 48/100\n",
            "13/13 [==============================] - 0s 17ms/step - loss: 0.1844 - val_loss: 0.2390\n",
            "Epoch 49/100\n",
            "13/13 [==============================] - 0s 16ms/step - loss: 0.1242 - val_loss: 0.2440\n",
            "Epoch 50/100\n",
            "13/13 [==============================] - 0s 16ms/step - loss: 0.1381 - val_loss: 0.2396\n",
            "Epoch 51/100\n",
            "13/13 [==============================] - 0s 16ms/step - loss: 0.1326 - val_loss: 0.1808\n",
            "Epoch 52/100\n",
            "13/13 [==============================] - 0s 16ms/step - loss: 0.1027 - val_loss: 0.1980\n",
            "Epoch 53/100\n",
            "13/13 [==============================] - 0s 16ms/step - loss: 0.1054 - val_loss: 0.2396\n",
            "Epoch 54/100\n",
            "13/13 [==============================] - 0s 16ms/step - loss: 0.1736 - val_loss: 0.2352\n",
            "Epoch 55/100\n",
            "13/13 [==============================] - 0s 17ms/step - loss: 0.1164 - val_loss: 0.2468\n",
            "Epoch 56/100\n",
            "13/13 [==============================] - 0s 16ms/step - loss: 0.1151 - val_loss: 0.2555\n",
            "Epoch 57/100\n",
            "13/13 [==============================] - 0s 16ms/step - loss: 0.1120 - val_loss: 0.1940\n",
            "Epoch 58/100\n",
            "13/13 [==============================] - 0s 17ms/step - loss: 0.0894 - val_loss: 0.1737\n",
            "Epoch 59/100\n",
            "13/13 [==============================] - 0s 16ms/step - loss: 0.0811 - val_loss: 0.1894\n",
            "Epoch 60/100\n",
            "13/13 [==============================] - 0s 16ms/step - loss: 0.0821 - val_loss: 0.1929\n",
            "Epoch 61/100\n",
            "13/13 [==============================] - 0s 16ms/step - loss: 0.0955 - val_loss: 0.1792\n",
            "Epoch 62/100\n",
            "13/13 [==============================] - 0s 16ms/step - loss: 0.0989 - val_loss: 0.2209\n",
            "Epoch 63/100\n",
            "13/13 [==============================] - 0s 16ms/step - loss: 0.1132 - val_loss: 0.2106\n",
            "Epoch 64/100\n",
            "13/13 [==============================] - 0s 16ms/step - loss: 0.0939 - val_loss: 0.1650\n",
            "Epoch 65/100\n",
            "13/13 [==============================] - 0s 16ms/step - loss: 0.0789 - val_loss: 0.1869\n",
            "Epoch 66/100\n",
            "13/13 [==============================] - 0s 16ms/step - loss: 0.0806 - val_loss: 0.1591\n",
            "Epoch 67/100\n",
            "13/13 [==============================] - 0s 16ms/step - loss: 0.0717 - val_loss: 0.1530\n",
            "Epoch 68/100\n",
            "13/13 [==============================] - 0s 16ms/step - loss: 0.0692 - val_loss: 0.1666\n",
            "Epoch 69/100\n",
            "13/13 [==============================] - 0s 16ms/step - loss: 0.0654 - val_loss: 0.1462\n",
            "Epoch 70/100\n",
            "13/13 [==============================] - 0s 16ms/step - loss: 0.0658 - val_loss: 0.1715\n",
            "Epoch 71/100\n",
            "13/13 [==============================] - 0s 16ms/step - loss: 0.0642 - val_loss: 0.1634\n",
            "Epoch 72/100\n",
            "13/13 [==============================] - 0s 16ms/step - loss: 0.0762 - val_loss: 0.1837\n",
            "Epoch 73/100\n",
            "13/13 [==============================] - 0s 16ms/step - loss: 0.0762 - val_loss: 0.1536\n",
            "Epoch 74/100\n",
            "13/13 [==============================] - 0s 16ms/step - loss: 0.0984 - val_loss: 0.2216\n",
            "Epoch 75/100\n",
            "13/13 [==============================] - 0s 17ms/step - loss: 0.0894 - val_loss: 0.1915\n",
            "Epoch 76/100\n",
            "13/13 [==============================] - 0s 17ms/step - loss: 0.0855 - val_loss: 0.1774\n",
            "Epoch 77/100\n",
            "13/13 [==============================] - 0s 16ms/step - loss: 0.0618 - val_loss: 0.1635\n",
            "Epoch 78/100\n",
            "13/13 [==============================] - 0s 16ms/step - loss: 0.0783 - val_loss: 0.1477\n",
            "Epoch 79/100\n",
            "13/13 [==============================] - 0s 16ms/step - loss: 0.0822 - val_loss: 0.1931\n",
            "Epoch 80/100\n",
            "13/13 [==============================] - 0s 17ms/step - loss: 0.0937 - val_loss: 0.2346\n",
            "Epoch 81/100\n",
            "13/13 [==============================] - 0s 17ms/step - loss: 0.0876 - val_loss: 0.2274\n",
            "Epoch 82/100\n",
            "13/13 [==============================] - 0s 17ms/step - loss: 0.0752 - val_loss: 0.2048\n",
            "Epoch 83/100\n",
            "13/13 [==============================] - 0s 17ms/step - loss: 0.0590 - val_loss: 0.1731\n",
            "Epoch 84/100\n",
            "13/13 [==============================] - 0s 16ms/step - loss: 0.1105 - val_loss: 0.1772\n",
            "Epoch 85/100\n",
            "13/13 [==============================] - 0s 17ms/step - loss: 0.1014 - val_loss: 0.2437\n",
            "Epoch 86/100\n",
            "13/13 [==============================] - 0s 17ms/step - loss: 0.0957 - val_loss: 0.2456\n",
            "Epoch 87/100\n",
            "13/13 [==============================] - 0s 17ms/step - loss: 0.1016 - val_loss: 0.2338\n",
            "Epoch 88/100\n",
            "13/13 [==============================] - 0s 16ms/step - loss: 0.0831 - val_loss: 0.1516\n",
            "Epoch 89/100\n",
            "13/13 [==============================] - 0s 16ms/step - loss: 0.0697 - val_loss: 0.1582\n",
            "Epoch 90/100\n",
            "13/13 [==============================] - 0s 16ms/step - loss: 0.0758 - val_loss: 0.1781\n",
            "Epoch 91/100\n",
            "13/13 [==============================] - 0s 16ms/step - loss: 0.0875 - val_loss: 0.2342\n",
            "Epoch 92/100\n",
            "13/13 [==============================] - 0s 17ms/step - loss: 0.0996 - val_loss: 0.2110\n",
            "Epoch 93/100\n",
            "13/13 [==============================] - 0s 16ms/step - loss: 0.1594 - val_loss: 0.1607\n",
            "Epoch 94/100\n",
            "13/13 [==============================] - 0s 16ms/step - loss: 0.0754 - val_loss: 0.1482\n",
            "Epoch 95/100\n",
            "13/13 [==============================] - 0s 16ms/step - loss: 0.0563 - val_loss: 0.1592\n",
            "Epoch 96/100\n",
            "13/13 [==============================] - 0s 16ms/step - loss: 0.0502 - val_loss: 0.1845\n",
            "Epoch 97/100\n",
            "13/13 [==============================] - 0s 16ms/step - loss: 0.0437 - val_loss: 0.1500\n",
            "Epoch 98/100\n",
            "13/13 [==============================] - 0s 16ms/step - loss: 0.0459 - val_loss: 0.1781\n",
            "Epoch 99/100\n",
            "13/13 [==============================] - 0s 16ms/step - loss: 0.0613 - val_loss: 0.1753\n",
            "Epoch 100/100\n",
            "13/13 [==============================] - 0s 16ms/step - loss: 0.0513 - val_loss: 0.1622\n"
          ]
        }
      ]
    },
    {
      "cell_type": "markdown",
      "source": [
        "Now we plot the obtained results:"
      ],
      "metadata": {
        "id": "l6xRXtda0sxg"
      }
    },
    {
      "cell_type": "code",
      "source": [
        "%matplotlib inline\n",
        "plot_results(history, n_epochs=None)"
      ],
      "metadata": {
        "colab": {
          "base_uri": "https://localhost:8080/",
          "height": 430
        },
        "id": "NOLVgoN_0vzr",
        "outputId": "626535ec-cadc-425b-dd11-61b557606cfe"
      },
      "execution_count": 26,
      "outputs": [
        {
          "output_type": "display_data",
          "data": {
            "text/plain": [
              "<Figure size 640x480 with 1 Axes>"
            ],
            "image/png": "[encoded data removed]"
          },
          "metadata": {}
        }
      ]
    },
    {
      "cell_type": "markdown",
      "source": [
        "We now do a simple assessment on the quality of the predictions: given an input-output couple $(x, y = [y_1, y_2, y_3])$, if $\\tilde{y}$ is the value predicted by the model, we calculate the relative error: $\\left[\\dfrac{|y_1 - \\tilde{y_1} + \\epsilon|}{|y_1 + \\epsilon|}, \\dfrac{|y_2 - \\tilde{y_2} + \\epsilon|}{|y_2 + \\epsilon|}, \\dfrac{|y_3 - \\tilde{y_3} + \\epsilon|}{|y_3 + \\epsilon|}\\right]$, where $\\epsilon = 10^{-8}$ is a small constant to avoid dividing by $0$."
      ],
      "metadata": {
        "id": "AApgIjo6ggNY"
      }
    },
    {
      "cell_type": "code",
      "source": [
        "epsilon = 1e-8\n",
        "predictions = model.predict(eval_images)\n",
        "differences = np.abs(predictions - eval_tip_pos - epsilon)\n",
        "relative_errors = differences / np.abs(eval_tip_pos + epsilon)\n",
        "relative_errors_x = relative_errors[:, 0]\n",
        "relative_errors_y = relative_errors[:, 1]\n",
        "relative_errors_z = relative_errors[:, 2]\n",
        "print(len(relative_errors_x), len(relative_errors_y), len(relative_errors_z))\n",
        "# Prune the cases of a zero target (multiplies by 10**6 the error)\n",
        "relative_errors_x = relative_errors_x[eval_tip_pos[:, 0] != 0]\n",
        "relative_errors_y = relative_errors_y[eval_tip_pos[:, 1] != 0]\n",
        "relative_errors_z = relative_errors_z[eval_tip_pos[:, 2] != 0]\n",
        "print(len(relative_errors_x), len(relative_errors_y), len(relative_errors_z))"
      ],
      "metadata": {
        "colab": {
          "base_uri": "https://localhost:8080/"
        },
        "id": "WzEmJDxzDOoE",
        "outputId": "17afb362-a9bc-49ae-bfce-67cef852dca8"
      },
      "execution_count": 27,
      "outputs": [
        {
          "output_type": "stream",
          "name": "stdout",
          "text": [
            "4/4 [==============================] - 0s 6ms/step\n",
            "103 103 103\n",
            "102 102 103\n"
          ]
        }
      ]
    },
    {
      "cell_type": "code",
      "source": [
        "%matplotlib inline\n",
        "plt.hist(relative_errors_x, bins=np.linspace(0, 1, 20))"
      ],
      "metadata": {
        "colab": {
          "base_uri": "https://localhost:8080/",
          "height": 551
        },
        "id": "K1ZDyGnq5aY1",
        "outputId": "2faac1d4-7283-4a35-ea37-12481fcf20fd"
      },
      "execution_count": 28,
      "outputs": [
        {
          "output_type": "execute_result",
          "data": {
            "text/plain": [
              "(array([37., 24., 15.,  3.,  3.,  4.,  2.,  4.,  1.,  1.,  1.,  0.,  0.,\n",
              "         1.,  1.,  0.,  0.,  0.,  0.]),\n",
              " array([0.        , 0.05263158, 0.10526316, 0.15789474, 0.21052632,\n",
              "        0.26315789, 0.31578947, 0.36842105, 0.42105263, 0.47368421,\n",
              "        0.52631579, 0.57894737, 0.63157895, 0.68421053, 0.73684211,\n",
              "        0.78947368, 0.84210526, 0.89473684, 0.94736842, 1.        ]),\n",
              " <BarContainer object of 19 artists>)"
            ]
          },
          "metadata": {},
          "execution_count": 28
        },
        {
          "output_type": "display_data",
          "data": {
            "text/plain": [
              "<Figure size 640x480 with 1 Axes>"
            ],
            "image/png": "[encoded data removed]"
          },
          "metadata": {}
        }
      ]
    },
    {
      "cell_type": "code",
      "source": [
        "%matplotlib inline\n",
        "plt.hist(relative_errors_y, bins=np.linspace(0, 1, 20))"
      ],
      "metadata": {
        "colab": {
          "base_uri": "https://localhost:8080/",
          "height": 551
        },
        "id": "OLyuoumj9tIq",
        "outputId": "721f9a49-1276-41b3-f1e2-e69931d677c4"
      },
      "execution_count": 29,
      "outputs": [
        {
          "output_type": "execute_result",
          "data": {
            "text/plain": [
              "(array([76., 20.,  1.,  1.,  0.,  0.,  0.,  0.,  0.,  0.,  0.,  1.,  0.,\n",
              "         0.,  0.,  0.,  0.,  0.,  0.]),\n",
              " array([0.        , 0.05263158, 0.10526316, 0.15789474, 0.21052632,\n",
              "        0.26315789, 0.31578947, 0.36842105, 0.42105263, 0.47368421,\n",
              "        0.52631579, 0.57894737, 0.63157895, 0.68421053, 0.73684211,\n",
              "        0.78947368, 0.84210526, 0.89473684, 0.94736842, 1.        ]),\n",
              " <BarContainer object of 19 artists>)"
            ]
          },
          "metadata": {},
          "execution_count": 29
        },
        {
          "output_type": "display_data",
          "data": {
            "text/plain": [
              "<Figure size 640x480 with 1 Axes>"
            ],
            "image/png": "[encoded data removed]"
          },
          "metadata": {}
        }
      ]
    },
    {
      "cell_type": "code",
      "source": [
        "%matplotlib inline\n",
        "plt.hist(relative_errors_z, bins=np.linspace(0, 1, 20))"
      ],
      "metadata": {
        "colab": {
          "base_uri": "https://localhost:8080/",
          "height": 551
        },
        "id": "J-ZgFWHD-qLC",
        "outputId": "098648f7-720e-4701-a637-62b6bd1a33d2"
      },
      "execution_count": 30,
      "outputs": [
        {
          "output_type": "execute_result",
          "data": {
            "text/plain": [
              "(array([103.,   0.,   0.,   0.,   0.,   0.,   0.,   0.,   0.,   0.,   0.,\n",
              "          0.,   0.,   0.,   0.,   0.,   0.,   0.,   0.]),\n",
              " array([0.        , 0.05263158, 0.10526316, 0.15789474, 0.21052632,\n",
              "        0.26315789, 0.31578947, 0.36842105, 0.42105263, 0.47368421,\n",
              "        0.52631579, 0.57894737, 0.63157895, 0.68421053, 0.73684211,\n",
              "        0.78947368, 0.84210526, 0.89473684, 0.94736842, 1.        ]),\n",
              " <BarContainer object of 19 artists>)"
            ]
          },
          "metadata": {},
          "execution_count": 30
        },
        {
          "output_type": "display_data",
          "data": {
            "text/plain": [
              "<Figure size 640x480 with 1 Axes>"
            ],
            "image/png": "[encoded data removed]"
          },
          "metadata": {}
        }
      ]
    },
    {
      "cell_type": "code",
      "source": [
        "model.save('baseVGG')"
      ],
      "metadata": {
        "colab": {
          "base_uri": "https://localhost:8080/"
        },
        "id": "_33rQFlpZzTb",
        "outputId": "c1b5faed-4c52-4161-f3e4-55ab5d9438dd"
      },
      "execution_count": 31,
      "outputs": [
        {
          "output_type": "stream",
          "name": "stderr",
          "text": [
            "WARNING:absl:Found untraced functions such as _jit_compiled_convolution_op, _jit_compiled_convolution_op, _jit_compiled_convolution_op, _jit_compiled_convolution_op, _jit_compiled_convolution_op while saving (showing 5 of 10). These functions will not be directly callable after loading.\n"
          ]
        }
      ]
    },
    {
      "cell_type": "code",
      "source": [
        "json.dump(history.history, open('baseVGG.json', 'w'))"
      ],
      "metadata": {
        "id": "as2Vi7qAedHC"
      },
      "execution_count": 47,
      "outputs": []
    },
    {
      "cell_type": "markdown",
      "source": [
        "### Fine-Tuning a pretrained VGG"
      ],
      "metadata": {
        "id": "eaTV-l3Bavt3"
      }
    },
    {
      "cell_type": "code",
      "source": [
        "%matplotlib inline\n",
        "images, tip_pos = get_dataset(target_size=(224, 224), force_resize=False, rescale_coordinates=100)"
      ],
      "metadata": {
        "id": "Xzr6dEteayWx"
      },
      "execution_count": 32,
      "outputs": []
    },
    {
      "cell_type": "code",
      "source": [
        "print(images.shape, images.dtype)\n",
        "plt.imshow(PIL.Image.fromarray((255 * images[12]).astype(np.uint8)))"
      ],
      "metadata": {
        "colab": {
          "base_uri": "https://localhost:8080/",
          "height": 469
        },
        "id": "014Ye5PygFbh",
        "outputId": "815ce9da-6250-4a20-f5ca-d47984bcc38d"
      },
      "execution_count": 33,
      "outputs": [
        {
          "output_type": "stream",
          "name": "stdout",
          "text": [
            "(513, 224, 224, 3) float32\n"
          ]
        },
        {
          "output_type": "execute_result",
          "data": {
            "text/plain": [
              "<matplotlib.image.AxesImage at 0x7f24b03bdb10>"
            ]
          },
          "metadata": {},
          "execution_count": 33
        },
        {
          "output_type": "display_data",
          "data": {
            "text/plain": [
              "<Figure size 640x480 with 1 Axes>"
            ],
            "image/png": "[encoded data removed]"
          },
          "metadata": {}
        }
      ]
    },
    {
      "cell_type": "code",
      "source": [
        "train_images, eval_images, train_tip_pos, eval_tip_pos = train_test_split(images, tip_pos, test_size=0.2, random_state=0)"
      ],
      "metadata": {
        "id": "Sj9wpNUfbtZV"
      },
      "execution_count": 34,
      "outputs": []
    },
    {
      "cell_type": "code",
      "source": [
        "base_model = tf.keras.applications.VGG16(\n",
        "    include_top=False,\n",
        "    weights=\"imagenet\",\n",
        ")\n",
        "base_model.trainable = False"
      ],
      "metadata": {
        "colab": {
          "base_uri": "https://localhost:8080/"
        },
        "id": "ToqmhD-Fed1m",
        "outputId": "2c74d46d-4f98-44cc-bd11-be37908226ed"
      },
      "execution_count": 35,
      "outputs": [
        {
          "output_type": "stream",
          "name": "stdout",
          "text": [
            "Downloading data from https://storage.googleapis.com/tensorflow/keras-applications/vgg16/vgg16_weights_tf_dim_ordering_tf_kernels_notop.h5\n",
            "58889256/58889256 [==============================] - 4s 0us/step\n"
          ]
        }
      ]
    },
    {
      "cell_type": "code",
      "source": [
        "inputs = tf.keras.layers.Input(shape=(224, 224, 3))\n",
        "x = base_model(inputs, training=False)\n",
        "x = tf.keras.layers.Flatten()(x)\n",
        "outputs = tf.keras.layers.Dense(3, activation='linear')(x)\n",
        "finetuned_vgg_model = tf.keras.Model(inputs, outputs)"
      ],
      "metadata": {
        "id": "mC35EIGpfT3F"
      },
      "execution_count": 36,
      "outputs": []
    },
    {
      "cell_type": "code",
      "source": [
        "finetuned_vgg_model.summary()"
      ],
      "metadata": {
        "colab": {
          "base_uri": "https://localhost:8080/"
        },
        "id": "aTz0o4Nwh96d",
        "outputId": "454fc339-5977-4731-8b33-97a6f63d62af"
      },
      "execution_count": 37,
      "outputs": [
        {
          "output_type": "stream",
          "name": "stdout",
          "text": [
            "Model: \"model\"\n",
            "_________________________________________________________________\n",
            " Layer (type)                Output Shape              Param #   \n",
            "=================================================================\n",
            " input_2 (InputLayer)        [(None, 224, 224, 3)]     0         \n",
            "                                                                 \n",
            " vgg16 (Functional)          (None, None, None, 512)   14714688  \n",
            "                                                                 \n",
            " flatten_2 (Flatten)         (None, 25088)             0         \n",
            "                                                                 \n",
            " dense_6 (Dense)             (None, 3)                 75267     \n",
            "                                                                 \n",
            "=================================================================\n",
            "Total params: 14,789,955\n",
            "Trainable params: 75,267\n",
            "Non-trainable params: 14,714,688\n",
            "_________________________________________________________________\n"
          ]
        }
      ]
    },
    {
      "cell_type": "code",
      "source": [
        "finetuned_vgg_model.compile(loss='mean_squared_error', optimizer=tf.keras.optimizers.Adam(learning_rate=1e-3))"
      ],
      "metadata": {
        "id": "xBVsIeOqiOmV"
      },
      "execution_count": 38,
      "outputs": []
    },
    {
      "cell_type": "code",
      "source": [
        "finetuned_vgg_history = finetuned_vgg_model.fit(\n",
        "    train_images, train_tip_pos, epochs=n_epochs,\n",
        "    validation_data=(eval_images, eval_tip_pos),\n",
        "    batch_size = batch_size, shuffle=True,\n",
        ")"
      ],
      "metadata": {
        "colab": {
          "base_uri": "https://localhost:8080/"
        },
        "id": "JpKxCqC8idti",
        "outputId": "d3b08fed-bad1-451d-e018-5a7486b127ac"
      },
      "execution_count": 39,
      "outputs": [
        {
          "output_type": "stream",
          "name": "stdout",
          "text": [
            "Epoch 1/100\n",
            "13/13 [==============================] - 3s 134ms/step - loss: 57.6629 - val_loss: 31.6641\n",
            "Epoch 2/100\n",
            "13/13 [==============================] - 0s 31ms/step - loss: 17.9016 - val_loss: 14.0597\n",
            "Epoch 3/100\n",
            "13/13 [==============================] - 0s 31ms/step - loss: 9.3558 - val_loss: 6.6492\n",
            "Epoch 4/100\n",
            "13/13 [==============================] - 0s 31ms/step - loss: 5.0190 - val_loss: 3.6317\n",
            "Epoch 5/100\n",
            "13/13 [==============================] - 0s 32ms/step - loss: 3.1442 - val_loss: 2.2833\n",
            "Epoch 6/100\n",
            "13/13 [==============================] - 0s 32ms/step - loss: 2.0825 - val_loss: 1.4515\n",
            "Epoch 7/100\n",
            "13/13 [==============================] - 0s 31ms/step - loss: 1.5327 - val_loss: 1.2283\n",
            "Epoch 8/100\n",
            "13/13 [==============================] - 0s 31ms/step - loss: 1.2682 - val_loss: 0.8777\n",
            "Epoch 9/100\n",
            "13/13 [==============================] - 0s 31ms/step - loss: 1.0742 - val_loss: 1.0388\n",
            "Epoch 10/100\n",
            "13/13 [==============================] - 0s 31ms/step - loss: 0.9232 - val_loss: 0.8091\n",
            "Epoch 11/100\n",
            "13/13 [==============================] - 0s 31ms/step - loss: 0.7579 - val_loss: 0.5820\n",
            "Epoch 12/100\n",
            "13/13 [==============================] - 0s 32ms/step - loss: 0.6586 - val_loss: 0.5735\n",
            "Epoch 13/100\n",
            "13/13 [==============================] - 0s 31ms/step - loss: 0.6036 - val_loss: 0.4550\n",
            "Epoch 14/100\n",
            "13/13 [==============================] - 0s 31ms/step - loss: 0.5464 - val_loss: 0.4219\n",
            "Epoch 15/100\n",
            "13/13 [==============================] - 0s 31ms/step - loss: 0.4706 - val_loss: 0.3889\n",
            "Epoch 16/100\n",
            "13/13 [==============================] - 0s 31ms/step - loss: 0.4219 - val_loss: 0.3752\n",
            "Epoch 17/100\n",
            "13/13 [==============================] - 0s 31ms/step - loss: 0.3785 - val_loss: 0.3248\n",
            "Epoch 18/100\n",
            "13/13 [==============================] - 0s 31ms/step - loss: 0.3442 - val_loss: 0.3433\n",
            "Epoch 19/100\n",
            "13/13 [==============================] - 0s 31ms/step - loss: 0.3239 - val_loss: 0.2958\n",
            "Epoch 20/100\n",
            "13/13 [==============================] - 0s 31ms/step - loss: 0.2971 - val_loss: 0.2849\n",
            "Epoch 21/100\n",
            "13/13 [==============================] - 0s 31ms/step - loss: 0.2757 - val_loss: 0.2803\n",
            "Epoch 22/100\n",
            "13/13 [==============================] - 0s 31ms/step - loss: 0.2574 - val_loss: 0.2600\n",
            "Epoch 23/100\n",
            "13/13 [==============================] - 0s 32ms/step - loss: 0.2503 - val_loss: 0.2498\n",
            "Epoch 24/100\n",
            "13/13 [==============================] - 0s 31ms/step - loss: 0.2208 - val_loss: 0.2319\n",
            "Epoch 25/100\n",
            "13/13 [==============================] - 0s 32ms/step - loss: 0.2092 - val_loss: 0.2253\n",
            "Epoch 26/100\n",
            "13/13 [==============================] - 0s 31ms/step - loss: 0.2126 - val_loss: 0.2119\n",
            "Epoch 27/100\n",
            "13/13 [==============================] - 0s 31ms/step - loss: 0.1871 - val_loss: 0.2006\n",
            "Epoch 28/100\n",
            "13/13 [==============================] - 0s 31ms/step - loss: 0.1715 - val_loss: 0.2156\n",
            "Epoch 29/100\n",
            "13/13 [==============================] - 0s 31ms/step - loss: 0.1646 - val_loss: 0.1949\n",
            "Epoch 30/100\n",
            "13/13 [==============================] - 0s 31ms/step - loss: 0.1547 - val_loss: 0.2042\n",
            "Epoch 31/100\n",
            "13/13 [==============================] - 0s 31ms/step - loss: 0.1842 - val_loss: 0.1732\n",
            "Epoch 32/100\n",
            "13/13 [==============================] - 0s 31ms/step - loss: 0.1479 - val_loss: 0.1921\n",
            "Epoch 33/100\n",
            "13/13 [==============================] - 0s 31ms/step - loss: 0.1338 - val_loss: 0.1692\n",
            "Epoch 34/100\n",
            "13/13 [==============================] - 0s 31ms/step - loss: 0.1286 - val_loss: 0.1690\n",
            "Epoch 35/100\n",
            "13/13 [==============================] - 0s 32ms/step - loss: 0.1245 - val_loss: 0.1689\n",
            "Epoch 36/100\n",
            "13/13 [==============================] - 0s 32ms/step - loss: 0.1208 - val_loss: 0.1846\n",
            "Epoch 37/100\n",
            "13/13 [==============================] - 0s 31ms/step - loss: 0.1216 - val_loss: 0.1709\n",
            "Epoch 38/100\n",
            "13/13 [==============================] - 0s 32ms/step - loss: 0.1073 - val_loss: 0.1499\n",
            "Epoch 39/100\n",
            "13/13 [==============================] - 0s 33ms/step - loss: 0.1009 - val_loss: 0.1499\n",
            "Epoch 40/100\n",
            "13/13 [==============================] - 0s 32ms/step - loss: 0.1037 - val_loss: 0.1687\n",
            "Epoch 41/100\n",
            "13/13 [==============================] - 0s 32ms/step - loss: 0.0976 - val_loss: 0.1613\n",
            "Epoch 42/100\n",
            "13/13 [==============================] - 0s 32ms/step - loss: 0.0940 - val_loss: 0.1565\n",
            "Epoch 43/100\n",
            "13/13 [==============================] - 0s 31ms/step - loss: 0.0945 - val_loss: 0.1612\n",
            "Epoch 44/100\n",
            "13/13 [==============================] - 0s 31ms/step - loss: 0.0857 - val_loss: 0.1433\n",
            "Epoch 45/100\n",
            "13/13 [==============================] - 0s 32ms/step - loss: 0.0860 - val_loss: 0.1403\n",
            "Epoch 46/100\n",
            "13/13 [==============================] - 0s 32ms/step - loss: 0.0786 - val_loss: 0.1394\n",
            "Epoch 47/100\n",
            "13/13 [==============================] - 0s 31ms/step - loss: 0.0779 - val_loss: 0.1370\n",
            "Epoch 48/100\n",
            "13/13 [==============================] - 0s 32ms/step - loss: 0.0768 - val_loss: 0.1380\n",
            "Epoch 49/100\n",
            "13/13 [==============================] - 0s 31ms/step - loss: 0.0808 - val_loss: 0.1389\n",
            "Epoch 50/100\n",
            "13/13 [==============================] - 0s 31ms/step - loss: 0.0729 - val_loss: 0.1312\n",
            "Epoch 51/100\n",
            "13/13 [==============================] - 0s 31ms/step - loss: 0.0722 - val_loss: 0.1376\n",
            "Epoch 52/100\n",
            "13/13 [==============================] - 0s 32ms/step - loss: 0.0699 - val_loss: 0.1558\n",
            "Epoch 53/100\n",
            "13/13 [==============================] - 0s 31ms/step - loss: 0.0712 - val_loss: 0.1431\n",
            "Epoch 54/100\n",
            "13/13 [==============================] - 0s 31ms/step - loss: 0.0690 - val_loss: 0.1432\n",
            "Epoch 55/100\n",
            "13/13 [==============================] - 0s 31ms/step - loss: 0.0641 - val_loss: 0.1303\n",
            "Epoch 56/100\n",
            "13/13 [==============================] - 0s 31ms/step - loss: 0.0621 - val_loss: 0.1342\n",
            "Epoch 57/100\n",
            "13/13 [==============================] - 0s 31ms/step - loss: 0.0609 - val_loss: 0.1263\n",
            "Epoch 58/100\n",
            "13/13 [==============================] - 0s 31ms/step - loss: 0.0560 - val_loss: 0.1254\n",
            "Epoch 59/100\n",
            "13/13 [==============================] - 0s 31ms/step - loss: 0.0651 - val_loss: 0.1293\n",
            "Epoch 60/100\n",
            "13/13 [==============================] - 0s 32ms/step - loss: 0.0832 - val_loss: 0.1312\n",
            "Epoch 61/100\n",
            "13/13 [==============================] - 0s 31ms/step - loss: 0.0744 - val_loss: 0.1221\n",
            "Epoch 62/100\n",
            "13/13 [==============================] - 0s 32ms/step - loss: 0.0544 - val_loss: 0.1292\n",
            "Epoch 63/100\n",
            "13/13 [==============================] - 0s 31ms/step - loss: 0.0487 - val_loss: 0.1255\n",
            "Epoch 64/100\n",
            "13/13 [==============================] - 0s 31ms/step - loss: 0.0480 - val_loss: 0.1323\n",
            "Epoch 65/100\n",
            "13/13 [==============================] - 0s 31ms/step - loss: 0.0500 - val_loss: 0.1287\n",
            "Epoch 66/100\n",
            "13/13 [==============================] - 0s 31ms/step - loss: 0.0501 - val_loss: 0.1263\n",
            "Epoch 67/100\n",
            "13/13 [==============================] - 0s 32ms/step - loss: 0.0536 - val_loss: 0.1271\n",
            "Epoch 68/100\n",
            "13/13 [==============================] - 0s 32ms/step - loss: 0.0513 - val_loss: 0.1295\n",
            "Epoch 69/100\n",
            "13/13 [==============================] - 0s 32ms/step - loss: 0.0476 - val_loss: 0.1222\n",
            "Epoch 70/100\n",
            "13/13 [==============================] - 0s 31ms/step - loss: 0.0431 - val_loss: 0.1213\n",
            "Epoch 71/100\n",
            "13/13 [==============================] - 0s 32ms/step - loss: 0.0420 - val_loss: 0.1241\n",
            "Epoch 72/100\n",
            "13/13 [==============================] - 0s 32ms/step - loss: 0.0400 - val_loss: 0.1188\n",
            "Epoch 73/100\n",
            "13/13 [==============================] - 0s 32ms/step - loss: 0.0378 - val_loss: 0.1305\n",
            "Epoch 74/100\n",
            "13/13 [==============================] - 0s 31ms/step - loss: 0.0397 - val_loss: 0.1241\n",
            "Epoch 75/100\n",
            "13/13 [==============================] - 0s 32ms/step - loss: 0.0403 - val_loss: 0.1455\n",
            "Epoch 76/100\n",
            "13/13 [==============================] - 0s 31ms/step - loss: 0.0398 - val_loss: 0.1204\n",
            "Epoch 77/100\n",
            "13/13 [==============================] - 0s 31ms/step - loss: 0.0417 - val_loss: 0.1216\n",
            "Epoch 78/100\n",
            "13/13 [==============================] - 0s 31ms/step - loss: 0.0365 - val_loss: 0.1299\n",
            "Epoch 79/100\n",
            "13/13 [==============================] - 0s 32ms/step - loss: 0.0445 - val_loss: 0.1352\n",
            "Epoch 80/100\n",
            "13/13 [==============================] - 0s 31ms/step - loss: 0.0423 - val_loss: 0.1367\n",
            "Epoch 81/100\n",
            "13/13 [==============================] - 0s 31ms/step - loss: 0.0334 - val_loss: 0.1203\n",
            "Epoch 82/100\n",
            "13/13 [==============================] - 0s 32ms/step - loss: 0.0302 - val_loss: 0.1303\n",
            "Epoch 83/100\n",
            "13/13 [==============================] - 0s 31ms/step - loss: 0.0329 - val_loss: 0.1191\n",
            "Epoch 84/100\n",
            "13/13 [==============================] - 0s 31ms/step - loss: 0.0303 - val_loss: 0.1164\n",
            "Epoch 85/100\n",
            "13/13 [==============================] - 0s 31ms/step - loss: 0.0296 - val_loss: 0.1166\n",
            "Epoch 86/100\n",
            "13/13 [==============================] - 0s 31ms/step - loss: 0.0286 - val_loss: 0.1206\n",
            "Epoch 87/100\n",
            "13/13 [==============================] - 0s 31ms/step - loss: 0.0301 - val_loss: 0.1259\n",
            "Epoch 88/100\n",
            "13/13 [==============================] - 0s 31ms/step - loss: 0.0278 - val_loss: 0.1172\n",
            "Epoch 89/100\n",
            "13/13 [==============================] - 0s 31ms/step - loss: 0.0265 - val_loss: 0.1176\n",
            "Epoch 90/100\n",
            "13/13 [==============================] - 0s 31ms/step - loss: 0.0283 - val_loss: 0.1139\n",
            "Epoch 91/100\n",
            "13/13 [==============================] - 0s 31ms/step - loss: 0.0258 - val_loss: 0.1175\n",
            "Epoch 92/100\n",
            "13/13 [==============================] - 0s 32ms/step - loss: 0.0284 - val_loss: 0.1199\n",
            "Epoch 93/100\n",
            "13/13 [==============================] - 0s 31ms/step - loss: 0.0243 - val_loss: 0.1153\n",
            "Epoch 94/100\n",
            "13/13 [==============================] - 0s 31ms/step - loss: 0.0261 - val_loss: 0.1203\n",
            "Epoch 95/100\n",
            "13/13 [==============================] - 0s 31ms/step - loss: 0.0247 - val_loss: 0.1219\n",
            "Epoch 96/100\n",
            "13/13 [==============================] - 0s 31ms/step - loss: 0.0303 - val_loss: 0.1234\n",
            "Epoch 97/100\n",
            "13/13 [==============================] - 0s 31ms/step - loss: 0.0317 - val_loss: 0.1188\n",
            "Epoch 98/100\n",
            "13/13 [==============================] - 0s 31ms/step - loss: 0.0333 - val_loss: 0.1380\n",
            "Epoch 99/100\n",
            "13/13 [==============================] - 0s 32ms/step - loss: 0.0241 - val_loss: 0.1242\n",
            "Epoch 100/100\n",
            "13/13 [==============================] - 0s 31ms/step - loss: 0.0255 - val_loss: 0.1175\n"
          ]
        }
      ]
    },
    {
      "cell_type": "code",
      "source": [
        "epsilon = 1e-8\n",
        "predictions = finetuned_vgg_model.predict(eval_images)\n",
        "differences = np.abs(predictions - eval_tip_pos - epsilon)\n",
        "relative_errors = differences / np.abs(eval_tip_pos + epsilon)\n",
        "relative_errors_x = relative_errors[:, 0]\n",
        "relative_errors_y = relative_errors[:, 1]\n",
        "relative_errors_z = relative_errors[:, 2]\n",
        "print(len(relative_errors_x), len(relative_errors_y), len(relative_errors_z))\n",
        "# Prune the cases of a zero target (multiplies by 10**6 the error)\n",
        "relative_errors_x = relative_errors_x[eval_tip_pos[:, 0] != 0]\n",
        "relative_errors_y = relative_errors_y[eval_tip_pos[:, 1] != 0]\n",
        "relative_errors_z = relative_errors_z[eval_tip_pos[:, 2] != 0]\n",
        "print(len(relative_errors_x), len(relative_errors_y), len(relative_errors_z))"
      ],
      "metadata": {
        "colab": {
          "base_uri": "https://localhost:8080/"
        },
        "id": "9Fo7-2jSkbEr",
        "outputId": "926c3b6e-e642-4b45-9722-03a6c0dc43aa"
      },
      "execution_count": 40,
      "outputs": [
        {
          "output_type": "stream",
          "name": "stdout",
          "text": [
            "4/4 [==============================] - 0s 23ms/step\n",
            "103 103 103\n",
            "102 102 103\n"
          ]
        }
      ]
    },
    {
      "cell_type": "code",
      "source": [
        "%matplotlib inline\n",
        "plt.hist(relative_errors_x, bins=np.linspace(0, 1, 20))"
      ],
      "metadata": {
        "colab": {
          "base_uri": "https://localhost:8080/",
          "height": 551
        },
        "id": "IeZ-KZM0krZt",
        "outputId": "c7ea4f29-306d-48fa-9fd3-f1a36f01b229"
      },
      "execution_count": 41,
      "outputs": [
        {
          "output_type": "execute_result",
          "data": {
            "text/plain": [
              "(array([53., 23.,  7.,  3.,  2.,  1.,  1.,  1.,  1.,  1.,  0.,  1.,  2.,\n",
              "         1.,  2.,  0.,  0.,  0.,  0.]),\n",
              " array([0.        , 0.05263158, 0.10526316, 0.15789474, 0.21052632,\n",
              "        0.26315789, 0.31578947, 0.36842105, 0.42105263, 0.47368421,\n",
              "        0.52631579, 0.57894737, 0.63157895, 0.68421053, 0.73684211,\n",
              "        0.78947368, 0.84210526, 0.89473684, 0.94736842, 1.        ]),\n",
              " <BarContainer object of 19 artists>)"
            ]
          },
          "metadata": {},
          "execution_count": 41
        },
        {
          "output_type": "display_data",
          "data": {
            "text/plain": [
              "<Figure size 640x480 with 1 Axes>"
            ],
            "image/png": "[encoded data removed]"
          },
          "metadata": {}
        }
      ]
    },
    {
      "cell_type": "code",
      "source": [
        "%matplotlib inline\n",
        "plt.hist(relative_errors_y, bins=np.linspace(0, 1, 20))"
      ],
      "metadata": {
        "colab": {
          "base_uri": "https://localhost:8080/",
          "height": 552
        },
        "id": "SLzy1Lo1k0QE",
        "outputId": "48175a6f-a3e9-439a-a462-5d1378524993"
      },
      "execution_count": 42,
      "outputs": [
        {
          "output_type": "execute_result",
          "data": {
            "text/plain": [
              "(array([77., 18.,  4.,  0.,  0.,  0.,  2.,  0.,  0.,  0.,  0.,  0.,  0.,\n",
              "         0.,  0.,  0.,  0.,  0.,  0.]),\n",
              " array([0.        , 0.05263158, 0.10526316, 0.15789474, 0.21052632,\n",
              "        0.26315789, 0.31578947, 0.36842105, 0.42105263, 0.47368421,\n",
              "        0.52631579, 0.57894737, 0.63157895, 0.68421053, 0.73684211,\n",
              "        0.78947368, 0.84210526, 0.89473684, 0.94736842, 1.        ]),\n",
              " <BarContainer object of 19 artists>)"
            ]
          },
          "metadata": {},
          "execution_count": 42
        },
        {
          "output_type": "display_data",
          "data": {
            "text/plain": [
              "<Figure size 640x480 with 1 Axes>"
            ],
            "image/png": "[encoded data removed]"
          },
          "metadata": {}
        }
      ]
    },
    {
      "cell_type": "code",
      "source": [
        "%matplotlib inline\n",
        "plt.hist(relative_errors_z, bins=np.linspace(0, 1, 20))"
      ],
      "metadata": {
        "colab": {
          "base_uri": "https://localhost:8080/",
          "height": 551
        },
        "id": "UDODtFBhk7Oo",
        "outputId": "e7567f2d-4620-4799-f317-cb0508bc4e94"
      },
      "execution_count": 43,
      "outputs": [
        {
          "output_type": "execute_result",
          "data": {
            "text/plain": [
              "(array([103.,   0.,   0.,   0.,   0.,   0.,   0.,   0.,   0.,   0.,   0.,\n",
              "          0.,   0.,   0.,   0.,   0.,   0.,   0.,   0.]),\n",
              " array([0.        , 0.05263158, 0.10526316, 0.15789474, 0.21052632,\n",
              "        0.26315789, 0.31578947, 0.36842105, 0.42105263, 0.47368421,\n",
              "        0.52631579, 0.57894737, 0.63157895, 0.68421053, 0.73684211,\n",
              "        0.78947368, 0.84210526, 0.89473684, 0.94736842, 1.        ]),\n",
              " <BarContainer object of 19 artists>)"
            ]
          },
          "metadata": {},
          "execution_count": 43
        },
        {
          "output_type": "display_data",
          "data": {
            "text/plain": [
              "<Figure size 640x480 with 1 Axes>"
            ],
            "image/png": "[encoded data removed]"
          },
          "metadata": {}
        }
      ]
    },
    {
      "cell_type": "code",
      "source": [
        "model.save('finetunedVGG')"
      ],
      "metadata": {
        "colab": {
          "base_uri": "https://localhost:8080/"
        },
        "id": "GmyKxxxaZ6eX",
        "outputId": "67f54eae-a6b0-4319-fdcc-4e50174b502a"
      },
      "execution_count": 44,
      "outputs": [
        {
          "output_type": "stream",
          "name": "stderr",
          "text": [
            "WARNING:absl:Found untraced functions such as _jit_compiled_convolution_op, _jit_compiled_convolution_op, _jit_compiled_convolution_op, _jit_compiled_convolution_op, _jit_compiled_convolution_op while saving (showing 5 of 10). These functions will not be directly callable after loading.\n"
          ]
        }
      ]
    },
    {
      "cell_type": "code",
      "source": [
        "json.dump(finetuned_vgg_history.history, open('finetunedVGG.json', 'w'))"
      ],
      "metadata": {
        "id": "ysomQ7Rhd7N8"
      },
      "execution_count": 48,
      "outputs": []
    },
    {
      "cell_type": "markdown",
      "source": [
        "### Data Augmentation\n",
        "We start with a simple `Data Augmentation` technique consisting in horizontally flipping the image. Remember that in this dataset, the camera is aligned to the `x`-axis, flipping the image to the right actually changes only the value of $y \\rightarrow -y$."
      ],
      "metadata": {
        "id": "xFZGnmnAhAtK"
      }
    },
    {
      "cell_type": "markdown",
      "source": [
        "* Brightness\n",
        "* Saturation\n",
        "* Inversion (whole image / ONLY background / ONLY foreground)\n",
        "* Gaussian Noise\n",
        "* Salt & Pepper"
      ],
      "metadata": {
        "id": "0lFEcZKhQXfL"
      }
    },
    {
      "cell_type": "code",
      "source": [
        "def apply_brightness_change(images, tip_pos, delta):\n",
        "  new_images = tf.image.adjust_brightness(images, delta).numpy()\n",
        "  return new_images, tip_pos.copy()\n",
        "\n",
        "def apply_saturation_change(images, tip_pos, saturation_factor):\n",
        "  new_images = tf.image.adjust_saturation(images, saturation_factor).numpy()\n",
        "  return new_images, tip_pos.copy()\n",
        "\n",
        "def apply_inversion(images, tip_pos):\n",
        "  new_images = 1.0 - images\n",
        "  return new_images, tip_pos.copy()\n",
        "\n",
        "def apply_gaussian_noise(images, tip_pos, sigma=0.1):\n",
        "  new_images = images.copy() + (sigma ** 2) * np.random.randn(*images.shape)\n",
        "  return new_images, tip_pos.copy()\n",
        "\n",
        "def apply_horizontal_flip(images, tip_pos):\n",
        "  flipped_images = np.flip(images, axis=2)\n",
        "  flipped_tip_pos = tip_pos.copy()\n",
        "  flipped_tip_pos[:, 1] = -flipped_tip_pos[:, 1]\n",
        "  return flipped_images, flipped_tip_pos\n",
        "\n",
        "def apply_salt_and_pepper(images, tip_pos, prob=0.1):\n",
        "  '''\n",
        "  Add salt and pepper noise to image\n",
        "  prob: Probability of the noise\n",
        "  '''\n",
        "  new_images = np.zeros(images.shape,np.float32)\n",
        "  thres = 1 - prob\n",
        "  randoms = np.random.uniform(0., 1., size=images.shape).astype(np.float32)\n",
        "  new_images = (randoms < prob) * 0. + (randoms > thres) * 1. + (prob <= randoms) * (randoms <= thres) * images\n",
        "  return new_images, tip_pos.copy()\n",
        "  \"\"\"\n",
        "  for i in range(image.shape[0]):\n",
        "      for j in range(image.shape[1]):\n",
        "          rdn = random.random()\n",
        "          if rdn < prob:\n",
        "              output[i][j] = 0\n",
        "          elif rdn > thres:\n",
        "              output[i][j] = 255\n",
        "          else:\n",
        "              output[i][j] = image[i][j]\n",
        "  \"\"\"\n",
        "  #return output"
      ],
      "metadata": {
        "id": "1okbws9KLggl"
      },
      "execution_count": 66,
      "outputs": []
    },
    {
      "cell_type": "code",
      "source": [
        "def augment_dataset(images, tip_pos, **parameters):\n",
        "  new_data = [images]\n",
        "  new_labels = [tip_pos]\n",
        "  for param_name, param_values in parameters.items():\n",
        "    func = eval(param_name)\n",
        "    new_images, new_pos = func(images, tip_pos, **param_values)\n",
        "    new_data.append(new_images)\n",
        "    new_labels.append(new_pos)\n",
        "  return np.row_stack(new_data), np.row_stack(new_labels)"
      ],
      "metadata": {
        "id": "Dxt3cpy_UlIn"
      },
      "execution_count": 55,
      "outputs": []
    },
    {
      "cell_type": "code",
      "source": [
        "def get_augmented_dataset(\n",
        "    image_data_path='data/image/ws_0.5', motion_data_path='data/motion/ws_0.5.npz',\n",
        "    resize=True, force_resize=True, target_size_perc=0.125, rescale_coordinates=1,\n",
        "    target_size=None, **parameters\n",
        "):\n",
        "  images, tip_pos = get_dataset(\n",
        "      image_data_path, motion_data_path, resize, force_resize, target_size_perc,\n",
        "      rescale_coordinates, target_size\n",
        "  )\n",
        "  return augment_dataset(images, tip_pos, **parameters)"
      ],
      "metadata": {
        "id": "tASw9jBaU5w-"
      },
      "execution_count": 56,
      "outputs": []
    },
    {
      "cell_type": "code",
      "source": [
        "# An example configuration for augmenting dataset\n",
        "augmentation_configuration = {\n",
        "    'apply_brightness_change': {'delta': 0.2},\n",
        "    'apply_saturation_change': {'saturation_factor': 1},\n",
        "    'apply_inversion': {},\n",
        "    'apply_gaussian_noise': {'sigma': 0.1},\n",
        "    'apply_salt_and_pepper': {'prob': 0.1}\n",
        "}"
      ],
      "metadata": {
        "id": "H0jm0cIIXXJZ"
      },
      "execution_count": 64,
      "outputs": []
    },
    {
      "cell_type": "code",
      "source": [
        "images, tip_pos = get_augmented_dataset(\n",
        "    force_resize=False, rescale_coordinates=100, **augmentation_configuration,\n",
        ")"
      ],
      "metadata": {
        "id": "gXjZIcJZYBzj"
      },
      "execution_count": 67,
      "outputs": []
    },
    {
      "cell_type": "markdown",
      "source": [
        "TODO: Aggiungere stratification in base al tipo di Data Augmentation!"
      ],
      "metadata": {
        "id": "QJhOhhbtY-Ph"
      }
    },
    {
      "cell_type": "code",
      "source": [
        "train_images, eval_images, train_tip_pos, eval_tip_pos = train_test_split(images, tip_pos, test_size=0.2, random_state=0)\n",
        "print(f\"Total length: {len(images)}\", f\"Training Set: {len(train_images)}\", f\"Validation Set: {len(eval_images)}\", sep='\\n')"
      ],
      "metadata": {
        "id": "o9gqS4W88vFA",
        "colab": {
          "base_uri": "https://localhost:8080/"
        },
        "outputId": "a41a6353-aae3-483e-d8d2-b75970acbd90"
      },
      "execution_count": 68,
      "outputs": [
        {
          "output_type": "stream",
          "name": "stdout",
          "text": [
            "Total length: 3078\n",
            "Training Set: 2462\n",
            "Validation Set: 616\n"
          ]
        }
      ]
    },
    {
      "cell_type": "code",
      "source": [
        "# Plot examples\n",
        "IDX = 12\n",
        "LEN = 513\n",
        "fig, ax = plt.subplots(2, 3)\n",
        "plt.imshow(images[0, :, :, 1])\n",
        "ax[0, 0].imshow(images[IDX, :, :, 1])\n",
        "ax[0, 1].imshow(images[IDX+LEN, :, :, 1])\n",
        "ax[0, 2].imshow(images[IDX+2*LEN, :, :, 1])\n",
        "ax[1, 0].imshow(images[IDX+3*LEN, :, :, 1])\n",
        "ax[1, 1].imshow(images[IDX+4*LEN, :, :, 1])\n",
        "ax[1, 2].imshow(images[IDX+5*LEN, :, :, 1])"
      ],
      "metadata": {
        "colab": {
          "base_uri": "https://localhost:8080/",
          "height": 366
        },
        "id": "AQuP3gbqib8r",
        "outputId": "98c15e63-f1c3-4835-e718-5dd827193cf3"
      },
      "execution_count": 74,
      "outputs": [
        {
          "output_type": "execute_result",
          "data": {
            "text/plain": [
              "<matplotlib.image.AxesImage at 0x7f25561f2050>"
            ]
          },
          "metadata": {},
          "execution_count": 74
        },
        {
          "output_type": "display_data",
          "data": {
            "text/plain": [
              "<Figure size 640x480 with 6 Axes>"
            ],
            "image/png": "[encoded data removed]"
          },
          "metadata": {}
        }
      ]
    },
    {
      "cell_type": "code",
      "source": [
        "model2 = tf.keras.Sequential([\n",
        "\n",
        "  tf.keras.layers.Conv2D(8, kernel_size=4, activation='relu', padding='same', input_shape=(135, 240, 3)),\n",
        "  #tf.keras.layers.BatchNormalization(),\n",
        "  tf.keras.layers.Conv2D(8, kernel_size=4, activation='relu', padding='same'),\n",
        "  #tf.keras.layers.BatchNormalization(),\n",
        "  tf.keras.layers.MaxPool2D(),\n",
        "  #tf.keras.layers.BatchNormalization(),\n",
        "  #tf.keras.layers.Dropout(0.2),\n",
        "\n",
        "  tf.keras.layers.Conv2D(16, kernel_size=4, activation='relu', padding='same'),\n",
        "  #tf.keras.layers.BatchNormalization(),\n",
        "  tf.keras.layers.Conv2D(16, kernel_size=4, activation='relu', padding='same'),\n",
        "  #tf.keras.layers.BatchNormalization(),\n",
        "  tf.keras.layers.MaxPool2D(),\n",
        "  #tf.keras.layers.BatchNormalization(),\n",
        "  #tf.keras.layers.Dropout(0.3),\n",
        "\n",
        "  tf.keras.layers.Conv2D(32, kernel_size=4, activation='relu', padding='same'),\n",
        "  #tf.keras.layers.BatchNormalization(),\n",
        "  tf.keras.layers.Conv2D(32, kernel_size=4, activation='relu', padding='same'),\n",
        "  #tf.keras.layers.BatchNormalization(),\n",
        "  tf.keras.layers.MaxPool2D(),\n",
        "  #tf.keras.layers.BatchNormalization(),\n",
        "  #tf.keras.layers.Dropout(0.3),\n",
        "\n",
        "  tf.keras.layers.Conv2D(64, kernel_size=4, activation='relu', padding='same'),\n",
        "  #tf.keras.layers.BatchNormalization(),\n",
        "  tf.keras.layers.Conv2D(64, kernel_size=4, activation='relu', padding='same'),\n",
        "  #tf.keras.layers.BatchNormalization(),\n",
        "  tf.keras.layers.MaxPool2D(),\n",
        "  #tf.keras.layers.BatchNormalization(),\n",
        "  #tf.keras.layers.Dropout(0.3),\n",
        "\n",
        "  tf.keras.layers.Conv2D(128, kernel_size=4, activation='relu', padding='same'),\n",
        "  #tf.keras.layers.BatchNormalization(),\n",
        "  tf.keras.layers.Conv2D(128, kernel_size=4, activation='relu', padding='same'),\n",
        "  #tf.keras.layers.BatchNormalization(),\n",
        "  tf.keras.layers.MaxPool2D(),\n",
        "  #tf.keras.layers.BatchNormalization(),\n",
        "  #tf.keras.layers.Dropout(0.3),\n",
        "\n",
        "  tf.keras.layers.Flatten(),\n",
        "  #tf.keras.layers.BatchNormalization(),\n",
        "  tf.keras.layers.Dense(units=256, activation='relu'),\n",
        "  tf.keras.layers.Dense(units=50, activation='relu'),\n",
        "  #tf.keras.layers.Dropout(0.5),\n",
        "  tf.keras.layers.Dense(units=3, activation='linear')\n",
        "])"
      ],
      "metadata": {
        "id": "2D1zFI6A7-ki"
      },
      "execution_count": 75,
      "outputs": []
    },
    {
      "cell_type": "code",
      "source": [
        "model2.compile(loss='mean_squared_error', optimizer=tf.keras.optimizers.Adam(learning_rate=1e-3))"
      ],
      "metadata": {
        "id": "1strI4Gw8iTw"
      },
      "execution_count": 76,
      "outputs": []
    },
    {
      "cell_type": "code",
      "source": [
        "model2.summary()"
      ],
      "metadata": {
        "colab": {
          "base_uri": "https://localhost:8080/"
        },
        "id": "Z7qM7rD-8j7p",
        "outputId": "cdbafa26-cec0-4c7c-a325-a1bdbe71045e"
      },
      "execution_count": 77,
      "outputs": [
        {
          "output_type": "stream",
          "name": "stdout",
          "text": [
            "Model: \"sequential_2\"\n",
            "_________________________________________________________________\n",
            " Layer (type)                Output Shape              Param #   \n",
            "=================================================================\n",
            " conv2d_20 (Conv2D)          (None, 135, 240, 8)       392       \n",
            "                                                                 \n",
            " conv2d_21 (Conv2D)          (None, 135, 240, 8)       1032      \n",
            "                                                                 \n",
            " max_pooling2d_10 (MaxPoolin  (None, 67, 120, 8)       0         \n",
            " g2D)                                                            \n",
            "                                                                 \n",
            " conv2d_22 (Conv2D)          (None, 67, 120, 16)       2064      \n",
            "                                                                 \n",
            " conv2d_23 (Conv2D)          (None, 67, 120, 16)       4112      \n",
            "                                                                 \n",
            " max_pooling2d_11 (MaxPoolin  (None, 33, 60, 16)       0         \n",
            " g2D)                                                            \n",
            "                                                                 \n",
            " conv2d_24 (Conv2D)          (None, 33, 60, 32)        8224      \n",
            "                                                                 \n",
            " conv2d_25 (Conv2D)          (None, 33, 60, 32)        16416     \n",
            "                                                                 \n",
            " max_pooling2d_12 (MaxPoolin  (None, 16, 30, 32)       0         \n",
            " g2D)                                                            \n",
            "                                                                 \n",
            " conv2d_26 (Conv2D)          (None, 16, 30, 64)        32832     \n",
            "                                                                 \n",
            " conv2d_27 (Conv2D)          (None, 16, 30, 64)        65600     \n",
            "                                                                 \n",
            " max_pooling2d_13 (MaxPoolin  (None, 8, 15, 64)        0         \n",
            " g2D)                                                            \n",
            "                                                                 \n",
            " conv2d_28 (Conv2D)          (None, 8, 15, 128)        131200    \n",
            "                                                                 \n",
            " conv2d_29 (Conv2D)          (None, 8, 15, 128)        262272    \n",
            "                                                                 \n",
            " max_pooling2d_14 (MaxPoolin  (None, 4, 7, 128)        0         \n",
            " g2D)                                                            \n",
            "                                                                 \n",
            " flatten_3 (Flatten)         (None, 3584)              0         \n",
            "                                                                 \n",
            " dense_7 (Dense)             (None, 256)               917760    \n",
            "                                                                 \n",
            " dense_8 (Dense)             (None, 50)                12850     \n",
            "                                                                 \n",
            " dense_9 (Dense)             (None, 3)                 153       \n",
            "                                                                 \n",
            "=================================================================\n",
            "Total params: 1,454,907\n",
            "Trainable params: 1,454,907\n",
            "Non-trainable params: 0\n",
            "_________________________________________________________________\n"
          ]
        }
      ]
    },
    {
      "cell_type": "code",
      "source": [
        "history2 = model2.fit(\n",
        "    train_images, train_tip_pos, epochs=n_epochs,\n",
        "    validation_data=(eval_images, eval_tip_pos),\n",
        "    batch_size = batch_size, shuffle=True,\n",
        ")"
      ],
      "metadata": {
        "colab": {
          "base_uri": "https://localhost:8080/"
        },
        "id": "PbHwinkM8m-R",
        "outputId": "1537686a-258e-4372-cfdb-630347555768"
      },
      "execution_count": 78,
      "outputs": [
        {
          "output_type": "stream",
          "name": "stdout",
          "text": [
            "Epoch 1/100\n",
            "77/77 [==============================] - 6s 31ms/step - loss: 54.4199 - val_loss: 46.5329\n",
            "Epoch 2/100\n",
            "77/77 [==============================] - 1s 14ms/step - loss: 41.8032 - val_loss: 43.0409\n",
            "Epoch 3/100\n",
            "77/77 [==============================] - 1s 14ms/step - loss: 40.9193 - val_loss: 42.3841\n",
            "Epoch 4/100\n",
            "77/77 [==============================] - 1s 14ms/step - loss: 40.9996 - val_loss: 42.1162\n",
            "Epoch 5/100\n",
            "77/77 [==============================] - 1s 14ms/step - loss: 40.5309 - val_loss: 42.5902\n",
            "Epoch 6/100\n",
            "77/77 [==============================] - 1s 14ms/step - loss: 39.2277 - val_loss: 40.4602\n",
            "Epoch 7/100\n",
            "77/77 [==============================] - 1s 14ms/step - loss: 33.1904 - val_loss: 11.9604\n",
            "Epoch 8/100\n",
            "77/77 [==============================] - 1s 14ms/step - loss: 5.2496 - val_loss: 3.1537\n",
            "Epoch 9/100\n",
            "77/77 [==============================] - 1s 14ms/step - loss: 1.7220 - val_loss: 1.1539\n",
            "Epoch 10/100\n",
            "77/77 [==============================] - 1s 14ms/step - loss: 0.9741 - val_loss: 0.7694\n",
            "Epoch 11/100\n",
            "77/77 [==============================] - 1s 14ms/step - loss: 0.6702 - val_loss: 0.6890\n",
            "Epoch 12/100\n",
            "77/77 [==============================] - 1s 14ms/step - loss: 0.5530 - val_loss: 0.5554\n",
            "Epoch 13/100\n",
            "77/77 [==============================] - 1s 14ms/step - loss: 0.4069 - val_loss: 0.3717\n",
            "Epoch 14/100\n",
            "77/77 [==============================] - 1s 14ms/step - loss: 0.3183 - val_loss: 0.3219\n",
            "Epoch 15/100\n",
            "77/77 [==============================] - 1s 14ms/step - loss: 0.2915 - val_loss: 0.3098\n",
            "Epoch 16/100\n",
            "77/77 [==============================] - 1s 14ms/step - loss: 0.2855 - val_loss: 0.2719\n",
            "Epoch 17/100\n",
            "77/77 [==============================] - 1s 15ms/step - loss: 0.2142 - val_loss: 0.2859\n",
            "Epoch 18/100\n",
            "77/77 [==============================] - 1s 15ms/step - loss: 0.2352 - val_loss: 0.2341\n",
            "Epoch 19/100\n",
            "77/77 [==============================] - 1s 14ms/step - loss: 0.1903 - val_loss: 0.2732\n",
            "Epoch 20/100\n",
            "77/77 [==============================] - 1s 14ms/step - loss: 0.1655 - val_loss: 0.2083\n",
            "Epoch 21/100\n",
            "77/77 [==============================] - 1s 14ms/step - loss: 0.1642 - val_loss: 0.3007\n",
            "Epoch 22/100\n",
            "77/77 [==============================] - 1s 14ms/step - loss: 0.1551 - val_loss: 0.2249\n",
            "Epoch 23/100\n",
            "77/77 [==============================] - 1s 14ms/step - loss: 0.1262 - val_loss: 0.2223\n",
            "Epoch 24/100\n",
            "77/77 [==============================] - 1s 14ms/step - loss: 0.1260 - val_loss: 0.1825\n",
            "Epoch 25/100\n",
            "77/77 [==============================] - 1s 14ms/step - loss: 0.1076 - val_loss: 0.2172\n",
            "Epoch 26/100\n",
            "77/77 [==============================] - 1s 14ms/step - loss: 0.1042 - val_loss: 0.2123\n",
            "Epoch 27/100\n",
            "77/77 [==============================] - 1s 15ms/step - loss: 0.1244 - val_loss: 0.2120\n",
            "Epoch 28/100\n",
            "77/77 [==============================] - 1s 15ms/step - loss: 0.1598 - val_loss: 0.2384\n",
            "Epoch 29/100\n",
            "77/77 [==============================] - 1s 15ms/step - loss: 0.1090 - val_loss: 0.1792\n",
            "Epoch 30/100\n",
            "77/77 [==============================] - 1s 14ms/step - loss: 0.0867 - val_loss: 0.1972\n",
            "Epoch 31/100\n",
            "77/77 [==============================] - 1s 14ms/step - loss: 0.0989 - val_loss: 0.1389\n",
            "Epoch 32/100\n",
            "77/77 [==============================] - 1s 14ms/step - loss: 0.0673 - val_loss: 0.1621\n",
            "Epoch 33/100\n",
            "77/77 [==============================] - 1s 15ms/step - loss: 0.0743 - val_loss: 0.1467\n",
            "Epoch 34/100\n",
            "77/77 [==============================] - 1s 14ms/step - loss: 0.0868 - val_loss: 0.1695\n",
            "Epoch 35/100\n",
            "77/77 [==============================] - 1s 14ms/step - loss: 0.0789 - val_loss: 0.1651\n",
            "Epoch 36/100\n",
            "77/77 [==============================] - 1s 14ms/step - loss: 0.0962 - val_loss: 0.1513\n",
            "Epoch 37/100\n",
            "77/77 [==============================] - 1s 14ms/step - loss: 0.0860 - val_loss: 0.1409\n",
            "Epoch 38/100\n",
            "77/77 [==============================] - 1s 14ms/step - loss: 0.0911 - val_loss: 0.1453\n",
            "Epoch 39/100\n",
            "77/77 [==============================] - 1s 15ms/step - loss: 0.0634 - val_loss: 0.1406\n",
            "Epoch 40/100\n",
            "77/77 [==============================] - 1s 15ms/step - loss: 0.0550 - val_loss: 0.1324\n",
            "Epoch 41/100\n",
            "77/77 [==============================] - 1s 14ms/step - loss: 0.0784 - val_loss: 0.2249\n",
            "Epoch 42/100\n",
            "77/77 [==============================] - 1s 14ms/step - loss: 0.0896 - val_loss: 0.1692\n",
            "Epoch 43/100\n",
            "77/77 [==============================] - 1s 14ms/step - loss: 0.0977 - val_loss: 0.1410\n",
            "Epoch 44/100\n",
            "77/77 [==============================] - 1s 14ms/step - loss: 0.0757 - val_loss: 0.1463\n",
            "Epoch 45/100\n",
            "77/77 [==============================] - 1s 14ms/step - loss: 0.0804 - val_loss: 0.1540\n",
            "Epoch 46/100\n",
            "77/77 [==============================] - 1s 14ms/step - loss: 0.0756 - val_loss: 0.2356\n",
            "Epoch 47/100\n",
            "77/77 [==============================] - 1s 14ms/step - loss: 0.0827 - val_loss: 0.1611\n",
            "Epoch 48/100\n",
            "77/77 [==============================] - 1s 14ms/step - loss: 0.0609 - val_loss: 0.1452\n",
            "Epoch 49/100\n",
            "77/77 [==============================] - 1s 14ms/step - loss: 0.0514 - val_loss: 0.1194\n",
            "Epoch 50/100\n",
            "77/77 [==============================] - 1s 15ms/step - loss: 0.0642 - val_loss: 0.1382\n",
            "Epoch 51/100\n",
            "77/77 [==============================] - 1s 15ms/step - loss: 0.0623 - val_loss: 0.1856\n",
            "Epoch 52/100\n",
            "77/77 [==============================] - 1s 14ms/step - loss: 0.0663 - val_loss: 0.1347\n",
            "Epoch 53/100\n",
            "77/77 [==============================] - 1s 14ms/step - loss: 0.0588 - val_loss: 0.1533\n",
            "Epoch 54/100\n",
            "77/77 [==============================] - 1s 14ms/step - loss: 0.0911 - val_loss: 0.2120\n",
            "Epoch 55/100\n",
            "77/77 [==============================] - 1s 14ms/step - loss: 0.0933 - val_loss: 0.1426\n",
            "Epoch 56/100\n",
            "77/77 [==============================] - 1s 14ms/step - loss: 0.1199 - val_loss: 0.2308\n",
            "Epoch 57/100\n",
            "77/77 [==============================] - 1s 14ms/step - loss: 0.0853 - val_loss: 0.1586\n",
            "Epoch 58/100\n",
            "77/77 [==============================] - 1s 14ms/step - loss: 0.0632 - val_loss: 0.1282\n",
            "Epoch 59/100\n",
            "77/77 [==============================] - 1s 14ms/step - loss: 0.0538 - val_loss: 0.1383\n",
            "Epoch 60/100\n",
            "77/77 [==============================] - 1s 14ms/step - loss: 0.0702 - val_loss: 0.1485\n",
            "Epoch 61/100\n",
            "77/77 [==============================] - 1s 15ms/step - loss: 0.1080 - val_loss: 0.1499\n",
            "Epoch 62/100\n",
            "77/77 [==============================] - 1s 14ms/step - loss: 0.1517 - val_loss: 0.1414\n",
            "Epoch 63/100\n",
            "77/77 [==============================] - 1s 14ms/step - loss: 0.0641 - val_loss: 0.1538\n",
            "Epoch 64/100\n",
            "77/77 [==============================] - 1s 14ms/step - loss: 0.0657 - val_loss: 0.1568\n",
            "Epoch 65/100\n",
            "77/77 [==============================] - 1s 14ms/step - loss: 0.0660 - val_loss: 0.1483\n",
            "Epoch 66/100\n",
            "77/77 [==============================] - 1s 14ms/step - loss: 0.0728 - val_loss: 0.1720\n",
            "Epoch 67/100\n",
            "77/77 [==============================] - 1s 14ms/step - loss: 0.0566 - val_loss: 0.1210\n",
            "Epoch 68/100\n",
            "77/77 [==============================] - 1s 14ms/step - loss: 0.0578 - val_loss: 0.1162\n",
            "Epoch 69/100\n",
            "77/77 [==============================] - 1s 14ms/step - loss: 0.0334 - val_loss: 0.1081\n",
            "Epoch 70/100\n",
            "77/77 [==============================] - 1s 14ms/step - loss: 0.0285 - val_loss: 0.0950\n",
            "Epoch 71/100\n",
            "77/77 [==============================] - 1s 14ms/step - loss: 0.0356 - val_loss: 0.1257\n",
            "Epoch 72/100\n",
            "77/77 [==============================] - 1s 14ms/step - loss: 0.0352 - val_loss: 0.1107\n",
            "Epoch 73/100\n",
            "77/77 [==============================] - 1s 14ms/step - loss: 0.0701 - val_loss: 0.1740\n",
            "Epoch 74/100\n",
            "77/77 [==============================] - 1s 14ms/step - loss: 0.1640 - val_loss: 0.1506\n",
            "Epoch 75/100\n",
            "77/77 [==============================] - 1s 14ms/step - loss: 0.0663 - val_loss: 0.1183\n",
            "Epoch 76/100\n",
            "77/77 [==============================] - 1s 14ms/step - loss: 0.0449 - val_loss: 0.1518\n",
            "Epoch 77/100\n",
            "77/77 [==============================] - 1s 14ms/step - loss: 0.0671 - val_loss: 0.1146\n",
            "Epoch 78/100\n",
            "77/77 [==============================] - 1s 14ms/step - loss: 0.0415 - val_loss: 0.1026\n",
            "Epoch 79/100\n",
            "77/77 [==============================] - 1s 14ms/step - loss: 0.0347 - val_loss: 0.1577\n",
            "Epoch 80/100\n",
            "77/77 [==============================] - 1s 14ms/step - loss: 0.0570 - val_loss: 0.1196\n",
            "Epoch 81/100\n",
            "77/77 [==============================] - 1s 14ms/step - loss: 0.0566 - val_loss: 0.1342\n",
            "Epoch 82/100\n",
            "77/77 [==============================] - 1s 14ms/step - loss: 0.0794 - val_loss: 0.1474\n",
            "Epoch 83/100\n",
            "77/77 [==============================] - 1s 15ms/step - loss: 0.0772 - val_loss: 0.1250\n",
            "Epoch 84/100\n",
            "77/77 [==============================] - 1s 15ms/step - loss: 0.0438 - val_loss: 0.0992\n",
            "Epoch 85/100\n",
            "77/77 [==============================] - 1s 15ms/step - loss: 0.0642 - val_loss: 0.1657\n",
            "Epoch 86/100\n",
            "77/77 [==============================] - 1s 14ms/step - loss: 0.0696 - val_loss: 0.1384\n",
            "Epoch 87/100\n",
            "77/77 [==============================] - 1s 14ms/step - loss: 0.0564 - val_loss: 0.1371\n",
            "Epoch 88/100\n",
            "77/77 [==============================] - 1s 14ms/step - loss: 0.0689 - val_loss: 0.1232\n",
            "Epoch 89/100\n",
            "77/77 [==============================] - 1s 14ms/step - loss: 0.0786 - val_loss: 0.1478\n",
            "Epoch 90/100\n",
            "77/77 [==============================] - 1s 14ms/step - loss: 0.0490 - val_loss: 0.1055\n",
            "Epoch 91/100\n",
            "77/77 [==============================] - 1s 14ms/step - loss: 0.0327 - val_loss: 0.0985\n",
            "Epoch 92/100\n",
            "77/77 [==============================] - 1s 14ms/step - loss: 0.0560 - val_loss: 0.1053\n",
            "Epoch 93/100\n",
            "77/77 [==============================] - 1s 14ms/step - loss: 0.0351 - val_loss: 0.1598\n",
            "Epoch 94/100\n",
            "77/77 [==============================] - 1s 14ms/step - loss: 0.0802 - val_loss: 0.0975\n",
            "Epoch 95/100\n",
            "77/77 [==============================] - 1s 15ms/step - loss: 0.0277 - val_loss: 0.1089\n",
            "Epoch 96/100\n",
            "77/77 [==============================] - 1s 15ms/step - loss: 0.0287 - val_loss: 0.0981\n",
            "Epoch 97/100\n",
            "77/77 [==============================] - 1s 14ms/step - loss: 0.0624 - val_loss: 0.1362\n",
            "Epoch 98/100\n",
            "77/77 [==============================] - 1s 14ms/step - loss: 0.0508 - val_loss: 0.1460\n",
            "Epoch 99/100\n",
            "77/77 [==============================] - 1s 15ms/step - loss: 0.0407 - val_loss: 0.1228\n",
            "Epoch 100/100\n",
            "77/77 [==============================] - 1s 14ms/step - loss: 0.0512 - val_loss: 0.1167\n"
          ]
        }
      ]
    },
    {
      "cell_type": "code",
      "source": [
        "%matplotlib inline\n",
        "plot_results(history, n_epochs)"
      ],
      "metadata": {
        "colab": {
          "base_uri": "https://localhost:8080/",
          "height": 430
        },
        "id": "v6jslcpX82id",
        "outputId": "25c19887-85d5-4597-efee-11bea2cc85fc"
      },
      "execution_count": 79,
      "outputs": [
        {
          "output_type": "display_data",
          "data": {
            "text/plain": [
              "<Figure size 640x480 with 1 Axes>"
            ],
            "image/png": "[encoded data removed]"
          },
          "metadata": {}
        }
      ]
    },
    {
      "cell_type": "code",
      "source": [
        "epsilon = 1e-8\n",
        "predictions2 = model.predict(eval_images)\n",
        "differences2 = np.abs(predictions2 - eval_tip_pos - epsilon)\n",
        "relative_errors2 = differences2 / np.abs(eval_tip_pos + epsilon)\n",
        "relative_errors2_x = relative_errors2[:, 0]\n",
        "relative_errors2_y = relative_errors2[:, 1]\n",
        "relative_errors2_z = relative_errors2[:, 2]\n",
        "print(len(relative_errors2_x), len(relative_errors2_y), len(relative_errors2_z))\n",
        "# Prune the cases of a zero target (multiplies by 10**6 the error)\n",
        "relative_errors2_x = relative_errors2_x[eval_tip_pos[:, 0] != 0]\n",
        "relative_errors2_y = relative_errors2_y[eval_tip_pos[:, 1] != 0]\n",
        "relative_errors2_z = relative_errors2_z[eval_tip_pos[:, 2] != 0]\n",
        "print(len(relative_errors2_x), len(relative_errors2_y), len(relative_errors2_z))"
      ],
      "metadata": {
        "colab": {
          "base_uri": "https://localhost:8080/"
        },
        "id": "f_6j-yKJ9SjY",
        "outputId": "3a58c892-1d5e-4693-9473-efcdfa2f56e3"
      },
      "execution_count": 80,
      "outputs": [
        {
          "output_type": "stream",
          "name": "stdout",
          "text": [
            "20/20 [==============================] - 0s 6ms/step\n",
            "616 616 616\n",
            "612 612 616\n"
          ]
        }
      ]
    },
    {
      "cell_type": "code",
      "source": [
        "%matplotlib inline\n",
        "plt.hist(relative_errors2_x, bins=np.linspace(0, 1, 20))"
      ],
      "metadata": {
        "colab": {
          "base_uri": "https://localhost:8080/",
          "height": 551
        },
        "id": "KD7WK9M69kVG",
        "outputId": "d847823d-a952-4115-acdc-81d98f2a1a7e"
      },
      "execution_count": 81,
      "outputs": [
        {
          "output_type": "execute_result",
          "data": {
            "text/plain": [
              "(array([228.,  76.,  37.,  17.,  16.,   9.,   4.,   9.,   4.,   1.,   4.,\n",
              "          3.,   2.,   5.,   0.,   2.,   0.,   0.,   0.]),\n",
              " array([0.        , 0.05263158, 0.10526316, 0.15789474, 0.21052632,\n",
              "        0.26315789, 0.31578947, 0.36842105, 0.42105263, 0.47368421,\n",
              "        0.52631579, 0.57894737, 0.63157895, 0.68421053, 0.73684211,\n",
              "        0.78947368, 0.84210526, 0.89473684, 0.94736842, 1.        ]),\n",
              " <BarContainer object of 19 artists>)"
            ]
          },
          "metadata": {},
          "execution_count": 81
        },
        {
          "output_type": "display_data",
          "data": {
            "text/plain": [
              "<Figure size 640x480 with 1 Axes>"
            ],
            "image/png": "[encoded data removed]"
          },
          "metadata": {}
        }
      ]
    },
    {
      "cell_type": "code",
      "source": [
        "%matplotlib inline\n",
        "plt.hist(relative_errors2_y, bins=np.linspace(0, 1, 20))"
      ],
      "metadata": {
        "colab": {
          "base_uri": "https://localhost:8080/",
          "height": 551
        },
        "id": "WW4N2oEZ9t3l",
        "outputId": "6f4fd074-ffbe-45fc-c0c3-fdcd4a936e99"
      },
      "execution_count": 82,
      "outputs": [
        {
          "output_type": "execute_result",
          "data": {
            "text/plain": [
              "(array([267.,  93.,  34.,  16.,   7.,   6.,   7.,   4.,   6.,   4.,   8.,\n",
              "          7.,   9.,   4.,   7.,   1.,   1.,   1.,   0.]),\n",
              " array([0.        , 0.05263158, 0.10526316, 0.15789474, 0.21052632,\n",
              "        0.26315789, 0.31578947, 0.36842105, 0.42105263, 0.47368421,\n",
              "        0.52631579, 0.57894737, 0.63157895, 0.68421053, 0.73684211,\n",
              "        0.78947368, 0.84210526, 0.89473684, 0.94736842, 1.        ]),\n",
              " <BarContainer object of 19 artists>)"
            ]
          },
          "metadata": {},
          "execution_count": 82
        },
        {
          "output_type": "display_data",
          "data": {
            "text/plain": [
              "<Figure size 640x480 with 1 Axes>"
            ],
            "image/png": "[encoded data removed]"
          },
          "metadata": {}
        }
      ]
    },
    {
      "cell_type": "code",
      "source": [
        "%matplotlib inline\n",
        "plt.hist(relative_errors2_z, bins=np.linspace(0, 1, 20))"
      ],
      "metadata": {
        "colab": {
          "base_uri": "https://localhost:8080/",
          "height": 551
        },
        "id": "Q40oyr1098Fu",
        "outputId": "730a10d2-f998-4a1d-f726-c851e69636b3"
      },
      "execution_count": 83,
      "outputs": [
        {
          "output_type": "execute_result",
          "data": {
            "text/plain": [
              "(array([327.,  90.,   1.,   2.,   3.,   5.,   5.,   8.,  18.,  32.,  21.,\n",
              "         12.,   6.,   2.,   3.,   6.,   5.,   2.,   5.]),\n",
              " array([0.        , 0.05263158, 0.10526316, 0.15789474, 0.21052632,\n",
              "        0.26315789, 0.31578947, 0.36842105, 0.42105263, 0.47368421,\n",
              "        0.52631579, 0.57894737, 0.63157895, 0.68421053, 0.73684211,\n",
              "        0.78947368, 0.84210526, 0.89473684, 0.94736842, 1.        ]),\n",
              " <BarContainer object of 19 artists>)"
            ]
          },
          "metadata": {},
          "execution_count": 83
        },
        {
          "output_type": "display_data",
          "data": {
            "text/plain": [
              "<Figure size 640x480 with 1 Axes>"
            ],
            "image/png": "[encoded data removed]"
          },
          "metadata": {}
        }
      ]
    },
    {
      "cell_type": "code",
      "source": [
        "model2.save('dataAugmentedBaseVGG')"
      ],
      "metadata": {
        "colab": {
          "base_uri": "https://localhost:8080/"
        },
        "id": "wG3D87aUkZAW",
        "outputId": "8ef46c2f-1222-4695-830e-bd128943349c"
      },
      "execution_count": 84,
      "outputs": [
        {
          "output_type": "stream",
          "name": "stderr",
          "text": [
            "WARNING:absl:Found untraced functions such as _jit_compiled_convolution_op, _jit_compiled_convolution_op, _jit_compiled_convolution_op, _jit_compiled_convolution_op, _jit_compiled_convolution_op while saving (showing 5 of 10). These functions will not be directly callable after loading.\n"
          ]
        }
      ]
    },
    {
      "cell_type": "code",
      "source": [
        "json.dump(history2.history, open('dataAugmentedBaseVGG.json', 'w'))"
      ],
      "metadata": {
        "id": "LzudtOnfkjBo"
      },
      "execution_count": 85,
      "outputs": []
    },
    {
      "cell_type": "markdown",
      "source": [
        "### Data Augmented Pretrained VGG"
      ],
      "metadata": {
        "id": "YmO0ZdCZk7U7"
      }
    },
    {
      "cell_type": "code",
      "source": [
        "%matplotlib inline\n",
        "images, tip_pos = get_augmented_dataset(\n",
        "    target_size=(224, 224), force_resize=False, rescale_coordinates=100, **augmentation_configuration\n",
        ")"
      ],
      "metadata": {
        "id": "zUoEDGHnk-wp"
      },
      "execution_count": 86,
      "outputs": []
    },
    {
      "cell_type": "code",
      "source": [
        "train_images, eval_images, train_tip_pos, eval_tip_pos = train_test_split(images, tip_pos, test_size=0.2, random_state=0)\n",
        "print(f\"Total length: {len(images)}\", f\"Training Set: {len(train_images)}\", f\"Validation Set: {len(eval_images)}\", sep='\\n')"
      ],
      "metadata": {
        "colab": {
          "base_uri": "https://localhost:8080/"
        },
        "id": "vcvZ0zkMlWTp",
        "outputId": "80a615ca-2158-4e06-cd09-32f84ef5ae03"
      },
      "execution_count": 93,
      "outputs": [
        {
          "output_type": "stream",
          "name": "stdout",
          "text": [
            "Total length: 3078\n",
            "Training Set: 2462\n",
            "Validation Set: 616\n"
          ]
        }
      ]
    },
    {
      "cell_type": "code",
      "source": [
        "base_model = tf.keras.applications.VGG16(\n",
        "    include_top=False,\n",
        "    weights=\"imagenet\",\n",
        ")\n",
        "base_model.trainable = False"
      ],
      "metadata": {
        "id": "Hwl7MRq9mOTg"
      },
      "execution_count": 89,
      "outputs": []
    },
    {
      "cell_type": "code",
      "source": [
        "inputs = tf.keras.layers.Input(shape=(224, 224, 3))\n",
        "x = base_model(inputs, training=False)\n",
        "x = tf.keras.layers.Flatten()(x)\n",
        "outputs = tf.keras.layers.Dense(3, activation='linear')(x)\n",
        "augmented_finetuned_vgg_model = tf.keras.Model(inputs, outputs)"
      ],
      "metadata": {
        "id": "oFKPGHWdloky"
      },
      "execution_count": 90,
      "outputs": []
    },
    {
      "cell_type": "code",
      "source": [
        "augmented_finetuned_vgg_model.compile(loss='mean_squared_error', optimizer=tf.keras.optimizers.Adam(learning_rate=1e-3))\n",
        "augmented_finetuned_vgg_history = augmented_finetuned_vgg_model.fit(\n",
        "    train_images, train_tip_pos, epochs=n_epochs,\n",
        "    validation_data=(eval_images, eval_tip_pos),\n",
        "    batch_size = batch_size, shuffle=True,\n",
        ")"
      ],
      "metadata": {
        "colab": {
          "base_uri": "https://localhost:8080/"
        },
        "id": "lh9in65MlriD",
        "outputId": "4ea17388-b3be-4219-e4ff-98ba5307cb5c"
      },
      "execution_count": 94,
      "outputs": [
        {
          "output_type": "stream",
          "name": "stdout",
          "text": [
            "Epoch 1/100\n",
            "77/77 [==============================] - 5s 52ms/step - loss: 17.7839 - val_loss: 3.5771\n",
            "Epoch 2/100\n",
            "77/77 [==============================] - 2s 30ms/step - loss: 2.2294 - val_loss: 1.7915\n",
            "Epoch 3/100\n",
            "77/77 [==============================] - 2s 30ms/step - loss: 1.2684 - val_loss: 1.5199\n",
            "Epoch 4/100\n",
            "77/77 [==============================] - 2s 30ms/step - loss: 0.8661 - val_loss: 0.9326\n",
            "Epoch 5/100\n",
            "77/77 [==============================] - 2s 29ms/step - loss: 0.6203 - val_loss: 0.7834\n",
            "Epoch 6/100\n",
            "77/77 [==============================] - 2s 29ms/step - loss: 0.5303 - val_loss: 0.6504\n",
            "Epoch 7/100\n",
            "77/77 [==============================] - 2s 29ms/step - loss: 0.4142 - val_loss: 0.5932\n",
            "Epoch 8/100\n",
            "77/77 [==============================] - 2s 29ms/step - loss: 0.3504 - val_loss: 0.5656\n",
            "Epoch 9/100\n",
            "77/77 [==============================] - 2s 29ms/step - loss: 0.3121 - val_loss: 0.5094\n",
            "Epoch 10/100\n",
            "77/77 [==============================] - 2s 29ms/step - loss: 0.2747 - val_loss: 0.5130\n",
            "Epoch 11/100\n",
            "77/77 [==============================] - 2s 29ms/step - loss: 0.2632 - val_loss: 0.4850\n",
            "Epoch 12/100\n",
            "77/77 [==============================] - 2s 29ms/step - loss: 0.2396 - val_loss: 0.4591\n",
            "Epoch 13/100\n",
            "77/77 [==============================] - 2s 29ms/step - loss: 0.2065 - val_loss: 0.4160\n",
            "Epoch 14/100\n",
            "77/77 [==============================] - 2s 29ms/step - loss: 0.1970 - val_loss: 0.4157\n",
            "Epoch 15/100\n",
            "77/77 [==============================] - 2s 29ms/step - loss: 0.1767 - val_loss: 0.4126\n",
            "Epoch 16/100\n",
            "77/77 [==============================] - 2s 29ms/step - loss: 0.1617 - val_loss: 0.4430\n",
            "Epoch 17/100\n",
            "77/77 [==============================] - 2s 29ms/step - loss: 0.1466 - val_loss: 0.4001\n",
            "Epoch 18/100\n",
            "77/77 [==============================] - 2s 29ms/step - loss: 0.1441 - val_loss: 0.4416\n",
            "Epoch 19/100\n",
            "77/77 [==============================] - 2s 29ms/step - loss: 0.1528 - val_loss: 0.3966\n",
            "Epoch 20/100\n",
            "77/77 [==============================] - 2s 29ms/step - loss: 0.1381 - val_loss: 0.3958\n",
            "Epoch 21/100\n",
            "77/77 [==============================] - 2s 29ms/step - loss: 0.1071 - val_loss: 0.3499\n",
            "Epoch 22/100\n",
            "77/77 [==============================] - 2s 29ms/step - loss: 0.1007 - val_loss: 0.3456\n",
            "Epoch 23/100\n",
            "77/77 [==============================] - 2s 29ms/step - loss: 0.0946 - val_loss: 0.3551\n",
            "Epoch 24/100\n",
            "77/77 [==============================] - 2s 29ms/step - loss: 0.0876 - val_loss: 0.3474\n",
            "Epoch 25/100\n",
            "77/77 [==============================] - 2s 29ms/step - loss: 0.0831 - val_loss: 0.3644\n",
            "Epoch 26/100\n",
            "77/77 [==============================] - 2s 29ms/step - loss: 0.1010 - val_loss: 0.3716\n",
            "Epoch 27/100\n",
            "77/77 [==============================] - 2s 29ms/step - loss: 0.0738 - val_loss: 0.3402\n",
            "Epoch 28/100\n",
            "77/77 [==============================] - 2s 29ms/step - loss: 0.0680 - val_loss: 0.3474\n",
            "Epoch 29/100\n",
            "77/77 [==============================] - 2s 29ms/step - loss: 0.0668 - val_loss: 0.3653\n",
            "Epoch 30/100\n",
            "77/77 [==============================] - 2s 29ms/step - loss: 0.0727 - val_loss: 0.3184\n",
            "Epoch 31/100\n",
            "77/77 [==============================] - 2s 29ms/step - loss: 0.0742 - val_loss: 0.3401\n",
            "Epoch 32/100\n",
            "77/77 [==============================] - 2s 29ms/step - loss: 0.0562 - val_loss: 0.3132\n",
            "Epoch 33/100\n",
            "77/77 [==============================] - 2s 29ms/step - loss: 0.0559 - val_loss: 0.3194\n",
            "Epoch 34/100\n",
            "77/77 [==============================] - 2s 29ms/step - loss: 0.0536 - val_loss: 0.3099\n",
            "Epoch 35/100\n",
            "77/77 [==============================] - 2s 30ms/step - loss: 0.0474 - val_loss: 0.3422\n",
            "Epoch 36/100\n",
            "77/77 [==============================] - 2s 29ms/step - loss: 0.0583 - val_loss: 0.3405\n",
            "Epoch 37/100\n",
            "77/77 [==============================] - 2s 29ms/step - loss: 0.0467 - val_loss: 0.3547\n",
            "Epoch 38/100\n",
            "77/77 [==============================] - 2s 30ms/step - loss: 0.0442 - val_loss: 0.3170\n",
            "Epoch 39/100\n",
            "77/77 [==============================] - 2s 30ms/step - loss: 0.0376 - val_loss: 0.3160\n",
            "Epoch 40/100\n",
            "77/77 [==============================] - 2s 30ms/step - loss: 0.0466 - val_loss: 0.3382\n",
            "Epoch 41/100\n",
            "77/77 [==============================] - 2s 29ms/step - loss: 0.0555 - val_loss: 0.3793\n",
            "Epoch 42/100\n",
            "77/77 [==============================] - 2s 29ms/step - loss: 0.0391 - val_loss: 0.3038\n",
            "Epoch 43/100\n",
            "77/77 [==============================] - 2s 29ms/step - loss: 0.0316 - val_loss: 0.3149\n",
            "Epoch 44/100\n",
            "77/77 [==============================] - 2s 30ms/step - loss: 0.0363 - val_loss: 0.3069\n",
            "Epoch 45/100\n",
            "77/77 [==============================] - 2s 29ms/step - loss: 0.0316 - val_loss: 0.3102\n",
            "Epoch 46/100\n",
            "77/77 [==============================] - 2s 30ms/step - loss: 0.0290 - val_loss: 0.3143\n",
            "Epoch 47/100\n",
            "77/77 [==============================] - 2s 30ms/step - loss: 0.0354 - val_loss: 0.3032\n",
            "Epoch 48/100\n",
            "77/77 [==============================] - 2s 29ms/step - loss: 0.0435 - val_loss: 0.3043\n",
            "Epoch 49/100\n",
            "77/77 [==============================] - 2s 29ms/step - loss: 0.0362 - val_loss: 0.3205\n",
            "Epoch 50/100\n",
            "77/77 [==============================] - 2s 29ms/step - loss: 0.0263 - val_loss: 0.3085\n",
            "Epoch 51/100\n",
            "77/77 [==============================] - 2s 29ms/step - loss: 0.0318 - val_loss: 0.3060\n",
            "Epoch 52/100\n",
            "77/77 [==============================] - 2s 29ms/step - loss: 0.0270 - val_loss: 0.3046\n",
            "Epoch 53/100\n",
            "77/77 [==============================] - 2s 29ms/step - loss: 0.0299 - val_loss: 0.3060\n",
            "Epoch 54/100\n",
            "77/77 [==============================] - 2s 29ms/step - loss: 0.0271 - val_loss: 0.3241\n",
            "Epoch 55/100\n",
            "77/77 [==============================] - 2s 29ms/step - loss: 0.0255 - val_loss: 0.2957\n",
            "Epoch 56/100\n",
            "77/77 [==============================] - 2s 30ms/step - loss: 0.0250 - val_loss: 0.2968\n",
            "Epoch 57/100\n",
            "77/77 [==============================] - 2s 29ms/step - loss: 0.0316 - val_loss: 0.3429\n",
            "Epoch 58/100\n",
            "77/77 [==============================] - 2s 30ms/step - loss: 0.0314 - val_loss: 0.3028\n",
            "Epoch 59/100\n",
            "77/77 [==============================] - 2s 30ms/step - loss: 0.0506 - val_loss: 0.3368\n",
            "Epoch 60/100\n",
            "77/77 [==============================] - 2s 30ms/step - loss: 0.0566 - val_loss: 0.3215\n",
            "Epoch 61/100\n",
            "77/77 [==============================] - 2s 30ms/step - loss: 0.0324 - val_loss: 0.3165\n",
            "Epoch 62/100\n",
            "77/77 [==============================] - 2s 30ms/step - loss: 0.0218 - val_loss: 0.3002\n",
            "Epoch 63/100\n",
            "77/77 [==============================] - 2s 30ms/step - loss: 0.0202 - val_loss: 0.3210\n",
            "Epoch 64/100\n",
            "77/77 [==============================] - 2s 29ms/step - loss: 0.0360 - val_loss: 0.3029\n",
            "Epoch 65/100\n",
            "77/77 [==============================] - 2s 30ms/step - loss: 0.0234 - val_loss: 0.2961\n",
            "Epoch 66/100\n",
            "77/77 [==============================] - 2s 30ms/step - loss: 0.0238 - val_loss: 0.3274\n",
            "Epoch 67/100\n",
            "77/77 [==============================] - 2s 29ms/step - loss: 0.0200 - val_loss: 0.2998\n",
            "Epoch 68/100\n",
            "77/77 [==============================] - 2s 29ms/step - loss: 0.0232 - val_loss: 0.3094\n",
            "Epoch 69/100\n",
            "77/77 [==============================] - 2s 29ms/step - loss: 0.0206 - val_loss: 0.2971\n",
            "Epoch 70/100\n",
            "77/77 [==============================] - 2s 29ms/step - loss: 0.0520 - val_loss: 0.3380\n",
            "Epoch 71/100\n",
            "77/77 [==============================] - 2s 29ms/step - loss: 0.0373 - val_loss: 0.3065\n",
            "Epoch 72/100\n",
            "77/77 [==============================] - 2s 29ms/step - loss: 0.0440 - val_loss: 0.3221\n",
            "Epoch 73/100\n",
            "77/77 [==============================] - 2s 29ms/step - loss: 0.0275 - val_loss: 0.2986\n",
            "Epoch 74/100\n",
            "77/77 [==============================] - 2s 29ms/step - loss: 0.0207 - val_loss: 0.2994\n",
            "Epoch 75/100\n",
            "77/77 [==============================] - 2s 29ms/step - loss: 0.0205 - val_loss: 0.2968\n",
            "Epoch 76/100\n",
            "77/77 [==============================] - 2s 29ms/step - loss: 0.0184 - val_loss: 0.3104\n",
            "Epoch 77/100\n",
            "77/77 [==============================] - 2s 29ms/step - loss: 0.0382 - val_loss: 0.4243\n",
            "Epoch 78/100\n",
            "77/77 [==============================] - 2s 29ms/step - loss: 0.0529 - val_loss: 0.4438\n",
            "Epoch 79/100\n",
            "77/77 [==============================] - 2s 29ms/step - loss: 0.0701 - val_loss: 0.3320\n",
            "Epoch 80/100\n",
            "77/77 [==============================] - 2s 29ms/step - loss: 0.0790 - val_loss: 0.3320\n",
            "Epoch 81/100\n",
            "77/77 [==============================] - 2s 29ms/step - loss: 0.0267 - val_loss: 0.3065\n",
            "Epoch 82/100\n",
            "77/77 [==============================] - 2s 29ms/step - loss: 0.0297 - val_loss: 0.3071\n",
            "Epoch 83/100\n",
            "77/77 [==============================] - 2s 29ms/step - loss: 0.0251 - val_loss: 0.3022\n",
            "Epoch 84/100\n",
            "77/77 [==============================] - 2s 29ms/step - loss: 0.0153 - val_loss: 0.3278\n",
            "Epoch 85/100\n",
            "77/77 [==============================] - 2s 29ms/step - loss: 0.0196 - val_loss: 0.3220\n",
            "Epoch 86/100\n",
            "77/77 [==============================] - 2s 29ms/step - loss: 0.0214 - val_loss: 0.2931\n",
            "Epoch 87/100\n",
            "77/77 [==============================] - 2s 29ms/step - loss: 0.0170 - val_loss: 0.2968\n",
            "Epoch 88/100\n",
            "77/77 [==============================] - 2s 30ms/step - loss: 0.0212 - val_loss: 0.2986\n",
            "Epoch 89/100\n",
            "77/77 [==============================] - 2s 29ms/step - loss: 0.0194 - val_loss: 0.2931\n",
            "Epoch 90/100\n",
            "77/77 [==============================] - 2s 30ms/step - loss: 0.0169 - val_loss: 0.3214\n",
            "Epoch 91/100\n",
            "77/77 [==============================] - 2s 30ms/step - loss: 0.0201 - val_loss: 0.2954\n",
            "Epoch 92/100\n",
            "77/77 [==============================] - 2s 29ms/step - loss: 0.0401 - val_loss: 0.3302\n",
            "Epoch 93/100\n",
            "77/77 [==============================] - 2s 29ms/step - loss: 0.0523 - val_loss: 0.4294\n",
            "Epoch 94/100\n",
            "77/77 [==============================] - 2s 29ms/step - loss: 0.1410 - val_loss: 0.3427\n",
            "Epoch 95/100\n",
            "77/77 [==============================] - 2s 30ms/step - loss: 0.0563 - val_loss: 0.2940\n",
            "Epoch 96/100\n",
            "77/77 [==============================] - 2s 29ms/step - loss: 0.0272 - val_loss: 0.3181\n",
            "Epoch 97/100\n",
            "77/77 [==============================] - 2s 30ms/step - loss: 0.0242 - val_loss: 0.3091\n",
            "Epoch 98/100\n",
            "77/77 [==============================] - 2s 30ms/step - loss: 0.0127 - val_loss: 0.3022\n",
            "Epoch 99/100\n",
            "77/77 [==============================] - 2s 29ms/step - loss: 0.0167 - val_loss: 0.2911\n",
            "Epoch 100/100\n",
            "77/77 [==============================] - 2s 30ms/step - loss: 0.0148 - val_loss: 0.2992\n"
          ]
        }
      ]
    },
    {
      "cell_type": "code",
      "source": [
        "augmented_finetuned_vgg_model.save('augmentedFinetunedVGG')"
      ],
      "metadata": {
        "colab": {
          "base_uri": "https://localhost:8080/"
        },
        "id": "nJFielRKmB2G",
        "outputId": "ddbe8d11-7590-4cec-b835-d4c64229262e"
      },
      "execution_count": 95,
      "outputs": [
        {
          "output_type": "stream",
          "name": "stderr",
          "text": [
            "WARNING:absl:Found untraced functions such as _jit_compiled_convolution_op, _jit_compiled_convolution_op, _jit_compiled_convolution_op, _jit_compiled_convolution_op, _jit_compiled_convolution_op while saving (showing 5 of 13). These functions will not be directly callable after loading.\n"
          ]
        }
      ]
    },
    {
      "cell_type": "code",
      "source": [
        "json.dump(augmented_finetuned_vgg_history.history, open('augmentedFinetunedVGG.json', 'w'))"
      ],
      "metadata": {
        "id": "4blEfXuim4b4"
      },
      "execution_count": 96,
      "outputs": []
    }
  ]
}